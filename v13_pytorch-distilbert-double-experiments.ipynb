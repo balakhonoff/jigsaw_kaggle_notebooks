{
 "cells": [
  {
   "cell_type": "markdown",
   "metadata": {},
   "source": [
    "**Pytorch BERT baseline**"
   ]
  },
  {
   "cell_type": "markdown",
   "metadata": {},
   "source": [
    "In this version, I convert https://www.kaggle.com/akensert/bert-base-tf2-0-minimalistic into pytorch version"
   ]
  },
  {
   "cell_type": "markdown",
   "metadata": {},
   "source": [
    "**Please upvote the kernel if you find it helpful**"
   ]
  },
  {
   "cell_type": "markdown",
   "metadata": {},
   "source": [
    "### Install HuggingFace transformers & sacremoses dependency"
   ]
  },
  {
   "cell_type": "markdown",
   "metadata": {},
   "source": [
    "As we are not allowed to use internet I've created required datasets and commands to setup Hugging Face Transformers setup in offline mode. You can find the required github codebases in the datasets.\n",
    "\n",
    "* sacremoses dependency - https://www.kaggle.com/axel81/sacremoses\n",
    "* transformers - https://www.kaggle.com/axel81/transformers"
   ]
  },
  {
   "cell_type": "code",
   "execution_count": 1,
   "metadata": {
    "_kg_hide-output": true
   },
   "outputs": [],
   "source": [
    "# !pip install ./sacremoses/sacremoses-master/\n",
    "# !pip install ./transformers/transformers-master/\n",
    "STRIDE = 1"
   ]
  },
  {
   "cell_type": "markdown",
   "metadata": {},
   "source": [
    "### Required Imports\n",
    "\n",
    "I've added imports that will be used in training too"
   ]
  },
  {
   "cell_type": "code",
   "execution_count": 2,
   "metadata": {},
   "outputs": [],
   "source": [
    "import pandas as pd\n",
    "import numpy as np\n",
    "import os\n",
    "import matplotlib.pyplot as plt\n",
    "import gc\n",
    "from shutil import copyfile\n",
    "DATA_DIR = '/kaggle/input/google-quest-challenge/'\n",
    "BERT_PATH = './bert-base-uncased/'\n",
    "df_train = pd.read_csv(DATA_DIR+'train.csv')\n",
    "def seed_everything(seed=1234):\n",
    "    random.seed(seed)\n",
    "    os.environ['PYTHONHASHSEED'] = str(seed)\n",
    "    np.random.seed(seed)\n",
    "    torch.manual_seed(seed)\n",
    "    torch.cuda.manual_seed(seed)\n",
    "    torch.backends.cudnn.deterministic = True"
   ]
  },
  {
   "cell_type": "code",
   "execution_count": null,
   "metadata": {},
   "outputs": [],
   "source": []
  },
  {
   "cell_type": "code",
   "execution_count": 3,
   "metadata": {},
   "outputs": [
    {
     "data": {
      "text/html": [
       "<div>\n",
       "<style scoped>\n",
       "    .dataframe tbody tr th:only-of-type {\n",
       "        vertical-align: middle;\n",
       "    }\n",
       "\n",
       "    .dataframe tbody tr th {\n",
       "        vertical-align: top;\n",
       "    }\n",
       "\n",
       "    .dataframe thead th {\n",
       "        text-align: right;\n",
       "    }\n",
       "</style>\n",
       "<table border=\"1\" class=\"dataframe\">\n",
       "  <thead>\n",
       "    <tr style=\"text-align: right;\">\n",
       "      <th></th>\n",
       "      <th>qa_id</th>\n",
       "      <th>question_asker_intent_understanding</th>\n",
       "      <th>question_body_critical</th>\n",
       "      <th>question_conversational</th>\n",
       "      <th>question_expect_short_answer</th>\n",
       "      <th>question_fact_seeking</th>\n",
       "      <th>question_has_commonly_accepted_answer</th>\n",
       "      <th>question_interestingness_others</th>\n",
       "      <th>question_interestingness_self</th>\n",
       "      <th>question_multi_intent</th>\n",
       "      <th>...</th>\n",
       "      <th>question_well_written</th>\n",
       "      <th>answer_helpful</th>\n",
       "      <th>answer_level_of_information</th>\n",
       "      <th>answer_plausible</th>\n",
       "      <th>answer_relevance</th>\n",
       "      <th>answer_satisfaction</th>\n",
       "      <th>answer_type_instructions</th>\n",
       "      <th>answer_type_procedure</th>\n",
       "      <th>answer_type_reason_explanation</th>\n",
       "      <th>answer_well_written</th>\n",
       "    </tr>\n",
       "  </thead>\n",
       "  <tbody>\n",
       "    <tr>\n",
       "      <th>0</th>\n",
       "      <td>39</td>\n",
       "      <td>0.00308</td>\n",
       "      <td>0.00308</td>\n",
       "      <td>0.00308</td>\n",
       "      <td>0.00308</td>\n",
       "      <td>0.00308</td>\n",
       "      <td>0.00308</td>\n",
       "      <td>0.00308</td>\n",
       "      <td>0.00308</td>\n",
       "      <td>0.00308</td>\n",
       "      <td>...</td>\n",
       "      <td>0.00308</td>\n",
       "      <td>0.00308</td>\n",
       "      <td>0.00308</td>\n",
       "      <td>0.00308</td>\n",
       "      <td>0.00308</td>\n",
       "      <td>0.00308</td>\n",
       "      <td>0.00308</td>\n",
       "      <td>0.00308</td>\n",
       "      <td>0.00308</td>\n",
       "      <td>0.00308</td>\n",
       "    </tr>\n",
       "    <tr>\n",
       "      <th>1</th>\n",
       "      <td>46</td>\n",
       "      <td>0.00448</td>\n",
       "      <td>0.00448</td>\n",
       "      <td>0.00448</td>\n",
       "      <td>0.00448</td>\n",
       "      <td>0.00448</td>\n",
       "      <td>0.00448</td>\n",
       "      <td>0.00448</td>\n",
       "      <td>0.00448</td>\n",
       "      <td>0.00448</td>\n",
       "      <td>...</td>\n",
       "      <td>0.00448</td>\n",
       "      <td>0.00448</td>\n",
       "      <td>0.00448</td>\n",
       "      <td>0.00448</td>\n",
       "      <td>0.00448</td>\n",
       "      <td>0.00448</td>\n",
       "      <td>0.00448</td>\n",
       "      <td>0.00448</td>\n",
       "      <td>0.00448</td>\n",
       "      <td>0.00448</td>\n",
       "    </tr>\n",
       "    <tr>\n",
       "      <th>2</th>\n",
       "      <td>70</td>\n",
       "      <td>0.00673</td>\n",
       "      <td>0.00673</td>\n",
       "      <td>0.00673</td>\n",
       "      <td>0.00673</td>\n",
       "      <td>0.00673</td>\n",
       "      <td>0.00673</td>\n",
       "      <td>0.00673</td>\n",
       "      <td>0.00673</td>\n",
       "      <td>0.00673</td>\n",
       "      <td>...</td>\n",
       "      <td>0.00673</td>\n",
       "      <td>0.00673</td>\n",
       "      <td>0.00673</td>\n",
       "      <td>0.00673</td>\n",
       "      <td>0.00673</td>\n",
       "      <td>0.00673</td>\n",
       "      <td>0.00673</td>\n",
       "      <td>0.00673</td>\n",
       "      <td>0.00673</td>\n",
       "      <td>0.00673</td>\n",
       "    </tr>\n",
       "    <tr>\n",
       "      <th>3</th>\n",
       "      <td>132</td>\n",
       "      <td>0.01401</td>\n",
       "      <td>0.01401</td>\n",
       "      <td>0.01401</td>\n",
       "      <td>0.01401</td>\n",
       "      <td>0.01401</td>\n",
       "      <td>0.01401</td>\n",
       "      <td>0.01401</td>\n",
       "      <td>0.01401</td>\n",
       "      <td>0.01401</td>\n",
       "      <td>...</td>\n",
       "      <td>0.01401</td>\n",
       "      <td>0.01401</td>\n",
       "      <td>0.01401</td>\n",
       "      <td>0.01401</td>\n",
       "      <td>0.01401</td>\n",
       "      <td>0.01401</td>\n",
       "      <td>0.01401</td>\n",
       "      <td>0.01401</td>\n",
       "      <td>0.01401</td>\n",
       "      <td>0.01401</td>\n",
       "    </tr>\n",
       "    <tr>\n",
       "      <th>4</th>\n",
       "      <td>200</td>\n",
       "      <td>0.02074</td>\n",
       "      <td>0.02074</td>\n",
       "      <td>0.02074</td>\n",
       "      <td>0.02074</td>\n",
       "      <td>0.02074</td>\n",
       "      <td>0.02074</td>\n",
       "      <td>0.02074</td>\n",
       "      <td>0.02074</td>\n",
       "      <td>0.02074</td>\n",
       "      <td>...</td>\n",
       "      <td>0.02074</td>\n",
       "      <td>0.02074</td>\n",
       "      <td>0.02074</td>\n",
       "      <td>0.02074</td>\n",
       "      <td>0.02074</td>\n",
       "      <td>0.02074</td>\n",
       "      <td>0.02074</td>\n",
       "      <td>0.02074</td>\n",
       "      <td>0.02074</td>\n",
       "      <td>0.02074</td>\n",
       "    </tr>\n",
       "  </tbody>\n",
       "</table>\n",
       "<p>5 rows × 31 columns</p>\n",
       "</div>"
      ],
      "text/plain": [
       "   qa_id  question_asker_intent_understanding  question_body_critical  \\\n",
       "0     39                              0.00308                 0.00308   \n",
       "1     46                              0.00448                 0.00448   \n",
       "2     70                              0.00673                 0.00673   \n",
       "3    132                              0.01401                 0.01401   \n",
       "4    200                              0.02074                 0.02074   \n",
       "\n",
       "   question_conversational  question_expect_short_answer  \\\n",
       "0                  0.00308                       0.00308   \n",
       "1                  0.00448                       0.00448   \n",
       "2                  0.00673                       0.00673   \n",
       "3                  0.01401                       0.01401   \n",
       "4                  0.02074                       0.02074   \n",
       "\n",
       "   question_fact_seeking  question_has_commonly_accepted_answer  \\\n",
       "0                0.00308                                0.00308   \n",
       "1                0.00448                                0.00448   \n",
       "2                0.00673                                0.00673   \n",
       "3                0.01401                                0.01401   \n",
       "4                0.02074                                0.02074   \n",
       "\n",
       "   question_interestingness_others  question_interestingness_self  \\\n",
       "0                          0.00308                        0.00308   \n",
       "1                          0.00448                        0.00448   \n",
       "2                          0.00673                        0.00673   \n",
       "3                          0.01401                        0.01401   \n",
       "4                          0.02074                        0.02074   \n",
       "\n",
       "   question_multi_intent  ...  question_well_written  answer_helpful  \\\n",
       "0                0.00308  ...                0.00308         0.00308   \n",
       "1                0.00448  ...                0.00448         0.00448   \n",
       "2                0.00673  ...                0.00673         0.00673   \n",
       "3                0.01401  ...                0.01401         0.01401   \n",
       "4                0.02074  ...                0.02074         0.02074   \n",
       "\n",
       "   answer_level_of_information  answer_plausible  answer_relevance  \\\n",
       "0                      0.00308           0.00308           0.00308   \n",
       "1                      0.00448           0.00448           0.00448   \n",
       "2                      0.00673           0.00673           0.00673   \n",
       "3                      0.01401           0.01401           0.01401   \n",
       "4                      0.02074           0.02074           0.02074   \n",
       "\n",
       "   answer_satisfaction  answer_type_instructions  answer_type_procedure  \\\n",
       "0              0.00308                   0.00308                0.00308   \n",
       "1              0.00448                   0.00448                0.00448   \n",
       "2              0.00673                   0.00673                0.00673   \n",
       "3              0.01401                   0.01401                0.01401   \n",
       "4              0.02074                   0.02074                0.02074   \n",
       "\n",
       "   answer_type_reason_explanation  answer_well_written  \n",
       "0                         0.00308              0.00308  \n",
       "1                         0.00448              0.00448  \n",
       "2                         0.00673              0.00673  \n",
       "3                         0.01401              0.01401  \n",
       "4                         0.02074              0.02074  \n",
       "\n",
       "[5 rows x 31 columns]"
      ]
     },
     "execution_count": 3,
     "metadata": {},
     "output_type": "execute_result"
    }
   ],
   "source": [
    "sub = pd.read_csv(f'{DATA_DIR}/sample_submission.csv')\n",
    "sub.head()"
   ]
  },
  {
   "cell_type": "code",
   "execution_count": 4,
   "metadata": {},
   "outputs": [
    {
     "data": {
      "text/plain": [
       "['question_asker_intent_understanding',\n",
       " 'question_body_critical',\n",
       " 'question_conversational',\n",
       " 'question_expect_short_answer',\n",
       " 'question_fact_seeking',\n",
       " 'question_has_commonly_accepted_answer',\n",
       " 'question_interestingness_others',\n",
       " 'question_interestingness_self',\n",
       " 'question_multi_intent',\n",
       " 'question_not_really_a_question',\n",
       " 'question_opinion_seeking',\n",
       " 'question_type_choice',\n",
       " 'question_type_compare',\n",
       " 'question_type_consequence',\n",
       " 'question_type_definition',\n",
       " 'question_type_entity',\n",
       " 'question_type_instructions',\n",
       " 'question_type_procedure',\n",
       " 'question_type_reason_explanation',\n",
       " 'question_type_spelling',\n",
       " 'question_well_written',\n",
       " 'answer_helpful',\n",
       " 'answer_level_of_information',\n",
       " 'answer_plausible',\n",
       " 'answer_relevance',\n",
       " 'answer_satisfaction',\n",
       " 'answer_type_instructions',\n",
       " 'answer_type_procedure',\n",
       " 'answer_type_reason_explanation',\n",
       " 'answer_well_written']"
      ]
     },
     "execution_count": 4,
     "metadata": {},
     "output_type": "execute_result"
    }
   ],
   "source": [
    "target_columns = sub.columns.values[1:].tolist()\n",
    "target_columns"
   ]
  },
  {
   "cell_type": "markdown",
   "metadata": {},
   "source": [
    "### Define dataset"
   ]
  },
  {
   "cell_type": "code",
   "execution_count": 5,
   "metadata": {},
   "outputs": [
    {
     "data": {
      "text/html": [
       "<div>\n",
       "<style scoped>\n",
       "    .dataframe tbody tr th:only-of-type {\n",
       "        vertical-align: middle;\n",
       "    }\n",
       "\n",
       "    .dataframe tbody tr th {\n",
       "        vertical-align: top;\n",
       "    }\n",
       "\n",
       "    .dataframe thead th {\n",
       "        text-align: right;\n",
       "    }\n",
       "</style>\n",
       "<table border=\"1\" class=\"dataframe\">\n",
       "  <thead>\n",
       "    <tr style=\"text-align: right;\">\n",
       "      <th></th>\n",
       "      <th>qa_id</th>\n",
       "      <th>question_title</th>\n",
       "      <th>question_body</th>\n",
       "      <th>question_user_name</th>\n",
       "      <th>question_user_page</th>\n",
       "      <th>answer</th>\n",
       "      <th>answer_user_name</th>\n",
       "      <th>answer_user_page</th>\n",
       "      <th>url</th>\n",
       "      <th>category</th>\n",
       "      <th>...</th>\n",
       "      <th>question_well_written</th>\n",
       "      <th>answer_helpful</th>\n",
       "      <th>answer_level_of_information</th>\n",
       "      <th>answer_plausible</th>\n",
       "      <th>answer_relevance</th>\n",
       "      <th>answer_satisfaction</th>\n",
       "      <th>answer_type_instructions</th>\n",
       "      <th>answer_type_procedure</th>\n",
       "      <th>answer_type_reason_explanation</th>\n",
       "      <th>answer_well_written</th>\n",
       "    </tr>\n",
       "  </thead>\n",
       "  <tbody>\n",
       "    <tr>\n",
       "      <th>0</th>\n",
       "      <td>0</td>\n",
       "      <td>What am I losing when using extension tubes in...</td>\n",
       "      <td>After playing around with macro photography on...</td>\n",
       "      <td>ysap</td>\n",
       "      <td>https://photo.stackexchange.com/users/1024</td>\n",
       "      <td>I just got extension tubes, so here's the skin...</td>\n",
       "      <td>rfusca</td>\n",
       "      <td>https://photo.stackexchange.com/users/1917</td>\n",
       "      <td>http://photo.stackexchange.com/questions/9169/...</td>\n",
       "      <td>LIFE_ARTS</td>\n",
       "      <td>...</td>\n",
       "      <td>1.000000</td>\n",
       "      <td>1.000000</td>\n",
       "      <td>0.666667</td>\n",
       "      <td>1.000000</td>\n",
       "      <td>1.000000</td>\n",
       "      <td>0.800000</td>\n",
       "      <td>1.0</td>\n",
       "      <td>0.000000</td>\n",
       "      <td>0.000000</td>\n",
       "      <td>1.000000</td>\n",
       "    </tr>\n",
       "    <tr>\n",
       "      <th>1</th>\n",
       "      <td>1</td>\n",
       "      <td>What is the distinction between a city and a s...</td>\n",
       "      <td>I am trying to understand what kinds of places...</td>\n",
       "      <td>russellpierce</td>\n",
       "      <td>https://rpg.stackexchange.com/users/8774</td>\n",
       "      <td>It might be helpful to look into the definitio...</td>\n",
       "      <td>Erik Schmidt</td>\n",
       "      <td>https://rpg.stackexchange.com/users/1871</td>\n",
       "      <td>http://rpg.stackexchange.com/questions/47820/w...</td>\n",
       "      <td>CULTURE</td>\n",
       "      <td>...</td>\n",
       "      <td>0.888889</td>\n",
       "      <td>0.888889</td>\n",
       "      <td>0.555556</td>\n",
       "      <td>0.888889</td>\n",
       "      <td>0.888889</td>\n",
       "      <td>0.666667</td>\n",
       "      <td>0.0</td>\n",
       "      <td>0.000000</td>\n",
       "      <td>0.666667</td>\n",
       "      <td>0.888889</td>\n",
       "    </tr>\n",
       "    <tr>\n",
       "      <th>2</th>\n",
       "      <td>2</td>\n",
       "      <td>Maximum protusion length for through-hole comp...</td>\n",
       "      <td>I'm working on a PCB that has through-hole com...</td>\n",
       "      <td>Joe Baker</td>\n",
       "      <td>https://electronics.stackexchange.com/users/10157</td>\n",
       "      <td>Do you even need grooves?  We make several pro...</td>\n",
       "      <td>Dwayne Reid</td>\n",
       "      <td>https://electronics.stackexchange.com/users/64754</td>\n",
       "      <td>http://electronics.stackexchange.com/questions...</td>\n",
       "      <td>SCIENCE</td>\n",
       "      <td>...</td>\n",
       "      <td>0.777778</td>\n",
       "      <td>0.777778</td>\n",
       "      <td>0.555556</td>\n",
       "      <td>1.000000</td>\n",
       "      <td>1.000000</td>\n",
       "      <td>0.666667</td>\n",
       "      <td>0.0</td>\n",
       "      <td>0.333333</td>\n",
       "      <td>1.000000</td>\n",
       "      <td>0.888889</td>\n",
       "    </tr>\n",
       "    <tr>\n",
       "      <th>3</th>\n",
       "      <td>3</td>\n",
       "      <td>Can an affidavit be used in Beit Din?</td>\n",
       "      <td>An affidavit, from what i understand, is basic...</td>\n",
       "      <td>Scimonster</td>\n",
       "      <td>https://judaism.stackexchange.com/users/5151</td>\n",
       "      <td>Sending an \"affidavit\" it is a dispute between...</td>\n",
       "      <td>Y     e     z</td>\n",
       "      <td>https://judaism.stackexchange.com/users/4794</td>\n",
       "      <td>http://judaism.stackexchange.com/questions/551...</td>\n",
       "      <td>CULTURE</td>\n",
       "      <td>...</td>\n",
       "      <td>0.888889</td>\n",
       "      <td>0.833333</td>\n",
       "      <td>0.333333</td>\n",
       "      <td>0.833333</td>\n",
       "      <td>1.000000</td>\n",
       "      <td>0.800000</td>\n",
       "      <td>0.0</td>\n",
       "      <td>0.000000</td>\n",
       "      <td>1.000000</td>\n",
       "      <td>1.000000</td>\n",
       "    </tr>\n",
       "    <tr>\n",
       "      <th>4</th>\n",
       "      <td>5</td>\n",
       "      <td>How do you make a binary image in Photoshop?</td>\n",
       "      <td>I am trying to make a binary image. I want mor...</td>\n",
       "      <td>leigero</td>\n",
       "      <td>https://graphicdesign.stackexchange.com/users/...</td>\n",
       "      <td>Check out Image Trace in Adobe Illustrator. \\n...</td>\n",
       "      <td>q2ra</td>\n",
       "      <td>https://graphicdesign.stackexchange.com/users/...</td>\n",
       "      <td>http://graphicdesign.stackexchange.com/questio...</td>\n",
       "      <td>LIFE_ARTS</td>\n",
       "      <td>...</td>\n",
       "      <td>1.000000</td>\n",
       "      <td>1.000000</td>\n",
       "      <td>0.666667</td>\n",
       "      <td>1.000000</td>\n",
       "      <td>1.000000</td>\n",
       "      <td>0.800000</td>\n",
       "      <td>1.0</td>\n",
       "      <td>0.000000</td>\n",
       "      <td>1.000000</td>\n",
       "      <td>1.000000</td>\n",
       "    </tr>\n",
       "  </tbody>\n",
       "</table>\n",
       "<p>5 rows × 41 columns</p>\n",
       "</div>"
      ],
      "text/plain": [
       "   qa_id                                     question_title  \\\n",
       "0      0  What am I losing when using extension tubes in...   \n",
       "1      1  What is the distinction between a city and a s...   \n",
       "2      2  Maximum protusion length for through-hole comp...   \n",
       "3      3              Can an affidavit be used in Beit Din?   \n",
       "4      5       How do you make a binary image in Photoshop?   \n",
       "\n",
       "                                       question_body question_user_name  \\\n",
       "0  After playing around with macro photography on...               ysap   \n",
       "1  I am trying to understand what kinds of places...      russellpierce   \n",
       "2  I'm working on a PCB that has through-hole com...          Joe Baker   \n",
       "3  An affidavit, from what i understand, is basic...         Scimonster   \n",
       "4  I am trying to make a binary image. I want mor...            leigero   \n",
       "\n",
       "                                  question_user_page  \\\n",
       "0         https://photo.stackexchange.com/users/1024   \n",
       "1           https://rpg.stackexchange.com/users/8774   \n",
       "2  https://electronics.stackexchange.com/users/10157   \n",
       "3       https://judaism.stackexchange.com/users/5151   \n",
       "4  https://graphicdesign.stackexchange.com/users/...   \n",
       "\n",
       "                                              answer answer_user_name  \\\n",
       "0  I just got extension tubes, so here's the skin...           rfusca   \n",
       "1  It might be helpful to look into the definitio...     Erik Schmidt   \n",
       "2  Do you even need grooves?  We make several pro...      Dwayne Reid   \n",
       "3  Sending an \"affidavit\" it is a dispute between...    Y     e     z   \n",
       "4  Check out Image Trace in Adobe Illustrator. \\n...             q2ra   \n",
       "\n",
       "                                    answer_user_page  \\\n",
       "0         https://photo.stackexchange.com/users/1917   \n",
       "1           https://rpg.stackexchange.com/users/1871   \n",
       "2  https://electronics.stackexchange.com/users/64754   \n",
       "3       https://judaism.stackexchange.com/users/4794   \n",
       "4  https://graphicdesign.stackexchange.com/users/...   \n",
       "\n",
       "                                                 url   category  ...  \\\n",
       "0  http://photo.stackexchange.com/questions/9169/...  LIFE_ARTS  ...   \n",
       "1  http://rpg.stackexchange.com/questions/47820/w...    CULTURE  ...   \n",
       "2  http://electronics.stackexchange.com/questions...    SCIENCE  ...   \n",
       "3  http://judaism.stackexchange.com/questions/551...    CULTURE  ...   \n",
       "4  http://graphicdesign.stackexchange.com/questio...  LIFE_ARTS  ...   \n",
       "\n",
       "  question_well_written  answer_helpful  answer_level_of_information  \\\n",
       "0              1.000000        1.000000                     0.666667   \n",
       "1              0.888889        0.888889                     0.555556   \n",
       "2              0.777778        0.777778                     0.555556   \n",
       "3              0.888889        0.833333                     0.333333   \n",
       "4              1.000000        1.000000                     0.666667   \n",
       "\n",
       "   answer_plausible  answer_relevance  answer_satisfaction  \\\n",
       "0          1.000000          1.000000             0.800000   \n",
       "1          0.888889          0.888889             0.666667   \n",
       "2          1.000000          1.000000             0.666667   \n",
       "3          0.833333          1.000000             0.800000   \n",
       "4          1.000000          1.000000             0.800000   \n",
       "\n",
       "   answer_type_instructions  answer_type_procedure  \\\n",
       "0                       1.0               0.000000   \n",
       "1                       0.0               0.000000   \n",
       "2                       0.0               0.333333   \n",
       "3                       0.0               0.000000   \n",
       "4                       1.0               0.000000   \n",
       "\n",
       "   answer_type_reason_explanation  answer_well_written  \n",
       "0                        0.000000             1.000000  \n",
       "1                        0.666667             0.888889  \n",
       "2                        1.000000             0.888889  \n",
       "3                        1.000000             1.000000  \n",
       "4                        1.000000             1.000000  \n",
       "\n",
       "[5 rows x 41 columns]"
      ]
     },
     "execution_count": 5,
     "metadata": {},
     "output_type": "execute_result"
    }
   ],
   "source": [
    "train = pd.read_csv(f'{DATA_DIR}/train.csv')\n",
    "train.head()"
   ]
  },
  {
   "cell_type": "code",
   "execution_count": 6,
   "metadata": {},
   "outputs": [
    {
     "data": {
      "text/html": [
       "<div>\n",
       "<style scoped>\n",
       "    .dataframe tbody tr th:only-of-type {\n",
       "        vertical-align: middle;\n",
       "    }\n",
       "\n",
       "    .dataframe tbody tr th {\n",
       "        vertical-align: top;\n",
       "    }\n",
       "\n",
       "    .dataframe thead th {\n",
       "        text-align: right;\n",
       "    }\n",
       "</style>\n",
       "<table border=\"1\" class=\"dataframe\">\n",
       "  <thead>\n",
       "    <tr style=\"text-align: right;\">\n",
       "      <th></th>\n",
       "      <th>qa_id</th>\n",
       "      <th>question_title</th>\n",
       "      <th>question_body</th>\n",
       "      <th>question_user_name</th>\n",
       "      <th>question_user_page</th>\n",
       "      <th>answer</th>\n",
       "      <th>answer_user_name</th>\n",
       "      <th>answer_user_page</th>\n",
       "      <th>url</th>\n",
       "      <th>category</th>\n",
       "      <th>host</th>\n",
       "    </tr>\n",
       "  </thead>\n",
       "  <tbody>\n",
       "    <tr>\n",
       "      <th>0</th>\n",
       "      <td>39</td>\n",
       "      <td>Will leaving corpses lying around upset my pri...</td>\n",
       "      <td>I see questions/information online about how t...</td>\n",
       "      <td>Dylan</td>\n",
       "      <td>https://gaming.stackexchange.com/users/64471</td>\n",
       "      <td>There is no consequence for leaving corpses an...</td>\n",
       "      <td>Nelson868</td>\n",
       "      <td>https://gaming.stackexchange.com/users/97324</td>\n",
       "      <td>http://gaming.stackexchange.com/questions/1979...</td>\n",
       "      <td>CULTURE</td>\n",
       "      <td>gaming.stackexchange.com</td>\n",
       "    </tr>\n",
       "    <tr>\n",
       "      <th>1</th>\n",
       "      <td>46</td>\n",
       "      <td>Url link to feature image in the portfolio</td>\n",
       "      <td>I am new to Wordpress. i have issue with Featu...</td>\n",
       "      <td>Anu</td>\n",
       "      <td>https://wordpress.stackexchange.com/users/72927</td>\n",
       "      <td>I think it is possible with custom fields.\\n\\n...</td>\n",
       "      <td>Irina</td>\n",
       "      <td>https://wordpress.stackexchange.com/users/27233</td>\n",
       "      <td>http://wordpress.stackexchange.com/questions/1...</td>\n",
       "      <td>TECHNOLOGY</td>\n",
       "      <td>wordpress.stackexchange.com</td>\n",
       "    </tr>\n",
       "    <tr>\n",
       "      <th>2</th>\n",
       "      <td>70</td>\n",
       "      <td>Is accuracy, recoil or bullet spread affected ...</td>\n",
       "      <td>To experiment I started a bot game, toggled in...</td>\n",
       "      <td>Konsta</td>\n",
       "      <td>https://gaming.stackexchange.com/users/37545</td>\n",
       "      <td>You do not have armour in the screenshots. Thi...</td>\n",
       "      <td>Damon Smithies</td>\n",
       "      <td>https://gaming.stackexchange.com/users/70641</td>\n",
       "      <td>http://gaming.stackexchange.com/questions/2154...</td>\n",
       "      <td>CULTURE</td>\n",
       "      <td>gaming.stackexchange.com</td>\n",
       "    </tr>\n",
       "    <tr>\n",
       "      <th>3</th>\n",
       "      <td>132</td>\n",
       "      <td>Suddenly got an I/O error from my external HDD</td>\n",
       "      <td>I have used my Raspberry Pi as a torrent-serve...</td>\n",
       "      <td>robbannn</td>\n",
       "      <td>https://raspberrypi.stackexchange.com/users/17341</td>\n",
       "      <td>Your Western Digital hard drive is disappearin...</td>\n",
       "      <td>HeatfanJohn</td>\n",
       "      <td>https://raspberrypi.stackexchange.com/users/1311</td>\n",
       "      <td>http://raspberrypi.stackexchange.com/questions...</td>\n",
       "      <td>TECHNOLOGY</td>\n",
       "      <td>raspberrypi.stackexchange.com</td>\n",
       "    </tr>\n",
       "    <tr>\n",
       "      <th>4</th>\n",
       "      <td>200</td>\n",
       "      <td>Passenger Name - Flight Booking Passenger only...</td>\n",
       "      <td>I have bought Delhi-London return flights for ...</td>\n",
       "      <td>Amit</td>\n",
       "      <td>https://travel.stackexchange.com/users/29089</td>\n",
       "      <td>I called two persons who work for Saudia (tick...</td>\n",
       "      <td>Nean Der Thal</td>\n",
       "      <td>https://travel.stackexchange.com/users/10051</td>\n",
       "      <td>http://travel.stackexchange.com/questions/4704...</td>\n",
       "      <td>CULTURE</td>\n",
       "      <td>travel.stackexchange.com</td>\n",
       "    </tr>\n",
       "    <tr>\n",
       "      <th>5</th>\n",
       "      <td>245</td>\n",
       "      <td>Exactly how are Avenger elites buffed when one...</td>\n",
       "      <td>I understand that elites with the Avenger prop...</td>\n",
       "      <td>Sterno</td>\n",
       "      <td>https://gaming.stackexchange.com/users/3062</td>\n",
       "      <td>\\n  Only Champion monster types will spawn wit...</td>\n",
       "      <td>ayckoster</td>\n",
       "      <td>https://gaming.stackexchange.com/users/10933</td>\n",
       "      <td>http://gaming.stackexchange.com/questions/7041...</td>\n",
       "      <td>CULTURE</td>\n",
       "      <td>gaming.stackexchange.com</td>\n",
       "    </tr>\n",
       "    <tr>\n",
       "      <th>6</th>\n",
       "      <td>257</td>\n",
       "      <td>Configure which plugin custom post types get r...</td>\n",
       "      <td>I am writing a plugin that creates custom post...</td>\n",
       "      <td>Rabbott</td>\n",
       "      <td>https://wordpress.stackexchange.com/users/35459</td>\n",
       "      <td>\\n  The issue i'm having is that custom post t...</td>\n",
       "      <td>RRikesh</td>\n",
       "      <td>https://wordpress.stackexchange.com/users/17305</td>\n",
       "      <td>http://wordpress.stackexchange.com/questions/1...</td>\n",
       "      <td>TECHNOLOGY</td>\n",
       "      <td>wordpress.stackexchange.com</td>\n",
       "    </tr>\n",
       "    <tr>\n",
       "      <th>7</th>\n",
       "      <td>267</td>\n",
       "      <td>Why say \"it rhymes with Grape\"?</td>\n",
       "      <td>There is a scene in 21 Jumpstreet where Dave F...</td>\n",
       "      <td>Kevin Howell</td>\n",
       "      <td>https://movies.stackexchange.com/users/645</td>\n",
       "      <td>Opinion: It was a funny(?) joke.\\n\\nAlthough a...</td>\n",
       "      <td>Andrew Martin</td>\n",
       "      <td>https://movies.stackexchange.com/users/8219</td>\n",
       "      <td>http://movies.stackexchange.com/questions/2109...</td>\n",
       "      <td>LIFE_ARTS</td>\n",
       "      <td>movies.stackexchange.com</td>\n",
       "    </tr>\n",
       "    <tr>\n",
       "      <th>8</th>\n",
       "      <td>284</td>\n",
       "      <td>c++ getline and stringstream</td>\n",
       "      <td>I'm trying to read in a file, which has 5 line...</td>\n",
       "      <td>wfmn17</td>\n",
       "      <td>https://stackoverflow.com/users/1430743</td>\n",
       "      <td>If &amp;gt;&amp;gt; sees that there is nothing left in...</td>\n",
       "      <td>Aasmund Eldhuset</td>\n",
       "      <td>https://stackoverflow.com/users/626853</td>\n",
       "      <td>http://stackoverflow.com/questions/16374187/c-...</td>\n",
       "      <td>STACKOVERFLOW</td>\n",
       "      <td>stackoverflow.com</td>\n",
       "    </tr>\n",
       "    <tr>\n",
       "      <th>9</th>\n",
       "      <td>292</td>\n",
       "      <td>Outlook doesn't download all emails, whereas i...</td>\n",
       "      <td>When I check my emails on my iPhone, I notice ...</td>\n",
       "      <td>Samantha</td>\n",
       "      <td>https://superuser.com/users/148771</td>\n",
       "      <td>It could be that your iPhone is deleting the m...</td>\n",
       "      <td>Tanner Faulkner</td>\n",
       "      <td>https://superuser.com/users/146694</td>\n",
       "      <td>http://superuser.com/questions/454556</td>\n",
       "      <td>TECHNOLOGY</td>\n",
       "      <td>superuser.com</td>\n",
       "    </tr>\n",
       "    <tr>\n",
       "      <th>10</th>\n",
       "      <td>296</td>\n",
       "      <td>modify strip_tags function to use term slug in...</td>\n",
       "      <td>I have a small function to get post categories...</td>\n",
       "      <td>wordfool</td>\n",
       "      <td>https://wordpress.stackexchange.com/users/67759</td>\n",
       "      <td>While I can't guarentee that this is what you ...</td>\n",
       "      <td>David Gard</td>\n",
       "      <td>https://wordpress.stackexchange.com/users/10097</td>\n",
       "      <td>http://wordpress.stackexchange.com/questions/1...</td>\n",
       "      <td>TECHNOLOGY</td>\n",
       "      <td>wordpress.stackexchange.com</td>\n",
       "    </tr>\n",
       "    <tr>\n",
       "      <th>11</th>\n",
       "      <td>312</td>\n",
       "      <td>What happens if ~3.3v is connected to a GPIO s...</td>\n",
       "      <td>If ~3.3v is connected to a GPIO set as output,...</td>\n",
       "      <td>TheJamaicanGuy</td>\n",
       "      <td>https://raspberrypi.stackexchange.com/users/24502</td>\n",
       "      <td>Possibly.\\n\\nIf the gpio is at logic 1 it is a...</td>\n",
       "      <td>joan</td>\n",
       "      <td>https://raspberrypi.stackexchange.com/users/13650</td>\n",
       "      <td>http://raspberrypi.stackexchange.com/questions...</td>\n",
       "      <td>TECHNOLOGY</td>\n",
       "      <td>raspberrypi.stackexchange.com</td>\n",
       "    </tr>\n",
       "    <tr>\n",
       "      <th>12</th>\n",
       "      <td>322</td>\n",
       "      <td>How to add custom fields to menu items</td>\n",
       "      <td>I've been looking at using menu attributes mod...</td>\n",
       "      <td>Jared</td>\n",
       "      <td>https://drupal.stackexchange.com/users/10963</td>\n",
       "      <td>You can use hook_form_alter to alter the menu ...</td>\n",
       "      <td>Robin</td>\n",
       "      <td>https://drupal.stackexchange.com/users/36797</td>\n",
       "      <td>http://drupal.stackexchange.com/questions/1353...</td>\n",
       "      <td>TECHNOLOGY</td>\n",
       "      <td>drupal.stackexchange.com</td>\n",
       "    </tr>\n",
       "    <tr>\n",
       "      <th>13</th>\n",
       "      <td>327</td>\n",
       "      <td>HTC Droid Incredible 2 Imei Location</td>\n",
       "      <td>what is the location of imei number for androi...</td>\n",
       "      <td>Olgun Kaya</td>\n",
       "      <td>https://android.stackexchange.com/users/7384</td>\n",
       "      <td>go to settings -&amp;gt; about-phone-&amp;gt; phone id...</td>\n",
       "      <td>Padma Kumar</td>\n",
       "      <td>https://android.stackexchange.com/users/9529</td>\n",
       "      <td>http://android.stackexchange.com/questions/176...</td>\n",
       "      <td>TECHNOLOGY</td>\n",
       "      <td>android.stackexchange.com</td>\n",
       "    </tr>\n",
       "    <tr>\n",
       "      <th>14</th>\n",
       "      <td>334</td>\n",
       "      <td>is there a scalaTest mechanism similar to Test...</td>\n",
       "      <td>Can I have dependencies between scalaTest spec...</td>\n",
       "      <td>user44242</td>\n",
       "      <td>https://stackoverflow.com/users/44242</td>\n",
       "      <td>Here is a Scala trait that makes all test in t...</td>\n",
       "      <td>KajMagnus</td>\n",
       "      <td>https://stackoverflow.com/users/694469</td>\n",
       "      <td>http://stackoverflow.com/questions/7009659/is-...</td>\n",
       "      <td>STACKOVERFLOW</td>\n",
       "      <td>stackoverflow.com</td>\n",
       "    </tr>\n",
       "  </tbody>\n",
       "</table>\n",
       "</div>"
      ],
      "text/plain": [
       "    qa_id                                     question_title  \\\n",
       "0      39  Will leaving corpses lying around upset my pri...   \n",
       "1      46         Url link to feature image in the portfolio   \n",
       "2      70  Is accuracy, recoil or bullet spread affected ...   \n",
       "3     132     Suddenly got an I/O error from my external HDD   \n",
       "4     200  Passenger Name - Flight Booking Passenger only...   \n",
       "5     245  Exactly how are Avenger elites buffed when one...   \n",
       "6     257  Configure which plugin custom post types get r...   \n",
       "7     267                    Why say \"it rhymes with Grape\"?   \n",
       "8     284                       c++ getline and stringstream   \n",
       "9     292  Outlook doesn't download all emails, whereas i...   \n",
       "10    296  modify strip_tags function to use term slug in...   \n",
       "11    312  What happens if ~3.3v is connected to a GPIO s...   \n",
       "12    322             How to add custom fields to menu items   \n",
       "13    327               HTC Droid Incredible 2 Imei Location   \n",
       "14    334  is there a scalaTest mechanism similar to Test...   \n",
       "\n",
       "                                        question_body question_user_name  \\\n",
       "0   I see questions/information online about how t...              Dylan   \n",
       "1   I am new to Wordpress. i have issue with Featu...                Anu   \n",
       "2   To experiment I started a bot game, toggled in...             Konsta   \n",
       "3   I have used my Raspberry Pi as a torrent-serve...           robbannn   \n",
       "4   I have bought Delhi-London return flights for ...               Amit   \n",
       "5   I understand that elites with the Avenger prop...             Sterno   \n",
       "6   I am writing a plugin that creates custom post...            Rabbott   \n",
       "7   There is a scene in 21 Jumpstreet where Dave F...       Kevin Howell   \n",
       "8   I'm trying to read in a file, which has 5 line...             wfmn17   \n",
       "9   When I check my emails on my iPhone, I notice ...           Samantha   \n",
       "10  I have a small function to get post categories...           wordfool   \n",
       "11  If ~3.3v is connected to a GPIO set as output,...     TheJamaicanGuy   \n",
       "12  I've been looking at using menu attributes mod...              Jared   \n",
       "13  what is the location of imei number for androi...         Olgun Kaya   \n",
       "14  Can I have dependencies between scalaTest spec...          user44242   \n",
       "\n",
       "                                   question_user_page  \\\n",
       "0        https://gaming.stackexchange.com/users/64471   \n",
       "1     https://wordpress.stackexchange.com/users/72927   \n",
       "2        https://gaming.stackexchange.com/users/37545   \n",
       "3   https://raspberrypi.stackexchange.com/users/17341   \n",
       "4        https://travel.stackexchange.com/users/29089   \n",
       "5         https://gaming.stackexchange.com/users/3062   \n",
       "6     https://wordpress.stackexchange.com/users/35459   \n",
       "7          https://movies.stackexchange.com/users/645   \n",
       "8             https://stackoverflow.com/users/1430743   \n",
       "9                  https://superuser.com/users/148771   \n",
       "10    https://wordpress.stackexchange.com/users/67759   \n",
       "11  https://raspberrypi.stackexchange.com/users/24502   \n",
       "12       https://drupal.stackexchange.com/users/10963   \n",
       "13       https://android.stackexchange.com/users/7384   \n",
       "14              https://stackoverflow.com/users/44242   \n",
       "\n",
       "                                               answer  answer_user_name  \\\n",
       "0   There is no consequence for leaving corpses an...         Nelson868   \n",
       "1   I think it is possible with custom fields.\\n\\n...             Irina   \n",
       "2   You do not have armour in the screenshots. Thi...    Damon Smithies   \n",
       "3   Your Western Digital hard drive is disappearin...       HeatfanJohn   \n",
       "4   I called two persons who work for Saudia (tick...     Nean Der Thal   \n",
       "5   \\n  Only Champion monster types will spawn wit...         ayckoster   \n",
       "6   \\n  The issue i'm having is that custom post t...           RRikesh   \n",
       "7   Opinion: It was a funny(?) joke.\\n\\nAlthough a...     Andrew Martin   \n",
       "8   If &gt;&gt; sees that there is nothing left in...  Aasmund Eldhuset   \n",
       "9   It could be that your iPhone is deleting the m...   Tanner Faulkner   \n",
       "10  While I can't guarentee that this is what you ...        David Gard   \n",
       "11  Possibly.\\n\\nIf the gpio is at logic 1 it is a...              joan   \n",
       "12  You can use hook_form_alter to alter the menu ...             Robin   \n",
       "13  go to settings -&gt; about-phone-&gt; phone id...       Padma Kumar   \n",
       "14  Here is a Scala trait that makes all test in t...         KajMagnus   \n",
       "\n",
       "                                     answer_user_page  \\\n",
       "0        https://gaming.stackexchange.com/users/97324   \n",
       "1     https://wordpress.stackexchange.com/users/27233   \n",
       "2        https://gaming.stackexchange.com/users/70641   \n",
       "3    https://raspberrypi.stackexchange.com/users/1311   \n",
       "4        https://travel.stackexchange.com/users/10051   \n",
       "5        https://gaming.stackexchange.com/users/10933   \n",
       "6     https://wordpress.stackexchange.com/users/17305   \n",
       "7         https://movies.stackexchange.com/users/8219   \n",
       "8              https://stackoverflow.com/users/626853   \n",
       "9                  https://superuser.com/users/146694   \n",
       "10    https://wordpress.stackexchange.com/users/10097   \n",
       "11  https://raspberrypi.stackexchange.com/users/13650   \n",
       "12       https://drupal.stackexchange.com/users/36797   \n",
       "13       https://android.stackexchange.com/users/9529   \n",
       "14             https://stackoverflow.com/users/694469   \n",
       "\n",
       "                                                  url       category  \\\n",
       "0   http://gaming.stackexchange.com/questions/1979...        CULTURE   \n",
       "1   http://wordpress.stackexchange.com/questions/1...     TECHNOLOGY   \n",
       "2   http://gaming.stackexchange.com/questions/2154...        CULTURE   \n",
       "3   http://raspberrypi.stackexchange.com/questions...     TECHNOLOGY   \n",
       "4   http://travel.stackexchange.com/questions/4704...        CULTURE   \n",
       "5   http://gaming.stackexchange.com/questions/7041...        CULTURE   \n",
       "6   http://wordpress.stackexchange.com/questions/1...     TECHNOLOGY   \n",
       "7   http://movies.stackexchange.com/questions/2109...      LIFE_ARTS   \n",
       "8   http://stackoverflow.com/questions/16374187/c-...  STACKOVERFLOW   \n",
       "9               http://superuser.com/questions/454556     TECHNOLOGY   \n",
       "10  http://wordpress.stackexchange.com/questions/1...     TECHNOLOGY   \n",
       "11  http://raspberrypi.stackexchange.com/questions...     TECHNOLOGY   \n",
       "12  http://drupal.stackexchange.com/questions/1353...     TECHNOLOGY   \n",
       "13  http://android.stackexchange.com/questions/176...     TECHNOLOGY   \n",
       "14  http://stackoverflow.com/questions/7009659/is-...  STACKOVERFLOW   \n",
       "\n",
       "                             host  \n",
       "0        gaming.stackexchange.com  \n",
       "1     wordpress.stackexchange.com  \n",
       "2        gaming.stackexchange.com  \n",
       "3   raspberrypi.stackexchange.com  \n",
       "4        travel.stackexchange.com  \n",
       "5        gaming.stackexchange.com  \n",
       "6     wordpress.stackexchange.com  \n",
       "7        movies.stackexchange.com  \n",
       "8               stackoverflow.com  \n",
       "9                   superuser.com  \n",
       "10    wordpress.stackexchange.com  \n",
       "11  raspberrypi.stackexchange.com  \n",
       "12       drupal.stackexchange.com  \n",
       "13      android.stackexchange.com  \n",
       "14              stackoverflow.com  "
      ]
     },
     "execution_count": 6,
     "metadata": {},
     "output_type": "execute_result"
    }
   ],
   "source": [
    "test = pd.read_csv(f'{DATA_DIR}/test.csv')\n",
    "test.head(15)"
   ]
  },
  {
   "cell_type": "code",
   "execution_count": 7,
   "metadata": {},
   "outputs": [
    {
     "data": {
      "text/plain": [
       "13"
      ]
     },
     "execution_count": 7,
     "metadata": {},
     "output_type": "execute_result"
    }
   ],
   "source": [
    "len('STACKOVERFLOW')"
   ]
  },
  {
   "cell_type": "code",
   "execution_count": 8,
   "metadata": {},
   "outputs": [],
   "source": [
    "from scipy.stats import spearmanr\n",
    "from sklearn.model_selection import train_test_split, cross_val_score, KFold\n",
    "import time\n",
    "from torch.optim import lr_scheduler\n",
    "\n",
    "import torch\n",
    "from tqdm import tqdm\n",
    "#import torch.utils.data as data\n",
    "from torchvision import datasets, models, transforms\n",
    "from transformers import *\n",
    "from sklearn.utils import shuffle\n",
    "import random\n",
    "from math import floor, ceil\n",
    "from sklearn.model_selection import GroupKFold\n",
    "\n",
    "MAX_LEN = 512\n",
    "#MAX_Q_LEN = 250\n",
    "#MAX_A_LEN = 259\n",
    "SEP_TOKEN_ID = 102\n",
    "\n",
    "class QuestDataset(torch.utils.data.Dataset):\n",
    "    def __init__(self, df, train_mode=True, labeled=True):\n",
    "        self.df = df\n",
    "        self.train_mode = train_mode\n",
    "        self.labeled = labeled\n",
    "        #self.tokenizer = DistilBertTokenizer.from_pretrained('bert-base-uncased')\n",
    "        self.tokenizer = DistilBertTokenizer.from_pretrained('distilbert-base-uncased')\n",
    "\n",
    "    def __getitem__(self, index):\n",
    "        row = self.df.iloc[index]\n",
    "        token_ids, seg_ids, token_q_ids, token_a_ids = self.get_token_ids(row)\n",
    "        \n",
    "        if self.labeled:\n",
    "            labels = self.get_label(row)\n",
    "            return token_ids, seg_ids, token_q_ids, token_a_ids, labels\n",
    "        else:\n",
    "            return token_ids, seg_ids, token_q_ids, token_a_ids\n",
    "\n",
    "    def __len__(self):\n",
    "        return len(self.df)\n",
    "\n",
    "    def select_tokens(self, tokens, max_num):\n",
    "        if len(tokens) <= max_num:\n",
    "            return tokens\n",
    "        if self.train_mode:\n",
    "            num_remove = len(tokens) - max_num\n",
    "            remove_start = random.randint(0, len(tokens)-num_remove-1)\n",
    "            return tokens[:remove_start] + tokens[remove_start + num_remove:]\n",
    "        else:\n",
    "            return tokens[:max_num//2] + tokens[-(max_num - max_num//2):]\n",
    "\n",
    "    def trim_input(self, title, question, answer, max_sequence_length=MAX_LEN, \n",
    "                t_max_len=30, q_max_len=239, a_max_len=239):\n",
    "        t = self.tokenizer.tokenize(title)\n",
    "        q = self.tokenizer.tokenize(question)\n",
    "        a = self.tokenizer.tokenize(answer)\n",
    "\n",
    "        t_len = len(t)\n",
    "        q_len = len(q)\n",
    "        a_len = len(a)\n",
    "\n",
    "        if (t_len+q_len+a_len+4) > max_sequence_length:\n",
    "\n",
    "            if t_max_len > t_len:\n",
    "                t_new_len = t_len\n",
    "                a_max_len = a_max_len + floor((t_max_len - t_len)/2)\n",
    "                q_max_len = q_max_len + ceil((t_max_len - t_len)/2)\n",
    "            else:\n",
    "                t_new_len = t_max_len\n",
    "\n",
    "            if a_max_len > a_len:\n",
    "                a_new_len = a_len \n",
    "                q_new_len = q_max_len + (a_max_len - a_len)\n",
    "            elif q_max_len > q_len:\n",
    "                a_new_len = a_max_len + (q_max_len - q_len)\n",
    "                q_new_len = q_len\n",
    "            else:\n",
    "                a_new_len = a_max_len\n",
    "                q_new_len = q_max_len\n",
    "\n",
    "\n",
    "            if t_new_len+a_new_len+q_new_len+4 != max_sequence_length:\n",
    "                raise ValueError(\"New sequence length should be %d, but is %d\" \n",
    "                                 % (max_sequence_length, (t_new_len+a_new_len+q_new_len+4)))\n",
    "\n",
    "            t = t[:t_new_len]\n",
    "            q = q[:q_new_len]\n",
    "            a = a[:a_new_len]\n",
    "\n",
    "        return t, q, a\n",
    "        \n",
    "    def get_token_ids(self, row):\n",
    "        t_tokens, q_tokens, a_tokens = self.trim_input(row.question_title, row.question_body, row.answer)\n",
    "\n",
    "#         tokens = ['[CLS]'] + t_tokens + q_tokens + ['[SEP]'] + a_tokens + ['[SEP]']\n",
    "        tokens = ['[CLS]'] + a_tokens  + ['[SEP]']+ t_tokens + q_tokens + ['[SEP]']\n",
    "        token_ids = self.tokenizer.convert_tokens_to_ids(tokens)\n",
    "        if len(token_ids) < MAX_LEN:\n",
    "            token_ids += [0] * (MAX_LEN - len(token_ids))\n",
    "        ids = torch.tensor(token_ids)\n",
    "        seg_ids = self.get_seg_ids(ids)\n",
    "        \n",
    "        tokes_q = ['[CLS]'] + t_tokens + ['[SEP]'] + q_tokens + ['[SEP]']        \n",
    "        token_q_ids = self.tokenizer.convert_tokens_to_ids(tokes_q)\n",
    "        if len(token_q_ids) < MAX_LEN:\n",
    "            token_q_ids += [0] * (MAX_LEN - len(token_q_ids))\n",
    "        ids_q = torch.tensor(token_q_ids)\n",
    "            \n",
    "        tokes_a = ['[CLS]'] + a_tokens + ['[SEP]', '[SEP]']  \n",
    "        token_a_ids = self.tokenizer.convert_tokens_to_ids(tokes_a)\n",
    "        if len(token_a_ids) < MAX_LEN:\n",
    "            token_a_ids += [0] * (MAX_LEN - len(token_a_ids))\n",
    "        ids_a = torch.tensor(token_a_ids)    \n",
    "            \n",
    "        \n",
    "        return ids, seg_ids, ids_q, ids_a \n",
    "    \n",
    "    def get_seg_ids(self, ids):\n",
    "        seg_ids = torch.zeros_like(ids)\n",
    "        seg_idx = 0\n",
    "        first_sep = True\n",
    "        for i, e in enumerate(ids):\n",
    "            seg_ids[i] = seg_idx\n",
    "            if e == SEP_TOKEN_ID:\n",
    "                if first_sep:\n",
    "                    first_sep = False\n",
    "                else:\n",
    "                    seg_idx = 1\n",
    "        pad_idx = torch.nonzero(ids == 0)\n",
    "        seg_ids[pad_idx] = 0\n",
    "\n",
    "        return seg_ids\n",
    "\n",
    "    def get_label(self, row):\n",
    "        #print(row[target_columns].values)\n",
    "        return torch.tensor(row[target_columns].values.astype(np.float32))\n",
    "\n",
    "    def collate_fn(self, batch):\n",
    "        token_ids = torch.stack([x[0] for x in batch])\n",
    "        seg_ids = torch.stack([x[1] for x in batch])\n",
    "        token_q_ids = torch.stack([x[2] for x in batch])\n",
    "        token_a_ids = torch.stack([x[3] for x in batch])\n",
    "        \n",
    "        if self.labeled:\n",
    "            labels = torch.stack([x[4] for x in batch])\n",
    "            return token_ids, seg_ids, token_q_ids, token_a_ids, labels\n",
    "        else:\n",
    "            return token_ids, seg_ids, token_q_ids, token_a_ids, \n",
    "\n",
    "def get_test_loader(batch_size=4):\n",
    "    df = pd.read_csv(f'{DATA_DIR}/test.csv')\n",
    "    ds_test = QuestDataset(df, train_mode=False, labeled=False)\n",
    "    loader = torch.utils.data.DataLoader(ds_test, batch_size=batch_size, shuffle=False, num_workers=0, collate_fn=ds_test.collate_fn, drop_last=False)\n",
    "    loader.num = len(df)\n",
    "    \n",
    "    return loader\n",
    "        \n",
    "def get_train_val_loaders(batch_size=4, val_batch_size=4, ifold=0):\n",
    "    df = pd.read_csv(f'{DATA_DIR}/train.csv')\n",
    "    df = shuffle(df, random_state=1234)\n",
    "    #split_index = int(len(df) * (1-val_percent))\n",
    "    gkf = GroupKFold(n_splits=5).split(X=df.question_body, groups=df.question_body)\n",
    "    for fold, (train_idx, valid_idx) in enumerate(gkf):\n",
    "        if fold == ifold:\n",
    "            df_train = df.iloc[train_idx[::STRIDE]]\n",
    "            df_val = df.iloc[valid_idx[::STRIDE]]\n",
    "            break\n",
    "\n",
    "    #print(df_val.head())\n",
    "    #df_train = df[:split_index]\n",
    "    #df_val = df[split_index:]\n",
    "\n",
    "    print(df_train.shape)\n",
    "    print(df_val.shape)\n",
    "\n",
    "#     ds_train = QuestDataset(df_train.iloc[::100])\n",
    "    ds_train = QuestDataset(df_train)\n",
    "    train_loader = torch.utils.data.DataLoader(ds_train, batch_size=batch_size, shuffle=True, num_workers=0, collate_fn=ds_train.collate_fn, drop_last=True)\n",
    "    train_loader.num = len(df_train)\n",
    "\n",
    "#     ds_val = QuestDataset(df_val.iloc[::10], train_mode=False)\n",
    "    ds_val = QuestDataset(df_val, train_mode=False)\n",
    "    val_loader = torch.utils.data.DataLoader(ds_val, batch_size=val_batch_size, shuffle=False, num_workers=0, collate_fn=ds_val.collate_fn, drop_last=False)\n",
    "    val_loader.num = len(df_val)\n",
    "    val_loader.df = df_val\n",
    "\n",
    "    return train_loader, val_loader\n",
    "\n",
    "def test_train_loader():\n",
    "    loader, _ = get_train_val_loaders(4, 4, 1)\n",
    "    for ids, seg_ids, ids_q, ids_a, labels in loader:\n",
    "        print(ids)\n",
    "        print(seg_ids.numpy())\n",
    "        print(labels)\n",
    "        break\n",
    "def test_test_loader():\n",
    "    loader = get_test_loader(4)\n",
    "    for ids, seg_ids, ids_q, ids_a in loader:\n",
    "        print(ids)\n",
    "        print(seg_ids)\n",
    "        break"
   ]
  },
  {
   "cell_type": "code",
   "execution_count": 9,
   "metadata": {},
   "outputs": [
    {
     "name": "stdout",
     "output_type": "stream",
     "text": [
      "(4863, 41)\n",
      "(1216, 41)\n",
      "tensor([[ 101, 1045, 3685,  ...,    0,    0,    0],\n",
      "        [ 101, 2017, 2097,  ...,    0,    0,    0],\n",
      "        [ 101, 2013, 2158,  ...,    0,    0,    0],\n",
      "        [ 101, 1045, 1005,  ...,    0,    0,    0]])\n",
      "[[0 0 0 ... 0 0 0]\n",
      " [0 0 0 ... 0 0 0]\n",
      " [0 0 0 ... 0 0 0]\n",
      " [0 0 0 ... 0 0 0]]\n",
      "tensor([[1.0000, 0.8889, 0.3333, 1.0000, 0.0000, 0.3333, 0.6667, 0.7778, 0.0000,\n",
      "         0.0000, 1.0000, 1.0000, 0.0000, 0.0000, 0.0000, 0.0000, 0.0000, 0.0000,\n",
      "         0.6667, 0.0000, 0.8889, 1.0000, 0.7778, 1.0000, 1.0000, 0.9333, 0.0000,\n",
      "         0.0000, 1.0000, 0.8889],\n",
      "        [0.6667, 0.3333, 0.0000, 0.0000, 1.0000, 1.0000, 0.6667, 0.6667, 1.0000,\n",
      "         0.0000, 0.0000, 1.0000, 0.0000, 0.0000, 0.0000, 0.0000, 1.0000, 0.0000,\n",
      "         1.0000, 0.0000, 0.3333, 0.6667, 0.6667, 0.6667, 1.0000, 0.8000, 0.0000,\n",
      "         0.0000, 1.0000, 1.0000],\n",
      "        [1.0000, 0.4444, 0.0000, 0.6667, 0.3333, 1.0000, 0.4444, 0.3333, 0.0000,\n",
      "         0.0000, 1.0000, 0.0000, 0.0000, 0.0000, 0.0000, 0.0000, 1.0000, 0.0000,\n",
      "         0.0000, 0.0000, 0.6667, 0.8889, 0.6667, 1.0000, 0.8889, 0.8667, 1.0000,\n",
      "         0.0000, 0.0000, 0.8889],\n",
      "        [0.8889, 0.8889, 0.0000, 0.0000, 0.6667, 0.0000, 0.5556, 0.6667, 0.0000,\n",
      "         0.0000, 0.6667, 0.0000, 0.0000, 0.0000, 0.0000, 0.0000, 0.3333, 0.6667,\n",
      "         0.3333, 0.0000, 0.7778, 1.0000, 0.6667, 1.0000, 1.0000, 0.5000, 0.0000,\n",
      "         0.0000, 0.6667, 0.7778]])\n"
     ]
    }
   ],
   "source": [
    "test_train_loader()"
   ]
  },
  {
   "cell_type": "code",
   "execution_count": 10,
   "metadata": {},
   "outputs": [],
   "source": [
    "# ifold = 0\n",
    "# batch_size = 4\n",
    "# df = pd.read_csv(f'{DATA_DIR}/train.csv')\n",
    "# df = shuffle(df, random_state=1234)\n",
    "# #split_index = int(len(df) * (1-val_percent))\n",
    "# gkf = GroupKFold(n_splits=5).split(X=df.question_body, groups=df.question_body)\n",
    "# for fold, (train_idx, valid_idx) in enumerate(gkf):\n",
    "#     if fold == ifold:\n",
    "#         df_train = df.iloc[train_idx[::STRIDE]]\n",
    "#         df_val = df.iloc[valid_idx[::STRIDE]]\n",
    "#         break\n",
    "\n",
    "# #print(df_val.head())\n",
    "# #df_train = df[:split_index]\n",
    "# #df_val = df[split_index:]\n",
    "\n",
    "# print(df_train.shape)\n",
    "# print(df_val.shape)\n",
    "\n",
    "# #     ds_train = QuestDataset(df_train.iloc[::100])\n",
    "# ds_train = QuestDataset(df_train)\n",
    "# # for _ in ds_train:\n",
    "# #     print(len(_))\n",
    "# #     break\n",
    "\n",
    "# train_loader = torch.utils.data.DataLoader(ds_train, batch_size=batch_size, shuffle=True, num_workers=0, collate_fn=ds_train.collate_fn, drop_last=True)\n",
    "# train_loader.num = len(df_train)\n",
    "\n",
    "# for _ in train_loader:\n",
    "#     print(len(_))\n",
    "#     break"
   ]
  },
  {
   "cell_type": "markdown",
   "metadata": {},
   "source": [
    "## Build Model"
   ]
  },
  {
   "cell_type": "code",
   "execution_count": 11,
   "metadata": {},
   "outputs": [],
   "source": [
    "from transformers import *\n",
    "import torch\n",
    "import torch.nn as nn\n",
    "import torch.nn.functional as F\n",
    "\n",
    "\n",
    "class QuestModel(nn.Module):\n",
    "    def __init__(self, n_classes=30):\n",
    "        super(QuestModel, self).__init__()\n",
    "        self.model_name = 'QuestModel'\n",
    "        \n",
    "#         self.bert_model = BertModel.from_pretrained('bert-base-uncased') \n",
    "        self.bert_model = DistilBertModel.from_pretrained('distilbert-base-uncased')\n",
    "        self.bert_model_q = DistilBertModel.from_pretrained('distilbert-base-uncased') \n",
    "        self.bert_model_a = DistilBertModel.from_pretrained('distilbert-base-uncased') \n",
    "        \n",
    "#         ct=0\n",
    "#         for child in self.bert_model.children():\n",
    "#             ct += 1\n",
    "#             if ct < 3:\n",
    "#                 for param in child.parameters():\n",
    "#                     param.requires_grad = False\n",
    "        \n",
    "#         self.fc = nn.Linear(768, n_classes)\n",
    "#         self.fc = nn.Linear(768*3, n_classes)\n",
    "    \n",
    "#         self.fc1 = nn.Linear(768*3, 576)\n",
    "#         self.fc2 = nn.Linear(576, 128)\n",
    "#         self.fc3 = nn.Linear(128, n_classes)\n",
    "        self.fc_q = nn.Linear(768*2, 21)\n",
    "        self.fc_a = nn.Linear(768*2, 9)\n",
    "\n",
    "    def forward(self, ids, ids_q, ids_a):\n",
    "        attention_mask = (ids > 0)\n",
    "        layers = self.bert_model(input_ids=ids, attention_mask=attention_mask)\n",
    "    \n",
    "        attention_mask_q = (ids_q > 0)\n",
    "        layers_q = self.bert_model_q(input_ids=ids_q, attention_mask=attention_mask_q)\n",
    "        \n",
    "        attention_mask_a = (ids_a > 0)\n",
    "        layers_a = self.bert_model_a(input_ids=ids_a, attention_mask=attention_mask_a)\n",
    "        \n",
    "        #print(layers[-1][0].size())\n",
    "        #print(pool_out.size())\n",
    "        \n",
    "        \n",
    "#         print(layers[-1][:, 0, :].shape)\n",
    "#         #out = F.dropout(layers[-1][:, 0, :], p=0.2, training=self.training)\n",
    "#         out =  F.dropout(\n",
    "#             torch.cat( \n",
    "#                 (\n",
    "#                     layers[-1][:, 0, :], \n",
    "#                     layers_q[-1][:, 0, :], \n",
    "#                     layers_a[-1][:, 0, :] \n",
    "#                 ), \n",
    "#                 1\n",
    "#             ),\n",
    "#             p=0.2, training=self.training)\n",
    "        \n",
    "        \n",
    "        \n",
    "        \n",
    "#         logit = self.fc3(self.fc2(self.fc1(out)))\n",
    "#         logit = self.fc(out)\n",
    "\n",
    "#         logit_q = self.fc_q( F.dropout(layers_q[-1][:, 0, :], p=0.2, training=self.training) )\n",
    "        logit_q = self.fc_q( F.dropout(\n",
    "            torch.cat(\n",
    "                (layers_q[-1][:, 0, :], layers[-1][:, 0, :]), 1\n",
    "            )\n",
    "            , p=0.2, training=self.training) )\n",
    "\n",
    "\n",
    "    \n",
    "        logit_a = self.fc_a( F.dropout(\n",
    "            torch.cat(\n",
    "                (layers_a[-1][:, 0, :], layers[-1][:, 0, :]), 1\n",
    "            )\n",
    "            , p=0.2, training=self.training) )\n",
    "        \n",
    "        logit = torch.cat(\n",
    "            (logit_q, logit_a), 1\n",
    "        )\n",
    "        \n",
    "        return logit\n",
    "    \n"
   ]
  },
  {
   "cell_type": "code",
   "execution_count": 12,
   "metadata": {},
   "outputs": [],
   "source": [
    "# training the model\n",
    "def compute_spearmanr_ignore_nan(trues, preds):\n",
    "    rhos = []\n",
    "   \n",
    "    \n",
    "    for tcol, pcol in zip(np.transpose(trues), np.transpose(preds)):\n",
    "#     for tcol, pcol in zip(trues, preds):\n",
    "     \n",
    "        rhos.append(spearmanr(tcol, pcol).correlation)\n",
    "    return np.nanmean(rhos)\n",
    "\n",
    "def train_model(model, train_loader, valid_loader, n_epochs=5, lr=0.001, fold=0):\n",
    "    optimizer = torch.optim.Adam(model.parameters(), lr)\n",
    "#     optimizer = AdamW(model.parameters(),\n",
    "#                   lr = lr, # args.learning_rate - default is 5e-5, our notebook had 2e-5\n",
    "#                   eps = 1e-8 # args.adam_epsilon  - default is 1e-8.\n",
    "#                 )\n",
    "#     patience = 2\n",
    "\n",
    "    scheduler = lr_scheduler.ReduceLROnPlateau(optimizer, 'min', patience=1, factor=0.25, cooldown=1, min_lr=3e-7)\n",
    "#     scheduler = lr_scheduler.StepLR(optimizer, step_size=3, gamma=0.5)\n",
    "#     total_steps = len(train_loader) * n_epochs\n",
    "#     scheduler = get_linear_schedule_with_warmup(optimizer, \n",
    "#                                                 num_warmup_steps = 1, # Default value in run_glue.py\n",
    "#                                                 num_training_steps = total_steps)\n",
    "    \n",
    "    \n",
    "    loss_fn = torch.nn.BCEWithLogitsLoss(reduction='mean').cuda()\n",
    "    best_model_val_score = 0\n",
    "    best_weights_path = './models/best_weights_temp.pt'\n",
    "    best_epoch = 0\n",
    "    p = 0\n",
    "    scores = []\n",
    "    train_loss = []\n",
    "    val_loss = []\n",
    "    \n",
    "    for epoch in range(n_epochs):\n",
    "        start_time = time.time()\n",
    "        model.train()\n",
    "        avg_loss = 0.\n",
    "\n",
    "        for ids, seg_ids, ids_q, ids_a, targets in tqdm(train_loader, total=train_loader.num // train_loader.batch_size):\n",
    "            \n",
    "            \n",
    "            ids, targets, ids_q, ids_a = ids.cuda(), targets.cuda(), ids_q.cuda(), ids_a.cuda()\n",
    "            \n",
    "            y_pred = model(ids, ids_q, ids_a)\n",
    "\n",
    "            loss = loss_fn(y_pred.double(), targets)\n",
    "\n",
    "            optimizer.zero_grad()\n",
    "\n",
    "            loss.backward()\n",
    "\n",
    "            optimizer.step()\n",
    "            avg_loss += loss.item() / len(train_loader)\n",
    "#             scheduler.step()\n",
    "\n",
    "        model.eval()\n",
    "\n",
    "        avg_val_loss = 0.\n",
    "        preds = []\n",
    "        original = []\n",
    "        for i, (ids, seg_ids, ids_q, ids_a, targets) in enumerate(valid_loader):\n",
    "            \n",
    "            ids, targets, ids_q, ids_a = ids.cuda(), targets.cuda(), ids_q.cuda(), ids_a.cuda()\n",
    "            \n",
    "            y_pred = model(ids, ids_q, ids_a).detach()\n",
    "\n",
    "            avg_val_loss += loss_fn(y_pred.double(), targets).item() / len(valid_loader)\n",
    "            preds.append(y_pred.cpu().numpy())\n",
    "            original.append(targets.cpu().numpy())\n",
    "#         print(len(original))\n",
    "        score = compute_spearmanr_ignore_nan(\n",
    "            np.concatenate(original),\n",
    "            np.concatenate(preds)\n",
    "        )\n",
    "        scores.append(score)\n",
    "        val_loss.append(avg_val_loss)\n",
    "        train_loss.append(avg_loss)\n",
    "#         score = 0\n",
    "#         for i in range(30):\n",
    "#             score += np.nan_to_num(\n",
    "#                 spearmanr(np.concatenate(original)[:, i], np.concatenate(preds)[:, i]).correlation / 30)\n",
    "        elapsed_time = time.time() - start_time\n",
    "        \n",
    "        print('Epoch {}/{} \\t lr={:3.1E} \\t loss={:.4f} \\t val_loss={:.4f} \\t spearman={:.4f} \\t time={:.2f}s'.format(\n",
    "            epoch + 1, n_epochs, optimizer.param_groups[0]['lr'], avg_loss, avg_val_loss, score, elapsed_time))\n",
    "\n",
    "        scheduler.step(score)\n",
    "#         scheduler.step()\n",
    "            \n",
    "        if best_model_val_score < score:\n",
    "            best_model_val_score = score\n",
    "            \n",
    "            torch.save(model.state_dict(), best_weights_path)\n",
    "            best_epoch = epoch \n",
    "     \n",
    "    \n",
    "    print('Train/val losses:')\n",
    "    fig = plt.figure(figsize=(12,6))\n",
    "    plt.plot(train_loss)\n",
    "    plt.plot(val_loss)\n",
    "    plt.legend(['train_loss', 'val_loss'])\n",
    "    plt.grid()\n",
    "    plt.show()\n",
    "    fig.savefig(f'./figures/{start_time}_largeberttorch-fold{fold}-epoch{best_epoch}-valscore{best_model_val_score}_losses.png')\n",
    "    print('Validation scores:')\n",
    "    fig2= plt.figure(figsize=(12,6))\n",
    "    plt.plot(scores)\n",
    "    plt.legend(['val_scores'])\n",
    "    plt.grid()\n",
    "    plt.show()\n",
    "    fig2.savefig(f'./figures/{start_time}_largeberttorch-fold{fold}-epoch{best_epoch}-valscore{best_model_val_score}_val_scores.png')\n",
    "\n",
    "    new_best_weghts_path = f'./models/{start_time}_largeberttorch-fold{fold}-epoch{best_epoch}-valscore{best_model_val_score}.pt'\n",
    "#         os.rename(best_weights_path, new_best_weghts_path)\n",
    "    if not os.path.isfile(best_weights_path):\n",
    "        model.save_weights(best_weights_path)\n",
    "\n",
    "    copyfile(best_weights_path, new_best_weghts_path)\n",
    "\n",
    "    model.load_state_dict(torch.load(new_best_weghts_path))\n",
    "\n",
    "    pd.DataFrame({'epoch': list(range(1, 1 + len(train_loss))),\n",
    "                  'train_loss': train_loss, \n",
    "                  'val_loss': val_loss, \n",
    "                  'val_score': scores})\\\n",
    "        .to_csv(f'./figures/{start_time}_largeberttorch-fold{fold}-epoch{best_epoch}-valscore{best_model_val_score}.csv', index=False)\n",
    "        \n",
    "    \n",
    "    \n",
    "    return model, best_model_val_score\n",
    "\n",
    "\n",
    "def make_prediction(test_loader = None, model = None):\n",
    "    prediction = np.zeros((len(test_loader.dataset), 30))\n",
    "    model.eval()\n",
    "    for i, (ids, seg_ids) in enumerate(test_loader):\n",
    "\n",
    "        start_index = i * test_loader.batch_size\n",
    "        end_index   = min(start_index + test_loader.batch_size, len(test_loader.dataset))\n",
    "        \n",
    "        ids, seg_ids = ids.cuda(), seg_ids.cuda()\n",
    "        \n",
    "        y_pred = model(ids, seg_ids).detach()\n",
    "        \n",
    "        y_pred = torch.sigmoid(y_pred)\n",
    "        \n",
    "        prediction[start_index:end_index, :] +=  y_pred.detach().cpu().numpy()\n",
    "        \n",
    "    return prediction"
   ]
  },
  {
   "cell_type": "code",
   "execution_count": 13,
   "metadata": {},
   "outputs": [],
   "source": [
    "seed_everything()"
   ]
  },
  {
   "cell_type": "code",
   "execution_count": 14,
   "metadata": {
    "scrolled": false
   },
   "outputs": [
    {
     "name": "stdout",
     "output_type": "stream",
     "text": [
      "Fold 1 started at Sat Feb  8 10:47:29 2020\n",
      "(4863, 41)\n",
      "(1216, 41)\n"
     ]
    },
    {
     "name": "stderr",
     "output_type": "stream",
     "text": [
      "100%|██████████| 1215/1215 [06:26<00:00,  3.17it/s]\n"
     ]
    },
    {
     "name": "stdout",
     "output_type": "stream",
     "text": [
      "Epoch 1/7 \t lr=4.0E-05 \t loss=0.3879 \t val_loss=0.3761 \t spearman=0.3707 \t time=424.29s\n"
     ]
    },
    {
     "name": "stderr",
     "output_type": "stream",
     "text": [
      "100%|██████████| 1215/1215 [06:26<00:00,  3.12it/s]\n"
     ]
    },
    {
     "name": "stdout",
     "output_type": "stream",
     "text": [
      "Epoch 2/7 \t lr=4.0E-05 \t loss=0.3613 \t val_loss=0.3738 \t spearman=0.3783 \t time=424.60s\n"
     ]
    },
    {
     "name": "stderr",
     "output_type": "stream",
     "text": [
      "100%|██████████| 1215/1215 [06:26<00:00,  3.15it/s]\n"
     ]
    },
    {
     "name": "stdout",
     "output_type": "stream",
     "text": [
      "Epoch 3/7 \t lr=4.0E-05 \t loss=0.3455 \t val_loss=0.3778 \t spearman=0.3850 \t time=424.39s\n"
     ]
    },
    {
     "name": "stderr",
     "output_type": "stream",
     "text": [
      "100%|██████████| 1215/1215 [06:26<00:00,  3.17it/s]\n",
      "  0%|          | 0/1215 [00:00<?, ?it/s]"
     ]
    },
    {
     "name": "stdout",
     "output_type": "stream",
     "text": [
      "Epoch 4/7 \t lr=1.0E-05 \t loss=0.3222 \t val_loss=0.3805 \t spearman=0.3832 \t time=424.44s\n"
     ]
    },
    {
     "name": "stderr",
     "output_type": "stream",
     "text": [
      "100%|██████████| 1215/1215 [06:25<00:00,  3.17it/s]\n",
      "  0%|          | 0/1215 [00:00<?, ?it/s]"
     ]
    },
    {
     "name": "stdout",
     "output_type": "stream",
     "text": [
      "Epoch 5/7 \t lr=1.0E-05 \t loss=0.3105 \t val_loss=0.3847 \t spearman=0.3771 \t time=423.93s\n"
     ]
    },
    {
     "name": "stderr",
     "output_type": "stream",
     "text": [
      "100%|██████████| 1215/1215 [06:25<00:00,  3.13it/s]\n",
      "  0%|          | 0/1215 [00:00<?, ?it/s]"
     ]
    },
    {
     "name": "stdout",
     "output_type": "stream",
     "text": [
      "Epoch 6/7 \t lr=1.0E-05 \t loss=0.3007 \t val_loss=0.3927 \t spearman=0.3720 \t time=424.08s\n"
     ]
    },
    {
     "name": "stderr",
     "output_type": "stream",
     "text": [
      "100%|██████████| 1215/1215 [06:25<00:00,  3.14it/s]\n"
     ]
    },
    {
     "name": "stdout",
     "output_type": "stream",
     "text": [
      "Epoch 7/7 \t lr=2.5E-06 \t loss=0.2909 \t val_loss=0.3948 \t spearman=0.3714 \t time=423.95s\n",
      "Train/val losses:\n"
     ]
    },
    {
     "data": {
      "image/png": "[encoded data removed]",
      "text/plain": [
       "<Figure size 864x432 with 1 Axes>"
      ]
     },
     "metadata": {
      "needs_background": "light"
     },
     "output_type": "display_data"
    },
    {
     "name": "stdout",
     "output_type": "stream",
     "text": [
      "Validation scores:\n"
     ]
    },
    {
     "data": {
      "image/png": "[encoded data removed]",
      "text/plain": [
       "<Figure size 864x432 with 1 Axes>"
      ]
     },
     "metadata": {
      "needs_background": "light"
     },
     "output_type": "display_data"
    },
    {
     "name": "stdout",
     "output_type": "stream",
     "text": [
      "\n",
      "Fold 2 started at Sat Feb  8 11:37:16 2020\n",
      "(4863, 41)\n",
      "(1216, 41)\n"
     ]
    },
    {
     "name": "stderr",
     "output_type": "stream",
     "text": [
      "100%|██████████| 1215/1215 [06:25<00:00,  3.15it/s]\n"
     ]
    },
    {
     "name": "stdout",
     "output_type": "stream",
     "text": [
      "Epoch 1/7 \t lr=4.0E-05 \t loss=0.3887 \t val_loss=0.3743 \t spearman=0.3704 \t time=423.87s\n"
     ]
    },
    {
     "name": "stderr",
     "output_type": "stream",
     "text": [
      "100%|██████████| 1215/1215 [06:25<00:00,  3.13it/s]\n"
     ]
    },
    {
     "name": "stdout",
     "output_type": "stream",
     "text": [
      "Epoch 2/7 \t lr=4.0E-05 \t loss=0.3610 \t val_loss=0.3726 \t spearman=0.3789 \t time=424.26s\n"
     ]
    },
    {
     "name": "stderr",
     "output_type": "stream",
     "text": [
      "100%|██████████| 1215/1215 [06:26<00:00,  3.16it/s]\n",
      "  0%|          | 0/1215 [00:00<?, ?it/s]"
     ]
    },
    {
     "name": "stdout",
     "output_type": "stream",
     "text": [
      "Epoch 3/7 \t lr=4.0E-05 \t loss=0.3449 \t val_loss=0.3765 \t spearman=0.3748 \t time=424.22s\n"
     ]
    },
    {
     "name": "stderr",
     "output_type": "stream",
     "text": [
      "100%|██████████| 1215/1215 [06:25<00:00,  3.15it/s]\n",
      "  0%|          | 0/1215 [00:00<?, ?it/s]"
     ]
    },
    {
     "name": "stdout",
     "output_type": "stream",
     "text": [
      "Epoch 4/7 \t lr=1.0E-05 \t loss=0.3209 \t val_loss=0.3803 \t spearman=0.3772 \t time=423.86s\n"
     ]
    },
    {
     "name": "stderr",
     "output_type": "stream",
     "text": [
      "100%|██████████| 1215/1215 [06:25<00:00,  3.15it/s]\n",
      "  0%|          | 0/1215 [00:00<?, ?it/s]"
     ]
    },
    {
     "name": "stdout",
     "output_type": "stream",
     "text": [
      "Epoch 5/7 \t lr=1.0E-05 \t loss=0.3096 \t val_loss=0.3854 \t spearman=0.3683 \t time=424.02s\n"
     ]
    },
    {
     "name": "stderr",
     "output_type": "stream",
     "text": [
      "100%|██████████| 1215/1215 [06:25<00:00,  3.19it/s]\n",
      "  0%|          | 0/1215 [00:00<?, ?it/s]"
     ]
    },
    {
     "name": "stdout",
     "output_type": "stream",
     "text": [
      "Epoch 6/7 \t lr=1.0E-05 \t loss=0.3003 \t val_loss=0.3918 \t spearman=0.3648 \t time=423.97s\n"
     ]
    },
    {
     "name": "stderr",
     "output_type": "stream",
     "text": [
      "100%|██████████| 1215/1215 [06:25<00:00,  3.16it/s]\n"
     ]
    },
    {
     "name": "stdout",
     "output_type": "stream",
     "text": [
      "Epoch 7/7 \t lr=1.0E-05 \t loss=0.2923 \t val_loss=0.3981 \t spearman=0.3603 \t time=423.90s\n",
      "Train/val losses:\n"
     ]
    },
    {
     "data": {
      "image/png": "[encoded data removed]",
      "text/plain": [
       "<Figure size 864x432 with 1 Axes>"
      ]
     },
     "metadata": {
      "needs_background": "light"
     },
     "output_type": "display_data"
    },
    {
     "name": "stdout",
     "output_type": "stream",
     "text": [
      "Validation scores:\n"
     ]
    },
    {
     "data": {
      "image/png": "[encoded data removed]",
      "text/plain": [
       "<Figure size 864x432 with 1 Axes>"
      ]
     },
     "metadata": {
      "needs_background": "light"
     },
     "output_type": "display_data"
    },
    {
     "name": "stdout",
     "output_type": "stream",
     "text": [
      "\n",
      "Fold 3 started at Sat Feb  8 12:26:58 2020\n",
      "(4863, 41)\n",
      "(1216, 41)\n"
     ]
    },
    {
     "name": "stderr",
     "output_type": "stream",
     "text": [
      "100%|██████████| 1215/1215 [06:25<00:00,  3.16it/s]\n"
     ]
    },
    {
     "name": "stdout",
     "output_type": "stream",
     "text": [
      "Epoch 1/7 \t lr=4.0E-05 \t loss=0.3896 \t val_loss=0.3738 \t spearman=0.3848 \t time=423.87s\n"
     ]
    },
    {
     "name": "stderr",
     "output_type": "stream",
     "text": [
      "100%|██████████| 1215/1215 [06:26<00:00,  3.16it/s]\n",
      "  0%|          | 0/1215 [00:00<?, ?it/s]"
     ]
    },
    {
     "name": "stdout",
     "output_type": "stream",
     "text": [
      "Epoch 2/7 \t lr=4.0E-05 \t loss=0.3629 \t val_loss=0.3720 \t spearman=0.3842 \t time=423.97s\n"
     ]
    },
    {
     "name": "stderr",
     "output_type": "stream",
     "text": [
      "100%|██████████| 1215/1215 [06:25<00:00,  3.21it/s]\n"
     ]
    },
    {
     "name": "stdout",
     "output_type": "stream",
     "text": [
      "Epoch 3/7 \t lr=4.0E-05 \t loss=0.3466 \t val_loss=0.3736 \t spearman=0.3924 \t time=423.54s\n"
     ]
    },
    {
     "name": "stderr",
     "output_type": "stream",
     "text": [
      "100%|██████████| 1215/1215 [06:25<00:00,  3.16it/s]\n",
      "  0%|          | 0/1215 [00:00<?, ?it/s]"
     ]
    },
    {
     "name": "stdout",
     "output_type": "stream",
     "text": [
      "Epoch 4/7 \t lr=4.0E-05 \t loss=0.3310 \t val_loss=0.3816 \t spearman=0.3875 \t time=423.64s\n"
     ]
    },
    {
     "name": "stderr",
     "output_type": "stream",
     "text": [
      "100%|██████████| 1215/1215 [06:25<00:00,  3.21it/s]\n",
      "  0%|          | 0/1215 [00:00<?, ?it/s]"
     ]
    },
    {
     "name": "stdout",
     "output_type": "stream",
     "text": [
      "Epoch 5/7 \t lr=1.0E-05 \t loss=0.3070 \t val_loss=0.3832 \t spearman=0.3841 \t time=423.70s\n"
     ]
    },
    {
     "name": "stderr",
     "output_type": "stream",
     "text": [
      "100%|██████████| 1215/1215 [06:29<00:00,  3.17it/s]\n",
      "  0%|          | 0/1215 [00:00<?, ?it/s]"
     ]
    },
    {
     "name": "stdout",
     "output_type": "stream",
     "text": [
      "Epoch 6/7 \t lr=1.0E-05 \t loss=0.2960 \t val_loss=0.3862 \t spearman=0.3806 \t time=427.72s\n"
     ]
    },
    {
     "name": "stderr",
     "output_type": "stream",
     "text": [
      "100%|██████████| 1215/1215 [06:24<00:00,  3.12it/s]\n"
     ]
    },
    {
     "name": "stdout",
     "output_type": "stream",
     "text": [
      "Epoch 7/7 \t lr=1.0E-05 \t loss=0.2879 \t val_loss=0.3935 \t spearman=0.3752 \t time=422.73s\n",
      "Train/val losses:\n"
     ]
    },
    {
     "data": {
      "image/png": "[encoded data removed]",
      "text/plain": [
       "<Figure size 864x432 with 1 Axes>"
      ]
     },
     "metadata": {
      "needs_background": "light"
     },
     "output_type": "display_data"
    },
    {
     "name": "stdout",
     "output_type": "stream",
     "text": [
      "Validation scores:\n"
     ]
    },
    {
     "data": {
      "image/png": "[encoded data removed]",
      "text/plain": [
       "<Figure size 864x432 with 1 Axes>"
      ]
     },
     "metadata": {
      "needs_background": "light"
     },
     "output_type": "display_data"
    },
    {
     "name": "stdout",
     "output_type": "stream",
     "text": [
      "\n",
      "Fold 4 started at Sat Feb  8 13:16:40 2020\n",
      "(4863, 41)\n",
      "(1216, 41)\n"
     ]
    },
    {
     "name": "stderr",
     "output_type": "stream",
     "text": [
      "100%|██████████| 1215/1215 [06:25<00:00,  3.16it/s]\n"
     ]
    },
    {
     "name": "stdout",
     "output_type": "stream",
     "text": [
      "Epoch 1/7 \t lr=4.0E-05 \t loss=0.3893 \t val_loss=0.3769 \t spearman=0.3699 \t time=423.59s\n"
     ]
    },
    {
     "name": "stderr",
     "output_type": "stream",
     "text": [
      "100%|██████████| 1215/1215 [06:27<00:00,  3.18it/s]\n"
     ]
    },
    {
     "name": "stdout",
     "output_type": "stream",
     "text": [
      "Epoch 2/7 \t lr=4.0E-05 \t loss=0.3631 \t val_loss=0.3691 \t spearman=0.3781 \t time=425.60s\n"
     ]
    },
    {
     "name": "stderr",
     "output_type": "stream",
     "text": [
      "100%|██████████| 1215/1215 [06:24<00:00,  3.16it/s]\n",
      "  0%|          | 0/1215 [00:00<?, ?it/s]"
     ]
    },
    {
     "name": "stdout",
     "output_type": "stream",
     "text": [
      "Epoch 3/7 \t lr=4.0E-05 \t loss=0.3463 \t val_loss=0.3708 \t spearman=0.3710 \t time=422.62s\n"
     ]
    },
    {
     "name": "stderr",
     "output_type": "stream",
     "text": [
      "100%|██████████| 1215/1215 [06:24<00:00,  3.19it/s]\n",
      "  0%|          | 0/1215 [00:00<?, ?it/s]"
     ]
    },
    {
     "name": "stdout",
     "output_type": "stream",
     "text": [
      "Epoch 4/7 \t lr=1.0E-05 \t loss=0.3217 \t val_loss=0.3748 \t spearman=0.3749 \t time=422.91s\n"
     ]
    },
    {
     "name": "stderr",
     "output_type": "stream",
     "text": [
      "100%|██████████| 1215/1215 [06:24<00:00,  3.18it/s]\n",
      "  0%|          | 0/1215 [00:00<?, ?it/s]"
     ]
    },
    {
     "name": "stdout",
     "output_type": "stream",
     "text": [
      "Epoch 5/7 \t lr=1.0E-05 \t loss=0.3097 \t val_loss=0.3812 \t spearman=0.3664 \t time=422.90s\n"
     ]
    },
    {
     "name": "stderr",
     "output_type": "stream",
     "text": [
      "100%|██████████| 1215/1215 [06:25<00:00,  3.16it/s]\n",
      "  0%|          | 0/1215 [00:00<?, ?it/s]"
     ]
    },
    {
     "name": "stdout",
     "output_type": "stream",
     "text": [
      "Epoch 6/7 \t lr=1.0E-05 \t loss=0.2997 \t val_loss=0.3868 \t spearman=0.3616 \t time=422.98s\n"
     ]
    },
    {
     "name": "stderr",
     "output_type": "stream",
     "text": [
      "100%|██████████| 1215/1215 [06:24<00:00,  3.17it/s]\n"
     ]
    },
    {
     "name": "stdout",
     "output_type": "stream",
     "text": [
      "Epoch 7/7 \t lr=1.0E-05 \t loss=0.2916 \t val_loss=0.3935 \t spearman=0.3581 \t time=422.60s\n",
      "Train/val losses:\n"
     ]
    },
    {
     "data": {
      "image/png": "[encoded data removed]",
      "text/plain": [
       "<Figure size 864x432 with 1 Axes>"
      ]
     },
     "metadata": {
      "needs_background": "light"
     },
     "output_type": "display_data"
    },
    {
     "name": "stdout",
     "output_type": "stream",
     "text": [
      "Validation scores:\n"
     ]
    },
    {
     "data": {
      "image/png": "[encoded data removed]",
      "text/plain": [
       "<Figure size 864x432 with 1 Axes>"
      ]
     },
     "metadata": {
      "needs_background": "light"
     },
     "output_type": "display_data"
    },
    {
     "name": "stdout",
     "output_type": "stream",
     "text": [
      "\n",
      "Fold 5 started at Sat Feb  8 14:06:15 2020\n",
      "(4864, 41)\n",
      "(1215, 41)\n"
     ]
    },
    {
     "name": "stderr",
     "output_type": "stream",
     "text": [
      "100%|██████████| 1216/1216 [06:25<00:00,  3.18it/s]\n"
     ]
    },
    {
     "name": "stdout",
     "output_type": "stream",
     "text": [
      "Epoch 1/7 \t lr=4.0E-05 \t loss=0.3894 \t val_loss=0.3780 \t spearman=0.3677 \t time=423.54s\n"
     ]
    },
    {
     "name": "stderr",
     "output_type": "stream",
     "text": [
      "100%|██████████| 1216/1216 [06:25<00:00,  3.08it/s]\n"
     ]
    },
    {
     "name": "stdout",
     "output_type": "stream",
     "text": [
      "Epoch 2/7 \t lr=4.0E-05 \t loss=0.3617 \t val_loss=0.3741 \t spearman=0.3732 \t time=423.74s\n"
     ]
    },
    {
     "name": "stderr",
     "output_type": "stream",
     "text": [
      "100%|██████████| 1216/1216 [06:25<00:00,  3.16it/s]\n",
      "  0%|          | 0/1216 [00:00<?, ?it/s]"
     ]
    },
    {
     "name": "stdout",
     "output_type": "stream",
     "text": [
      "Epoch 3/7 \t lr=4.0E-05 \t loss=0.3458 \t val_loss=0.3749 \t spearman=0.3692 \t time=423.70s\n"
     ]
    },
    {
     "name": "stderr",
     "output_type": "stream",
     "text": [
      "100%|██████████| 1216/1216 [06:25<00:00,  3.17it/s]\n"
     ]
    },
    {
     "name": "stdout",
     "output_type": "stream",
     "text": [
      "Epoch 4/7 \t lr=1.0E-05 \t loss=0.3217 \t val_loss=0.3777 \t spearman=0.3803 \t time=423.33s\n"
     ]
    },
    {
     "name": "stderr",
     "output_type": "stream",
     "text": [
      "100%|██████████| 1216/1216 [06:25<00:00,  3.18it/s]\n",
      "  0%|          | 0/1216 [00:00<?, ?it/s]"
     ]
    },
    {
     "name": "stdout",
     "output_type": "stream",
     "text": [
      "Epoch 5/7 \t lr=1.0E-05 \t loss=0.3101 \t val_loss=0.3833 \t spearman=0.3719 \t time=423.69s\n"
     ]
    },
    {
     "name": "stderr",
     "output_type": "stream",
     "text": [
      "100%|██████████| 1216/1216 [06:26<00:00,  3.13it/s]\n",
      "  0%|          | 0/1216 [00:00<?, ?it/s]"
     ]
    },
    {
     "name": "stdout",
     "output_type": "stream",
     "text": [
      "Epoch 6/7 \t lr=1.0E-05 \t loss=0.3002 \t val_loss=0.3895 \t spearman=0.3669 \t time=424.19s\n"
     ]
    },
    {
     "name": "stderr",
     "output_type": "stream",
     "text": [
      "100%|██████████| 1216/1216 [06:26<00:00,  3.14it/s]\n"
     ]
    },
    {
     "name": "stdout",
     "output_type": "stream",
     "text": [
      "Epoch 7/7 \t lr=1.0E-05 \t loss=0.2924 \t val_loss=0.3955 \t spearman=0.3668 \t time=424.62s\n",
      "Train/val losses:\n"
     ]
    },
    {
     "data": {
      "image/png": "[encoded data removed]",
      "text/plain": [
       "<Figure size 864x432 with 1 Axes>"
      ]
     },
     "metadata": {
      "needs_background": "light"
     },
     "output_type": "display_data"
    },
    {
     "name": "stdout",
     "output_type": "stream",
     "text": [
      "Validation scores:\n"
     ]
    },
    {
     "data": {
      "image/png": "[encoded data removed]",
      "text/plain": [
       "<Figure size 864x432 with 1 Axes>"
      ]
     },
     "metadata": {
      "needs_background": "light"
     },
     "output_type": "display_data"
    },
    {
     "name": "stdout",
     "output_type": "stream",
     "text": [
      "\n",
      "Mean validation score 0.3829508992888906\n"
     ]
    }
   ],
   "source": [
    "BATCH_SIZE = 4\n",
    "test_loader = get_test_loader(batch_size=BATCH_SIZE)\n",
    "# folds = KFold(n_splits=5, random_state=42)\n",
    "folds = GroupKFold(n_splits=5).split(X=df_train.question_body, groups=df_train.question_body)\n",
    "preds = np.zeros((len(test), 30))\n",
    "best_val_scores_all =[]\n",
    "for fold_n, (train_index, valid_index) in enumerate(folds):\n",
    "\n",
    "# for fold_n, (train_index, valid_index) in enumerate(folds.split(train)):\n",
    "    print(f'Fold {fold_n + 1} started at {time.ctime()}')\n",
    "    \n",
    "    train_loader, valid_loader = get_train_val_loaders(batch_size=BATCH_SIZE, val_batch_size=BATCH_SIZE, ifold=fold_n)\n",
    "        \n",
    "    model = QuestModel()\n",
    "    model = model.cuda()\n",
    "\n",
    "    model, best_val_score = train_model(model, train_loader, valid_loader, n_epochs=7, lr=2e-5, fold=fold_n)\n",
    "    best_val_scores_all.append(best_val_score)\n",
    "#     prediction = make_prediction(test_loader, model)\n",
    "    \n",
    "#     preds += prediction / folds.n_splits / 2\n",
    "    \n",
    "    gc.collect()\n",
    "    torch.cuda.empty_cache()\n",
    "    print()\n",
    "print(f'Mean validation score {np.mean(best_val_scores_all)}')"
   ]
  },
  {
   "cell_type": "code",
   "execution_count": 15,
   "metadata": {},
   "outputs": [],
   "source": [
    "for ids, seg_ids, targets, ids_q, ids_a in train_loader:\n",
    "    pass"
   ]
  },
  {
   "cell_type": "code",
   "execution_count": null,
   "metadata": {},
   "outputs": [],
   "source": []
  },
  {
   "cell_type": "code",
   "execution_count": 16,
   "metadata": {},
   "outputs": [],
   "source": [
    "def create_model(model_file):\n",
    "    model = QuestModel()\n",
    "    model.load_state_dict(torch.load(model_file))\n",
    "    model = model.cuda()\n",
    "    #model = DataParallel(model)\n",
    "    return model\n",
    "\n",
    "def create_models(files):\n",
    "    models = []\n",
    "    for i in range(5):\n",
    "        model = create_model(f'models/'+files[i])\n",
    "        model.eval()\n",
    "        models.append(model)\n",
    "    return models"
   ]
  },
  {
   "cell_type": "code",
   "execution_count": 17,
   "metadata": {},
   "outputs": [],
   "source": [
    "def predict(models, test_loader):\n",
    "    all_scores = []\n",
    "    with torch.no_grad():\n",
    "        for ids, seg_ids in tqdm(test_loader, total=test_loader.num // test_loader.batch_size):\n",
    "            ids, seg_ids = ids.cuda(), seg_ids.cuda()\n",
    "            scores = []\n",
    "            for model in models:\n",
    "                outputs = torch.sigmoid(model(ids, seg_ids)).cpu()\n",
    "                scores.append(outputs)\n",
    "            all_scores.append(torch.mean(torch.stack(scores), 0))\n",
    "\n",
    "    all_scores = torch.cat(all_scores, 0).numpy()\n",
    "    \n",
    "    return all_scores\n"
   ]
  },
  {
   "cell_type": "code",
   "execution_count": null,
   "metadata": {},
   "outputs": [],
   "source": []
  },
  {
   "cell_type": "code",
   "execution_count": 18,
   "metadata": {},
   "outputs": [
    {
     "ename": "RuntimeError",
     "evalue": "Error(s) in loading state_dict for QuestModel:\n\tMissing key(s) in state_dict: \"bert_model.transformer.layer.0.attention.q_lin.weight\", \"bert_model.transformer.layer.0.attention.q_lin.bias\", \"bert_model.transformer.layer.0.attention.k_lin.weight\", \"bert_model.transformer.layer.0.attention.k_lin.bias\", \"bert_model.transformer.layer.0.attention.v_lin.weight\", \"bert_model.transformer.layer.0.attention.v_lin.bias\", \"bert_model.transformer.layer.0.attention.out_lin.weight\", \"bert_model.transformer.layer.0.attention.out_lin.bias\", \"bert_model.transformer.layer.0.sa_layer_norm.weight\", \"bert_model.transformer.layer.0.sa_layer_norm.bias\", \"bert_model.transformer.layer.0.ffn.lin1.weight\", \"bert_model.transformer.layer.0.ffn.lin1.bias\", \"bert_model.transformer.layer.0.ffn.lin2.weight\", \"bert_model.transformer.layer.0.ffn.lin2.bias\", \"bert_model.transformer.layer.0.output_layer_norm.weight\", \"bert_model.transformer.layer.0.output_layer_norm.bias\", \"bert_model.transformer.layer.1.attention.q_lin.weight\", \"bert_model.transformer.layer.1.attention.q_lin.bias\", \"bert_model.transformer.layer.1.attention.k_lin.weight\", \"bert_model.transformer.layer.1.attention.k_lin.bias\", \"bert_model.transformer.layer.1.attention.v_lin.weight\", \"bert_model.transformer.layer.1.attention.v_lin.bias\", \"bert_model.transformer.layer.1.attention.out_lin.weight\", \"bert_model.transformer.layer.1.attention.out_lin.bias\", \"bert_model.transformer.layer.1.sa_layer_norm.weight\", \"bert_model.transformer.layer.1.sa_layer_norm.bias\", \"bert_model.transformer.layer.1.ffn.lin1.weight\", \"bert_model.transformer.layer.1.ffn.lin1.bias\", \"bert_model.transformer.layer.1.ffn.lin2.weight\", \"bert_model.transformer.layer.1.ffn.lin2.bias\", \"bert_model.transformer.layer.1.output_layer_norm.weight\", \"bert_model.transformer.layer.1.output_layer_norm.bias\", \"bert_model.transformer.layer.2.attention.q_lin.weight\", \"bert_model.transformer.layer.2.attention.q_lin.bias\", \"bert_model.transformer.layer.2.attention.k_lin.weight\", \"bert_model.transformer.layer.2.attention.k_lin.bias\", \"bert_model.transformer.layer.2.attention.v_lin.weight\", \"bert_model.transformer.layer.2.attention.v_lin.bias\", \"bert_model.transformer.layer.2.attention.out_lin.weight\", \"bert_model.transformer.layer.2.attention.out_lin.bias\", \"bert_model.transformer.layer.2.sa_layer_norm.weight\", \"bert_model.transformer.layer.2.sa_layer_norm.bias\", \"bert_model.transformer.layer.2.ffn.lin1.weight\", \"bert_model.transformer.layer.2.ffn.lin1.bias\", \"bert_model.transformer.layer.2.ffn.lin2.weight\", \"bert_model.transformer.layer.2.ffn.lin2.bias\", \"bert_model.transformer.layer.2.output_layer_norm.weight\", \"bert_model.transformer.layer.2.output_layer_norm.bias\", \"bert_model.transformer.layer.3.attention.q_lin.weight\", \"bert_model.transformer.layer.3.attention.q_lin.bias\", \"bert_model.transformer.layer.3.attention.k_lin.weight\", \"bert_model.transformer.layer.3.attention.k_lin.bias\", \"bert_model.transformer.layer.3.attention.v_lin.weight\", \"bert_model.transformer.layer.3.attention.v_lin.bias\", \"bert_model.transformer.layer.3.attention.out_lin.weight\", \"bert_model.transformer.layer.3.attention.out_lin.bias\", \"bert_model.transformer.layer.3.sa_layer_norm.weight\", \"bert_model.transformer.layer.3.sa_layer_norm.bias\", \"bert_model.transformer.layer.3.ffn.lin1.weight\", \"bert_model.transformer.layer.3.ffn.lin1.bias\", \"bert_model.transformer.layer.3.ffn.lin2.weight\", \"bert_model.transformer.layer.3.ffn.lin2.bias\", \"bert_model.transformer.layer.3.output_layer_norm.weight\", \"bert_model.transformer.layer.3.output_layer_norm.bias\", \"bert_model.transformer.layer.4.attention.q_lin.weight\", \"bert_model.transformer.layer.4.attention.q_lin.bias\", \"bert_model.transformer.layer.4.attention.k_lin.weight\", \"bert_model.transformer.layer.4.attention.k_lin.bias\", \"bert_model.transformer.layer.4.attention.v_lin.weight\", \"bert_model.transformer.layer.4.attention.v_lin.bias\", \"bert_model.transformer.layer.4.attention.out_lin.weight\", \"bert_model.transformer.layer.4.attention.out_lin.bias\", \"bert_model.transformer.layer.4.sa_layer_norm.weight\", \"bert_model.transformer.layer.4.sa_layer_norm.bias\", \"bert_model.transformer.layer.4.ffn.lin1.weight\", \"bert_model.transformer.layer.4.ffn.lin1.bias\", \"bert_model.transformer.layer.4.ffn.lin2.weight\", \"bert_model.transformer.layer.4.ffn.lin2.bias\", \"bert_model.transformer.layer.4.output_layer_norm.weight\", \"bert_model.transformer.layer.4.output_layer_norm.bias\", \"bert_model.transformer.layer.5.attention.q_lin.weight\", \"bert_model.transformer.layer.5.attention.q_lin.bias\", \"bert_model.transformer.layer.5.attention.k_lin.weight\", \"bert_model.transformer.layer.5.attention.k_lin.bias\", \"bert_model.transformer.layer.5.attention.v_lin.weight\", \"bert_model.transformer.layer.5.attention.v_lin.bias\", \"bert_model.transformer.layer.5.attention.out_lin.weight\", \"bert_model.transformer.layer.5.attention.out_lin.bias\", \"bert_model.transformer.layer.5.sa_layer_norm.weight\", \"bert_model.transformer.layer.5.sa_layer_norm.bias\", \"bert_model.transformer.layer.5.ffn.lin1.weight\", \"bert_model.transformer.layer.5.ffn.lin1.bias\", \"bert_model.transformer.layer.5.ffn.lin2.weight\", \"bert_model.transformer.layer.5.ffn.lin2.bias\", \"bert_model.transformer.layer.5.output_layer_norm.weight\", \"bert_model.transformer.layer.5.output_layer_norm.bias\", \"bert_model_q.embeddings.word_embeddings.weight\", \"bert_model_q.embeddings.position_embeddings.weight\", \"bert_model_q.embeddings.LayerNorm.weight\", \"bert_model_q.embeddings.LayerNorm.bias\", \"bert_model_q.transformer.layer.0.attention.q_lin.weight\", \"bert_model_q.transformer.layer.0.attention.q_lin.bias\", \"bert_model_q.transformer.layer.0.attention.k_lin.weight\", \"bert_model_q.transformer.layer.0.attention.k_lin.bias\", \"bert_model_q.transformer.layer.0.attention.v_lin.weight\", \"bert_model_q.transformer.layer.0.attention.v_lin.bias\", \"bert_model_q.transformer.layer.0.attention.out_lin.weight\", \"bert_model_q.transformer.layer.0.attention.out_lin.bias\", \"bert_model_q.transformer.layer.0.sa_layer_norm.weight\", \"bert_model_q.transformer.layer.0.sa_layer_norm.bias\", \"bert_model_q.transformer.layer.0.ffn.lin1.weight\", \"bert_model_q.transformer.layer.0.ffn.lin1.bias\", \"bert_model_q.transformer.layer.0.ffn.lin2.weight\", \"bert_model_q.transformer.layer.0.ffn.lin2.bias\", \"bert_model_q.transformer.layer.0.output_layer_norm.weight\", \"bert_model_q.transformer.layer.0.output_layer_norm.bias\", \"bert_model_q.transformer.layer.1.attention.q_lin.weight\", \"bert_model_q.transformer.layer.1.attention.q_lin.bias\", \"bert_model_q.transformer.layer.1.attention.k_lin.weight\", \"bert_model_q.transformer.layer.1.attention.k_lin.bias\", \"bert_model_q.transformer.layer.1.attention.v_lin.weight\", \"bert_model_q.transformer.layer.1.attention.v_lin.bias\", \"bert_model_q.transformer.layer.1.attention.out_lin.weight\", \"bert_model_q.transformer.layer.1.attention.out_lin.bias\", \"bert_model_q.transformer.layer.1.sa_layer_norm.weight\", \"bert_model_q.transformer.layer.1.sa_layer_norm.bias\", \"bert_model_q.transformer.layer.1.ffn.lin1.weight\", \"bert_model_q.transformer.layer.1.ffn.lin1.bias\", \"bert_model_q.transformer.layer.1.ffn.lin2.weight\", \"bert_model_q.transformer.layer.1.ffn.lin2.bias\", \"bert_model_q.transformer.layer.1.output_layer_norm.weight\", \"bert_model_q.transformer.layer.1.output_layer_norm.bias\", \"bert_model_q.transformer.layer.2.attention.q_lin.weight\", \"bert_model_q.transformer.layer.2.attention.q_lin.bias\", \"bert_model_q.transformer.layer.2.attention.k_lin.weight\", \"bert_model_q.transformer.layer.2.attention.k_lin.bias\", \"bert_model_q.transformer.layer.2.attention.v_lin.weight\", \"bert_model_q.transformer.layer.2.attention.v_lin.bias\", \"bert_model_q.transformer.layer.2.attention.out_lin.weight\", \"bert_model_q.transformer.layer.2.attention.out_lin.bias\", \"bert_model_q.transformer.layer.2.sa_layer_norm.weight\", \"bert_model_q.transformer.layer.2.sa_layer_norm.bias\", \"bert_model_q.transformer.layer.2.ffn.lin1.weight\", \"bert_model_q.transformer.layer.2.ffn.lin1.bias\", \"bert_model_q.transformer.layer.2.ffn.lin2.weight\", \"bert_model_q.transformer.layer.2.ffn.lin2.bias\", \"bert_model_q.transformer.layer.2.output_layer_norm.weight\", \"bert_model_q.transformer.layer.2.output_layer_norm.bias\", \"bert_model_q.transformer.layer.3.attention.q_lin.weight\", \"bert_model_q.transformer.layer.3.attention.q_lin.bias\", \"bert_model_q.transformer.layer.3.attention.k_lin.weight\", \"bert_model_q.transformer.layer.3.attention.k_lin.bias\", \"bert_model_q.transformer.layer.3.attention.v_lin.weight\", \"bert_model_q.transformer.layer.3.attention.v_lin.bias\", \"bert_model_q.transformer.layer.3.attention.out_lin.weight\", \"bert_model_q.transformer.layer.3.attention.out_lin.bias\", \"bert_model_q.transformer.layer.3.sa_layer_norm.weight\", \"bert_model_q.transformer.layer.3.sa_layer_norm.bias\", \"bert_model_q.transformer.layer.3.ffn.lin1.weight\", \"bert_model_q.transformer.layer.3.ffn.lin1.bias\", \"bert_model_q.transformer.layer.3.ffn.lin2.weight\", \"bert_model_q.transformer.layer.3.ffn.lin2.bias\", \"bert_model_q.transformer.layer.3.output_layer_norm.weight\", \"bert_model_q.transformer.layer.3.output_layer_norm.bias\", \"bert_model_q.transformer.layer.4.attention.q_lin.weight\", \"bert_model_q.transformer.layer.4.attention.q_lin.bias\", \"bert_model_q.transformer.layer.4.attention.k_lin.weight\", \"bert_model_q.transformer.layer.4.attention.k_lin.bias\", \"bert_model_q.transformer.layer.4.attention.v_lin.weight\", \"bert_model_q.transformer.layer.4.attention.v_lin.bias\", \"bert_model_q.transformer.layer.4.attention.out_lin.weight\", \"bert_model_q.transformer.layer.4.attention.out_lin.bias\", \"bert_model_q.transformer.layer.4.sa_layer_norm.weight\", \"bert_model_q.transformer.layer.4.sa_layer_norm.bias\", \"bert_model_q.transformer.layer.4.ffn.lin1.weight\", \"bert_model_q.transformer.layer.4.ffn.lin1.bias\", \"bert_model_q.transformer.layer.4.ffn.lin2.weight\", \"bert_model_q.transformer.layer.4.ffn.lin2.bias\", \"bert_model_q.transformer.layer.4.output_layer_norm.weight\", \"bert_model_q.transformer.layer.4.output_layer_norm.bias\", \"bert_model_q.transformer.layer.5.attention.q_lin.weight\", \"bert_model_q.transformer.layer.5.attention.q_lin.bias\", \"bert_model_q.transformer.layer.5.attention.k_lin.weight\", \"bert_model_q.transformer.layer.5.attention.k_lin.bias\", \"bert_model_q.transformer.layer.5.attention.v_lin.weight\", \"bert_model_q.transformer.layer.5.attention.v_lin.bias\", \"bert_model_q.transformer.layer.5.attention.out_lin.weight\", \"bert_model_q.transformer.layer.5.attention.out_lin.bias\", \"bert_model_q.transformer.layer.5.sa_layer_norm.weight\", \"bert_model_q.transformer.layer.5.sa_layer_norm.bias\", \"bert_model_q.transformer.layer.5.ffn.lin1.weight\", \"bert_model_q.transformer.layer.5.ffn.lin1.bias\", \"bert_model_q.transformer.layer.5.ffn.lin2.weight\", \"bert_model_q.transformer.layer.5.ffn.lin2.bias\", \"bert_model_q.transformer.layer.5.output_layer_norm.weight\", \"bert_model_q.transformer.layer.5.output_layer_norm.bias\", \"bert_model_a.embeddings.word_embeddings.weight\", \"bert_model_a.embeddings.position_embeddings.weight\", \"bert_model_a.embeddings.LayerNorm.weight\", \"bert_model_a.embeddings.LayerNorm.bias\", \"bert_model_a.transformer.layer.0.attention.q_lin.weight\", \"bert_model_a.transformer.layer.0.attention.q_lin.bias\", \"bert_model_a.transformer.layer.0.attention.k_lin.weight\", \"bert_model_a.transformer.layer.0.attention.k_lin.bias\", \"bert_model_a.transformer.layer.0.attention.v_lin.weight\", \"bert_model_a.transformer.layer.0.attention.v_lin.bias\", \"bert_model_a.transformer.layer.0.attention.out_lin.weight\", \"bert_model_a.transformer.layer.0.attention.out_lin.bias\", \"bert_model_a.transformer.layer.0.sa_layer_norm.weight\", \"bert_model_a.transformer.layer.0.sa_layer_norm.bias\", \"bert_model_a.transformer.layer.0.ffn.lin1.weight\", \"bert_model_a.transformer.layer.0.ffn.lin1.bias\", \"bert_model_a.transformer.layer.0.ffn.lin2.weight\", \"bert_model_a.transformer.layer.0.ffn.lin2.bias\", \"bert_model_a.transformer.layer.0.output_layer_norm.weight\", \"bert_model_a.transformer.layer.0.output_layer_norm.bias\", \"bert_model_a.transformer.layer.1.attention.q_lin.weight\", \"bert_model_a.transformer.layer.1.attention.q_lin.bias\", \"bert_model_a.transformer.layer.1.attention.k_lin.weight\", \"bert_model_a.transformer.layer.1.attention.k_lin.bias\", \"bert_model_a.transformer.layer.1.attention.v_lin.weight\", \"bert_model_a.transformer.layer.1.attention.v_lin.bias\", \"bert_model_a.transformer.layer.1.attention.out_lin.weight\", \"bert_model_a.transformer.layer.1.attention.out_lin.bias\", \"bert_model_a.transformer.layer.1.sa_layer_norm.weight\", \"bert_model_a.transformer.layer.1.sa_layer_norm.bias\", \"bert_model_a.transformer.layer.1.ffn.lin1.weight\", \"bert_model_a.transformer.layer.1.ffn.lin1.bias\", \"bert_model_a.transformer.layer.1.ffn.lin2.weight\", \"bert_model_a.transformer.layer.1.ffn.lin2.bias\", \"bert_model_a.transformer.layer.1.output_layer_norm.weight\", \"bert_model_a.transformer.layer.1.output_layer_norm.bias\", \"bert_model_a.transformer.layer.2.attention.q_lin.weight\", \"bert_model_a.transformer.layer.2.attention.q_lin.bias\", \"bert_model_a.transformer.layer.2.attention.k_lin.weight\", \"bert_model_a.transformer.layer.2.attention.k_lin.bias\", \"bert_model_a.transformer.layer.2.attention.v_lin.weight\", \"bert_model_a.transformer.layer.2.attention.v_lin.bias\", \"bert_model_a.transformer.layer.2.attention.out_lin.weight\", \"bert_model_a.transformer.layer.2.attention.out_lin.bias\", \"bert_model_a.transformer.layer.2.sa_layer_norm.weight\", \"bert_model_a.transformer.layer.2.sa_layer_norm.bias\", \"bert_model_a.transformer.layer.2.ffn.lin1.weight\", \"bert_model_a.transformer.layer.2.ffn.lin1.bias\", \"bert_model_a.transformer.layer.2.ffn.lin2.weight\", \"bert_model_a.transformer.layer.2.ffn.lin2.bias\", \"bert_model_a.transformer.layer.2.output_layer_norm.weight\", \"bert_model_a.transformer.layer.2.output_layer_norm.bias\", \"bert_model_a.transformer.layer.3.attention.q_lin.weight\", \"bert_model_a.transformer.layer.3.attention.q_lin.bias\", \"bert_model_a.transformer.layer.3.attention.k_lin.weight\", \"bert_model_a.transformer.layer.3.attention.k_lin.bias\", \"bert_model_a.transformer.layer.3.attention.v_lin.weight\", \"bert_model_a.transformer.layer.3.attention.v_lin.bias\", \"bert_model_a.transformer.layer.3.attention.out_lin.weight\", \"bert_model_a.transformer.layer.3.attention.out_lin.bias\", \"bert_model_a.transformer.layer.3.sa_layer_norm.weight\", \"bert_model_a.transformer.layer.3.sa_layer_norm.bias\", \"bert_model_a.transformer.layer.3.ffn.lin1.weight\", \"bert_model_a.transformer.layer.3.ffn.lin1.bias\", \"bert_model_a.transformer.layer.3.ffn.lin2.weight\", \"bert_model_a.transformer.layer.3.ffn.lin2.bias\", \"bert_model_a.transformer.layer.3.output_layer_norm.weight\", \"bert_model_a.transformer.layer.3.output_layer_norm.bias\", \"bert_model_a.transformer.layer.4.attention.q_lin.weight\", \"bert_model_a.transformer.layer.4.attention.q_lin.bias\", \"bert_model_a.transformer.layer.4.attention.k_lin.weight\", \"bert_model_a.transformer.layer.4.attention.k_lin.bias\", \"bert_model_a.transformer.layer.4.attention.v_lin.weight\", \"bert_model_a.transformer.layer.4.attention.v_lin.bias\", \"bert_model_a.transformer.layer.4.attention.out_lin.weight\", \"bert_model_a.transformer.layer.4.attention.out_lin.bias\", \"bert_model_a.transformer.layer.4.sa_layer_norm.weight\", \"bert_model_a.transformer.layer.4.sa_layer_norm.bias\", \"bert_model_a.transformer.layer.4.ffn.lin1.weight\", \"bert_model_a.transformer.layer.4.ffn.lin1.bias\", \"bert_model_a.transformer.layer.4.ffn.lin2.weight\", \"bert_model_a.transformer.layer.4.ffn.lin2.bias\", \"bert_model_a.transformer.layer.4.output_layer_norm.weight\", \"bert_model_a.transformer.layer.4.output_layer_norm.bias\", \"bert_model_a.transformer.layer.5.attention.q_lin.weight\", \"bert_model_a.transformer.layer.5.attention.q_lin.bias\", \"bert_model_a.transformer.layer.5.attention.k_lin.weight\", \"bert_model_a.transformer.layer.5.attention.k_lin.bias\", \"bert_model_a.transformer.layer.5.attention.v_lin.weight\", \"bert_model_a.transformer.layer.5.attention.v_lin.bias\", \"bert_model_a.transformer.layer.5.attention.out_lin.weight\", \"bert_model_a.transformer.layer.5.attention.out_lin.bias\", \"bert_model_a.transformer.layer.5.sa_layer_norm.weight\", \"bert_model_a.transformer.layer.5.sa_layer_norm.bias\", \"bert_model_a.transformer.layer.5.ffn.lin1.weight\", \"bert_model_a.transformer.layer.5.ffn.lin1.bias\", \"bert_model_a.transformer.layer.5.ffn.lin2.weight\", \"bert_model_a.transformer.layer.5.ffn.lin2.bias\", \"bert_model_a.transformer.layer.5.output_layer_norm.weight\", \"bert_model_a.transformer.layer.5.output_layer_norm.bias\", \"fc_q.weight\", \"fc_q.bias\", \"fc_a.weight\", \"fc_a.bias\". \n\tUnexpected key(s) in state_dict: \"fc.weight\", \"fc.bias\", \"bert_model.encoder.layer.0.attention.self.query.weight\", \"bert_model.encoder.layer.0.attention.self.query.bias\", \"bert_model.encoder.layer.0.attention.self.key.weight\", \"bert_model.encoder.layer.0.attention.self.key.bias\", \"bert_model.encoder.layer.0.attention.self.value.weight\", \"bert_model.encoder.layer.0.attention.self.value.bias\", \"bert_model.encoder.layer.0.attention.output.dense.weight\", \"bert_model.encoder.layer.0.attention.output.dense.bias\", \"bert_model.encoder.layer.0.attention.output.LayerNorm.weight\", \"bert_model.encoder.layer.0.attention.output.LayerNorm.bias\", \"bert_model.encoder.layer.0.intermediate.dense.weight\", \"bert_model.encoder.layer.0.intermediate.dense.bias\", \"bert_model.encoder.layer.0.output.dense.weight\", \"bert_model.encoder.layer.0.output.dense.bias\", \"bert_model.encoder.layer.0.output.LayerNorm.weight\", \"bert_model.encoder.layer.0.output.LayerNorm.bias\", \"bert_model.encoder.layer.1.attention.self.query.weight\", \"bert_model.encoder.layer.1.attention.self.query.bias\", \"bert_model.encoder.layer.1.attention.self.key.weight\", \"bert_model.encoder.layer.1.attention.self.key.bias\", \"bert_model.encoder.layer.1.attention.self.value.weight\", \"bert_model.encoder.layer.1.attention.self.value.bias\", \"bert_model.encoder.layer.1.attention.output.dense.weight\", \"bert_model.encoder.layer.1.attention.output.dense.bias\", \"bert_model.encoder.layer.1.attention.output.LayerNorm.weight\", \"bert_model.encoder.layer.1.attention.output.LayerNorm.bias\", \"bert_model.encoder.layer.1.intermediate.dense.weight\", \"bert_model.encoder.layer.1.intermediate.dense.bias\", \"bert_model.encoder.layer.1.output.dense.weight\", \"bert_model.encoder.layer.1.output.dense.bias\", \"bert_model.encoder.layer.1.output.LayerNorm.weight\", \"bert_model.encoder.layer.1.output.LayerNorm.bias\", \"bert_model.encoder.layer.2.attention.self.query.weight\", \"bert_model.encoder.layer.2.attention.self.query.bias\", \"bert_model.encoder.layer.2.attention.self.key.weight\", \"bert_model.encoder.layer.2.attention.self.key.bias\", \"bert_model.encoder.layer.2.attention.self.value.weight\", \"bert_model.encoder.layer.2.attention.self.value.bias\", \"bert_model.encoder.layer.2.attention.output.dense.weight\", \"bert_model.encoder.layer.2.attention.output.dense.bias\", \"bert_model.encoder.layer.2.attention.output.LayerNorm.weight\", \"bert_model.encoder.layer.2.attention.output.LayerNorm.bias\", \"bert_model.encoder.layer.2.intermediate.dense.weight\", \"bert_model.encoder.layer.2.intermediate.dense.bias\", \"bert_model.encoder.layer.2.output.dense.weight\", \"bert_model.encoder.layer.2.output.dense.bias\", \"bert_model.encoder.layer.2.output.LayerNorm.weight\", \"bert_model.encoder.layer.2.output.LayerNorm.bias\", \"bert_model.encoder.layer.3.attention.self.query.weight\", \"bert_model.encoder.layer.3.attention.self.query.bias\", \"bert_model.encoder.layer.3.attention.self.key.weight\", \"bert_model.encoder.layer.3.attention.self.key.bias\", \"bert_model.encoder.layer.3.attention.self.value.weight\", \"bert_model.encoder.layer.3.attention.self.value.bias\", \"bert_model.encoder.layer.3.attention.output.dense.weight\", \"bert_model.encoder.layer.3.attention.output.dense.bias\", \"bert_model.encoder.layer.3.attention.output.LayerNorm.weight\", \"bert_model.encoder.layer.3.attention.output.LayerNorm.bias\", \"bert_model.encoder.layer.3.intermediate.dense.weight\", \"bert_model.encoder.layer.3.intermediate.dense.bias\", \"bert_model.encoder.layer.3.output.dense.weight\", \"bert_model.encoder.layer.3.output.dense.bias\", \"bert_model.encoder.layer.3.output.LayerNorm.weight\", \"bert_model.encoder.layer.3.output.LayerNorm.bias\", \"bert_model.encoder.layer.4.attention.self.query.weight\", \"bert_model.encoder.layer.4.attention.self.query.bias\", \"bert_model.encoder.layer.4.attention.self.key.weight\", \"bert_model.encoder.layer.4.attention.self.key.bias\", \"bert_model.encoder.layer.4.attention.self.value.weight\", \"bert_model.encoder.layer.4.attention.self.value.bias\", \"bert_model.encoder.layer.4.attention.output.dense.weight\", \"bert_model.encoder.layer.4.attention.output.dense.bias\", \"bert_model.encoder.layer.4.attention.output.LayerNorm.weight\", \"bert_model.encoder.layer.4.attention.output.LayerNorm.bias\", \"bert_model.encoder.layer.4.intermediate.dense.weight\", \"bert_model.encoder.layer.4.intermediate.dense.bias\", \"bert_model.encoder.layer.4.output.dense.weight\", \"bert_model.encoder.layer.4.output.dense.bias\", \"bert_model.encoder.layer.4.output.LayerNorm.weight\", \"bert_model.encoder.layer.4.output.LayerNorm.bias\", \"bert_model.encoder.layer.5.attention.self.query.weight\", \"bert_model.encoder.layer.5.attention.self.query.bias\", \"bert_model.encoder.layer.5.attention.self.key.weight\", \"bert_model.encoder.layer.5.attention.self.key.bias\", \"bert_model.encoder.layer.5.attention.self.value.weight\", \"bert_model.encoder.layer.5.attention.self.value.bias\", \"bert_model.encoder.layer.5.attention.output.dense.weight\", \"bert_model.encoder.layer.5.attention.output.dense.bias\", \"bert_model.encoder.layer.5.attention.output.LayerNorm.weight\", \"bert_model.encoder.layer.5.attention.output.LayerNorm.bias\", \"bert_model.encoder.layer.5.intermediate.dense.weight\", \"bert_model.encoder.layer.5.intermediate.dense.bias\", \"bert_model.encoder.layer.5.output.dense.weight\", \"bert_model.encoder.layer.5.output.dense.bias\", \"bert_model.encoder.layer.5.output.LayerNorm.weight\", \"bert_model.encoder.layer.5.output.LayerNorm.bias\", \"bert_model.encoder.layer.6.attention.self.query.weight\", \"bert_model.encoder.layer.6.attention.self.query.bias\", \"bert_model.encoder.layer.6.attention.self.key.weight\", \"bert_model.encoder.layer.6.attention.self.key.bias\", \"bert_model.encoder.layer.6.attention.self.value.weight\", \"bert_model.encoder.layer.6.attention.self.value.bias\", \"bert_model.encoder.layer.6.attention.output.dense.weight\", \"bert_model.encoder.layer.6.attention.output.dense.bias\", \"bert_model.encoder.layer.6.attention.output.LayerNorm.weight\", \"bert_model.encoder.layer.6.attention.output.LayerNorm.bias\", \"bert_model.encoder.layer.6.intermediate.dense.weight\", \"bert_model.encoder.layer.6.intermediate.dense.bias\", \"bert_model.encoder.layer.6.output.dense.weight\", \"bert_model.encoder.layer.6.output.dense.bias\", \"bert_model.encoder.layer.6.output.LayerNorm.weight\", \"bert_model.encoder.layer.6.output.LayerNorm.bias\", \"bert_model.encoder.layer.7.attention.self.query.weight\", \"bert_model.encoder.layer.7.attention.self.query.bias\", \"bert_model.encoder.layer.7.attention.self.key.weight\", \"bert_model.encoder.layer.7.attention.self.key.bias\", \"bert_model.encoder.layer.7.attention.self.value.weight\", \"bert_model.encoder.layer.7.attention.self.value.bias\", \"bert_model.encoder.layer.7.attention.output.dense.weight\", \"bert_model.encoder.layer.7.attention.output.dense.bias\", \"bert_model.encoder.layer.7.attention.output.LayerNorm.weight\", \"bert_model.encoder.layer.7.attention.output.LayerNorm.bias\", \"bert_model.encoder.layer.7.intermediate.dense.weight\", \"bert_model.encoder.layer.7.intermediate.dense.bias\", \"bert_model.encoder.layer.7.output.dense.weight\", \"bert_model.encoder.layer.7.output.dense.bias\", \"bert_model.encoder.layer.7.output.LayerNorm.weight\", \"bert_model.encoder.layer.7.output.LayerNorm.bias\", \"bert_model.encoder.layer.8.attention.self.query.weight\", \"bert_model.encoder.layer.8.attention.self.query.bias\", \"bert_model.encoder.layer.8.attention.self.key.weight\", \"bert_model.encoder.layer.8.attention.self.key.bias\", \"bert_model.encoder.layer.8.attention.self.value.weight\", \"bert_model.encoder.layer.8.attention.self.value.bias\", \"bert_model.encoder.layer.8.attention.output.dense.weight\", \"bert_model.encoder.layer.8.attention.output.dense.bias\", \"bert_model.encoder.layer.8.attention.output.LayerNorm.weight\", \"bert_model.encoder.layer.8.attention.output.LayerNorm.bias\", \"bert_model.encoder.layer.8.intermediate.dense.weight\", \"bert_model.encoder.layer.8.intermediate.dense.bias\", \"bert_model.encoder.layer.8.output.dense.weight\", \"bert_model.encoder.layer.8.output.dense.bias\", \"bert_model.encoder.layer.8.output.LayerNorm.weight\", \"bert_model.encoder.layer.8.output.LayerNorm.bias\", \"bert_model.encoder.layer.9.attention.self.query.weight\", \"bert_model.encoder.layer.9.attention.self.query.bias\", \"bert_model.encoder.layer.9.attention.self.key.weight\", \"bert_model.encoder.layer.9.attention.self.key.bias\", \"bert_model.encoder.layer.9.attention.self.value.weight\", \"bert_model.encoder.layer.9.attention.self.value.bias\", \"bert_model.encoder.layer.9.attention.output.dense.weight\", \"bert_model.encoder.layer.9.attention.output.dense.bias\", \"bert_model.encoder.layer.9.attention.output.LayerNorm.weight\", \"bert_model.encoder.layer.9.attention.output.LayerNorm.bias\", \"bert_model.encoder.layer.9.intermediate.dense.weight\", \"bert_model.encoder.layer.9.intermediate.dense.bias\", \"bert_model.encoder.layer.9.output.dense.weight\", \"bert_model.encoder.layer.9.output.dense.bias\", \"bert_model.encoder.layer.9.output.LayerNorm.weight\", \"bert_model.encoder.layer.9.output.LayerNorm.bias\", \"bert_model.encoder.layer.10.attention.self.query.weight\", \"bert_model.encoder.layer.10.attention.self.query.bias\", \"bert_model.encoder.layer.10.attention.self.key.weight\", \"bert_model.encoder.layer.10.attention.self.key.bias\", \"bert_model.encoder.layer.10.attention.self.value.weight\", \"bert_model.encoder.layer.10.attention.self.value.bias\", \"bert_model.encoder.layer.10.attention.output.dense.weight\", \"bert_model.encoder.layer.10.attention.output.dense.bias\", \"bert_model.encoder.layer.10.attention.output.LayerNorm.weight\", \"bert_model.encoder.layer.10.attention.output.LayerNorm.bias\", \"bert_model.encoder.layer.10.intermediate.dense.weight\", \"bert_model.encoder.layer.10.intermediate.dense.bias\", \"bert_model.encoder.layer.10.output.dense.weight\", \"bert_model.encoder.layer.10.output.dense.bias\", \"bert_model.encoder.layer.10.output.LayerNorm.weight\", \"bert_model.encoder.layer.10.output.LayerNorm.bias\", \"bert_model.encoder.layer.11.attention.self.query.weight\", \"bert_model.encoder.layer.11.attention.self.query.bias\", \"bert_model.encoder.layer.11.attention.self.key.weight\", \"bert_model.encoder.layer.11.attention.self.key.bias\", \"bert_model.encoder.layer.11.attention.self.value.weight\", \"bert_model.encoder.layer.11.attention.self.value.bias\", \"bert_model.encoder.layer.11.attention.output.dense.weight\", \"bert_model.encoder.layer.11.attention.output.dense.bias\", \"bert_model.encoder.layer.11.attention.output.LayerNorm.weight\", \"bert_model.encoder.layer.11.attention.output.LayerNorm.bias\", \"bert_model.encoder.layer.11.intermediate.dense.weight\", \"bert_model.encoder.layer.11.intermediate.dense.bias\", \"bert_model.encoder.layer.11.output.dense.weight\", \"bert_model.encoder.layer.11.output.dense.bias\", \"bert_model.encoder.layer.11.output.LayerNorm.weight\", \"bert_model.encoder.layer.11.output.LayerNorm.bias\", \"bert_model.pooler.dense.weight\", \"bert_model.pooler.dense.bias\", \"bert_model.embeddings.token_type_embeddings.weight\". ",
     "output_type": "error",
     "traceback": [
      "\u001b[0;31m---------------------------------------------------------------------------\u001b[0m",
      "\u001b[0;31mRuntimeError\u001b[0m                              Traceback (most recent call last)",
      "\u001b[0;32m<ipython-input-18-4a81e0844139>\u001b[0m in \u001b[0;36m<module>\u001b[0;34m\u001b[0m\n\u001b[1;32m      3\u001b[0m                        \u001b[0;34m'1580861010.799155_berthug-fold2-epoch5-valscore0.384363347108395.pt'\u001b[0m\u001b[0;34m,\u001b[0m\u001b[0;34m\u001b[0m\u001b[0;34m\u001b[0m\u001b[0m\n\u001b[1;32m      4\u001b[0m                        \u001b[0;34m'1580864623.3608234_berthug-fold3-epoch5-valscore0.37772980866600175.pt'\u001b[0m\u001b[0;34m,\u001b[0m\u001b[0;34m\u001b[0m\u001b[0;34m\u001b[0m\u001b[0m\n\u001b[0;32m----> 5\u001b[0;31m                        '1580868235.6624086_berthug-fold4-epoch5-valscore0.37155434869149245.pt'])\n\u001b[0m",
      "\u001b[0;32m<ipython-input-16-960ea4fb5a19>\u001b[0m in \u001b[0;36mcreate_models\u001b[0;34m(files)\u001b[0m\n\u001b[1;32m      9\u001b[0m     \u001b[0mmodels\u001b[0m \u001b[0;34m=\u001b[0m \u001b[0;34m[\u001b[0m\u001b[0;34m]\u001b[0m\u001b[0;34m\u001b[0m\u001b[0;34m\u001b[0m\u001b[0m\n\u001b[1;32m     10\u001b[0m     \u001b[0;32mfor\u001b[0m \u001b[0mi\u001b[0m \u001b[0;32min\u001b[0m \u001b[0mrange\u001b[0m\u001b[0;34m(\u001b[0m\u001b[0;36m5\u001b[0m\u001b[0;34m)\u001b[0m\u001b[0;34m:\u001b[0m\u001b[0;34m\u001b[0m\u001b[0;34m\u001b[0m\u001b[0m\n\u001b[0;32m---> 11\u001b[0;31m         \u001b[0mmodel\u001b[0m \u001b[0;34m=\u001b[0m \u001b[0mcreate_model\u001b[0m\u001b[0;34m(\u001b[0m\u001b[0;34mf'models/'\u001b[0m\u001b[0;34m+\u001b[0m\u001b[0mfiles\u001b[0m\u001b[0;34m[\u001b[0m\u001b[0mi\u001b[0m\u001b[0;34m]\u001b[0m\u001b[0;34m)\u001b[0m\u001b[0;34m\u001b[0m\u001b[0;34m\u001b[0m\u001b[0m\n\u001b[0m\u001b[1;32m     12\u001b[0m         \u001b[0mmodel\u001b[0m\u001b[0;34m.\u001b[0m\u001b[0meval\u001b[0m\u001b[0;34m(\u001b[0m\u001b[0;34m)\u001b[0m\u001b[0;34m\u001b[0m\u001b[0;34m\u001b[0m\u001b[0m\n\u001b[1;32m     13\u001b[0m         \u001b[0mmodels\u001b[0m\u001b[0;34m.\u001b[0m\u001b[0mappend\u001b[0m\u001b[0;34m(\u001b[0m\u001b[0mmodel\u001b[0m\u001b[0;34m)\u001b[0m\u001b[0;34m\u001b[0m\u001b[0;34m\u001b[0m\u001b[0m\n",
      "\u001b[0;32m<ipython-input-16-960ea4fb5a19>\u001b[0m in \u001b[0;36mcreate_model\u001b[0;34m(model_file)\u001b[0m\n\u001b[1;32m      1\u001b[0m \u001b[0;32mdef\u001b[0m \u001b[0mcreate_model\u001b[0m\u001b[0;34m(\u001b[0m\u001b[0mmodel_file\u001b[0m\u001b[0;34m)\u001b[0m\u001b[0;34m:\u001b[0m\u001b[0;34m\u001b[0m\u001b[0;34m\u001b[0m\u001b[0m\n\u001b[1;32m      2\u001b[0m     \u001b[0mmodel\u001b[0m \u001b[0;34m=\u001b[0m \u001b[0mQuestModel\u001b[0m\u001b[0;34m(\u001b[0m\u001b[0;34m)\u001b[0m\u001b[0;34m\u001b[0m\u001b[0;34m\u001b[0m\u001b[0m\n\u001b[0;32m----> 3\u001b[0;31m     \u001b[0mmodel\u001b[0m\u001b[0;34m.\u001b[0m\u001b[0mload_state_dict\u001b[0m\u001b[0;34m(\u001b[0m\u001b[0mtorch\u001b[0m\u001b[0;34m.\u001b[0m\u001b[0mload\u001b[0m\u001b[0;34m(\u001b[0m\u001b[0mmodel_file\u001b[0m\u001b[0;34m)\u001b[0m\u001b[0;34m)\u001b[0m\u001b[0;34m\u001b[0m\u001b[0;34m\u001b[0m\u001b[0m\n\u001b[0m\u001b[1;32m      4\u001b[0m     \u001b[0mmodel\u001b[0m \u001b[0;34m=\u001b[0m \u001b[0mmodel\u001b[0m\u001b[0;34m.\u001b[0m\u001b[0mcuda\u001b[0m\u001b[0;34m(\u001b[0m\u001b[0;34m)\u001b[0m\u001b[0;34m\u001b[0m\u001b[0;34m\u001b[0m\u001b[0m\n\u001b[1;32m      5\u001b[0m     \u001b[0;31m#model = DataParallel(model)\u001b[0m\u001b[0;34m\u001b[0m\u001b[0;34m\u001b[0m\u001b[0;34m\u001b[0m\u001b[0m\n",
      "\u001b[0;32m~/anaconda3/lib/python3.7/site-packages/torch/nn/modules/module.py\u001b[0m in \u001b[0;36mload_state_dict\u001b[0;34m(self, state_dict, strict)\u001b[0m\n\u001b[1;32m    837\u001b[0m         \u001b[0;32mif\u001b[0m \u001b[0mlen\u001b[0m\u001b[0;34m(\u001b[0m\u001b[0merror_msgs\u001b[0m\u001b[0;34m)\u001b[0m \u001b[0;34m>\u001b[0m \u001b[0;36m0\u001b[0m\u001b[0;34m:\u001b[0m\u001b[0;34m\u001b[0m\u001b[0;34m\u001b[0m\u001b[0m\n\u001b[1;32m    838\u001b[0m             raise RuntimeError('Error(s) in loading state_dict for {}:\\n\\t{}'.format(\n\u001b[0;32m--> 839\u001b[0;31m                                self.__class__.__name__, \"\\n\\t\".join(error_msgs)))\n\u001b[0m\u001b[1;32m    840\u001b[0m         \u001b[0;32mreturn\u001b[0m \u001b[0m_IncompatibleKeys\u001b[0m\u001b[0;34m(\u001b[0m\u001b[0mmissing_keys\u001b[0m\u001b[0;34m,\u001b[0m \u001b[0munexpected_keys\u001b[0m\u001b[0;34m)\u001b[0m\u001b[0;34m\u001b[0m\u001b[0;34m\u001b[0m\u001b[0m\n\u001b[1;32m    841\u001b[0m \u001b[0;34m\u001b[0m\u001b[0m\n",
      "\u001b[0;31mRuntimeError\u001b[0m: Error(s) in loading state_dict for QuestModel:\n\tMissing key(s) in state_dict: \"bert_model.transformer.layer.0.attention.q_lin.weight\", \"bert_model.transformer.layer.0.attention.q_lin.bias\", \"bert_model.transformer.layer.0.attention.k_lin.weight\", \"bert_model.transformer.layer.0.attention.k_lin.bias\", \"bert_model.transformer.layer.0.attention.v_lin.weight\", \"bert_model.transformer.layer.0.attention.v_lin.bias\", \"bert_model.transformer.layer.0.attention.out_lin.weight\", \"bert_model.transformer.layer.0.attention.out_lin.bias\", \"bert_model.transformer.layer.0.sa_layer_norm.weight\", \"bert_model.transformer.layer.0.sa_layer_norm.bias\", \"bert_model.transformer.layer.0.ffn.lin1.weight\", \"bert_model.transformer.layer.0.ffn.lin1.bias\", \"bert_model.transformer.layer.0.ffn.lin2.weight\", \"bert_model.transformer.layer.0.ffn.lin2.bias\", \"bert_model.transformer.layer.0.output_layer_norm.weight\", \"bert_model.transformer.layer.0.output_layer_norm.bias\", \"bert_model.transformer.layer.1.attention.q_lin.weight\", \"bert_model.transformer.layer.1.attention.q_lin.bias\", \"bert_model.transformer.layer.1.attention.k_lin.weight\", \"bert_model.transformer.layer.1.attention.k_lin.bias\", \"bert_model.transformer.layer.1.attention.v_lin.weight\", \"bert_model.transformer.layer.1.attention.v_lin.bias\", \"bert_model.transformer.layer.1.attention.out_lin.weight\", \"bert_model.transformer.layer.1.attention.out_lin.bias\", \"bert_model.transformer.layer.1.sa_layer_norm.weight\", \"bert_model.transformer.layer.1.sa_layer_norm.bias\", \"bert_model.transformer.layer.1.ffn.lin1.weight\", \"bert_model.transformer.layer.1.ffn.lin1.bias\", \"bert_model.transformer.layer.1.ffn.lin2.weight\", \"bert_model.transformer.layer.1.ffn.lin2.bias\", \"bert_model.transformer.layer.1.output_layer_norm.weight\", \"bert_model.transformer.layer.1.output_layer_norm.bias\", \"bert_model.transformer.layer.2.attention.q_lin.weight\", \"bert_model.transformer.layer.2.attention.q_lin.bias\", \"bert_model.transformer.layer.2.attention.k_lin.weight\", \"bert_model.transformer.layer.2.attention.k_lin.bias\", \"bert_model.transformer.layer.2.attention.v_lin.weight\", \"bert_model.transformer.layer.2.attention.v_lin.bias\", \"bert_model.transformer.layer.2.attention.out_lin.weight\", \"bert_model.transformer.layer.2.attention.out_lin.bias\", \"bert_model.transformer.layer.2.sa_layer_norm.weight\", \"bert_model.transformer.layer.2.sa_layer_norm.bias\", \"bert_model.transformer.layer.2.ffn.lin1.weight\", \"bert_model.transformer.layer.2.ffn.lin1.bias\", \"bert_model.transformer.layer.2.ffn.lin2.weight\", \"bert_model.transformer.layer.2.ffn.lin2.bias\", \"bert_model.transformer.layer.2.output_layer_norm.weight\", \"bert_model.transformer.layer.2.output_layer_norm.bias\", \"bert_model.transformer.layer.3.attention.q_lin.weight\", \"bert_model.transformer.layer.3.attention.q_lin.bias\", \"bert_model.transformer.layer.3.attention.k_lin.weight\", \"bert_model.transformer.layer.3.attention.k_lin.bias\", \"bert_model.transformer.layer.3.attention.v_lin.weight\", \"bert_model.transformer.layer.3.attention.v_lin.bias\", \"bert_model.transformer.layer.3.attention.out_lin.weight\", \"bert_model.transformer.layer.3.attention.out_lin.bias\", \"bert_model.transformer.layer.3.sa_layer_norm.weight\", \"bert_model.transformer.layer.3.sa_layer_norm.bias\", \"bert_model.transformer.layer.3.ffn.lin1.weight\", \"bert_model.transformer.layer.3.ffn.lin1.bias\", \"bert_model.transformer.layer.3.ffn.lin2.weight\", \"bert_model.transformer.layer.3.ffn.lin2.bias\", \"bert_model.transformer.layer.3.output_layer_norm.weight\", \"bert_model.transformer.layer.3.output_layer_norm.bias\", \"bert_model.transformer.layer.4.attention.q_lin.weight\", \"bert_model.transformer.layer.4.attention.q_lin.bias\", \"bert_model.transformer.layer.4.attention.k_lin.weight\", \"bert_model.transformer.layer.4.attention.k_lin.bias\", \"bert_model.transformer.layer.4.attention.v_lin.weight\", \"bert_model.transformer.layer.4.attention.v_lin.bias\", \"bert_model.transformer.layer.4.attention.out_lin.weight\", \"bert_model.transformer.layer.4.attention.out_lin.bias\", \"bert_model.transformer.layer.4.sa_layer_norm.weight\", \"bert_model.transformer.layer.4.sa_layer_norm.bias\", \"bert_model.transformer.layer.4.ffn.lin1.weight\", \"bert_model.transformer.layer.4.ffn.lin1.bias\", \"bert_model.transformer.layer.4.ffn.lin2.weight\", \"bert_model.transformer.layer.4.ffn.lin2.bias\", \"bert_model.transformer.layer.4.output_layer_norm.weight\", \"bert_model.transformer.layer.4.output_layer_norm.bias\", \"bert_model.transformer.layer.5.attention.q_lin.weight\", \"bert_model.transformer.layer.5.attention.q_lin.bias\", \"bert_model.transformer.layer.5.attention.k_lin.weight\", \"bert_model.transformer.layer.5.attention.k_lin.bias\", \"bert_model.transformer.layer.5.attention.v_lin.weight\", \"bert_model.transformer.layer.5.attention.v_lin.bias\", \"bert_model.transformer.layer.5.attention.out_lin.weight\", \"bert_model.transformer.layer.5.attention.out_lin.bias\", \"bert_model.transformer.layer.5.sa_layer_norm.weight\", \"bert_model.transformer.layer.5.sa_layer_norm.bias\", \"bert_model.transformer.layer.5.ffn.lin1.weight\", \"bert_model.transformer.layer.5.ffn.lin1.bias\", \"bert_model.transformer.layer.5.ffn.lin2.weight\", \"bert_model.transformer.layer.5.ffn.lin2.bias\", \"bert_model.transformer.layer.5.output_layer_norm.weight\", \"bert_model.transformer.layer.5.output_layer_norm.bias\", \"bert_model_q.embeddings.word_embeddings.weight\", \"bert_model_q.embeddings.position_embeddings.weight\", \"bert_model_q.embeddings.LayerNorm.weight\", \"bert_model_q.embeddings.LayerNorm.bias\", \"bert_model_q.transformer.layer.0.attention.q_lin.weight\", \"bert_model_q.transformer.layer.0.attention.q_lin.bias\", \"bert_model_q.transformer.layer.0.attention.k_lin.weight\", \"bert_model_q.transformer.layer.0.attention.k_lin.bias\", \"bert_model_q.transformer.layer.0.attention.v_lin.weight\", \"bert_model_q.transformer.layer.0.attention.v_lin.bias\", \"bert_model_q.transformer.layer.0.attention.out_lin.weight\", \"bert_model_q.transformer.layer.0.attention.out_lin.bias\", \"bert_model_q.transformer.layer.0.sa_layer_norm.weight\", \"bert_model_q.transformer.layer.0.sa_layer_norm.bias\", \"bert_model_q.transformer.layer.0.ffn.lin1.weight\", \"bert_model_q.transformer.layer.0.ffn.lin1.bias\", \"bert_model_q.transformer.layer.0.ffn.lin2.weight\", \"bert_model_q.transformer.layer.0.ffn.lin2.bias\", \"bert_model_q.transformer.layer.0.output_layer_norm.weight\", \"bert_model_q.transformer.layer.0.output_layer_norm.bias\", \"bert_model_q.transformer.layer.1.attention.q_lin.weight\", \"bert_model_q.transformer.layer.1.attention.q_lin.bias\", \"bert_model_q.transformer.layer.1.attention.k_lin.weight\", \"bert_model_q.transformer.layer.1.attention.k_lin.bias\", \"bert_model_q.transformer.layer.1.attention.v_lin.weight\", \"bert_model_q.transformer.layer.1.attention.v_lin.bias\", \"bert_model_q.transformer.layer.1.attention.out_lin.weight\", \"bert_model_q.transformer.layer.1.attention.out_lin.bias\", \"bert_model_q.transformer.layer.1.sa_layer_norm.weight\", \"bert_model_q.transformer.layer.1.sa_layer_norm.bias\", \"bert_model_q.transformer.layer.1.ffn.lin1.weight\", \"bert_model_q.transformer.layer.1.ffn.lin1.bias\", \"bert_model_q.transformer.layer.1.ffn.lin2.weight\", \"bert_model_q.transformer.layer.1.ffn.lin2.bias\", \"bert_model_q.transformer.layer.1.output_layer_norm.weight\", \"bert_model_q.transformer.layer.1.output_layer_norm.bias\", \"bert_model_q.transformer.layer.2.attention.q_lin.weight\", \"bert_model_q.transformer.layer.2.attention.q_lin.bias\", \"bert_model_q.transformer.layer.2.attention.k_lin.weight\", \"bert_model_q.transformer.layer.2.attention.k_lin.bias\", \"bert_model_q.transformer.layer.2.attention.v_lin.weight\", \"bert_model_q.transformer.layer.2.attention.v_lin.bias\", \"bert_model_q.transformer.layer.2.attention.out_lin.weight\", \"bert_model_q.transformer.layer.2.attention.out_lin.bias\", \"bert_model_q.transformer.layer.2.sa_layer_norm.weight\", \"bert_model_q.transformer.layer.2.sa_layer_norm.bias\", \"bert_model_q.transformer.layer.2.ffn.lin1.weight\", \"bert_model_q.transformer.layer.2.ffn.lin1.bias\", \"bert_model_q.transformer.layer.2.ffn.lin2.weight\", \"bert_model_q.transformer.layer.2.ffn.lin2.bias\", \"bert_model_q.transformer.layer.2.output_layer_norm.weight\", \"bert_model_q.transformer.layer.2.output_layer_norm.bias\", \"bert_model_q.transformer.layer.3.attention.q_lin.weight\", \"bert_model_q.transformer.layer.3.attention.q_lin.bias\", \"bert_model_q.transformer.layer.3.attention.k_lin.weight\", \"bert_model_q.transformer.layer.3.attention.k_lin.bias\", \"bert_model_q.transformer.layer.3.attention.v_lin.weight\", \"bert_model_q.transformer.layer.3.attention.v_lin.bias\", \"bert_model_q.transformer.layer.3.attention.out_lin.weight\", \"bert_model_q.transformer.layer.3.attention.out_lin.bias\", \"bert_model_q.transformer.layer.3.sa_layer_norm.weight\", \"bert_model_q.transformer.layer.3.sa_layer_norm.bias\", \"bert_model_q.transformer.layer.3.ffn.lin1.weight\", \"bert_model_q.transformer.layer.3.ffn.lin1.bias\", \"bert_model_q.transformer.layer.3.ffn.lin2.weight\", \"bert_model_q.transformer.layer.3.ffn.lin2.bias\", \"bert_model_q.transformer.layer.3.output_layer_norm.weight\", \"bert_model_q.transformer.layer.3.output_layer_norm.bias\", \"bert_model_q.transformer.layer.4.attention.q_lin.weight\", \"bert_model_q.transformer.layer.4.attention.q_lin.bias\", \"bert_model_q.transformer.layer.4.attention.k_lin.weight\", \"bert_model_q.transformer.layer.4.attention.k_lin.bias\", \"bert_model_q.transformer.layer.4.attention.v_lin.weight\", \"bert_model_q.transformer.layer.4.attention.v_lin.bias\", \"bert_model_q.transformer.layer.4.attention.out_lin.weight\", \"bert_model_q.transformer.layer.4.attention.out_lin.bias\", \"bert_model_q.transformer.layer.4.sa_layer_norm.weight\", \"bert_model_q.transformer.layer.4.sa_layer_norm.bias\", \"bert_model_q.transformer.layer.4.ffn.lin1.weight\", \"bert_model_q.transformer.layer.4.ffn.lin1.bias\", \"bert_model_q.transformer.layer.4.ffn.lin2.weight\", \"bert_model_q.transformer.layer.4.ffn.lin2.bias\", \"bert_model_q.transformer.layer.4.output_layer_norm.weight\", \"bert_model_q.transformer.layer.4.output_layer_norm.bias\", \"bert_model_q.transformer.layer.5.attention.q_lin.weight\", \"bert_model_q.transformer.layer.5.attention.q_lin.bias\", \"bert_model_q.transformer.layer.5.attention.k_lin.weight\", \"bert_model_q.transformer.layer.5.attention.k_lin.bias\", \"bert_model_q.transformer.layer.5.attention.v_lin.weight\", \"bert_model_q.transformer.layer.5.attention.v_lin.bias\", \"bert_model_q.transformer.layer.5.attention.out_lin.weight\", \"bert_model_q.transformer.layer.5.attention.out_lin.bias\", \"bert_model_q.transformer.layer.5.sa_layer_norm.weight\", \"bert_model_q.transformer.layer.5.sa_layer_norm.bias\", \"bert_model_q.transformer.layer.5.ffn.lin1.weight\", \"bert_model_q.transformer.layer.5.ffn.lin1.bias\", \"bert_model_q.transformer.layer.5.ffn.lin2.weight\", \"bert_model_q.transformer.layer.5.ffn.lin2.bias\", \"bert_model_q.transformer.layer.5.output_layer_norm.weight\", \"bert_model_q.transformer.layer.5.output_layer_norm.bias\", \"bert_model_a.embeddings.word_embeddings.weight\", \"bert_model_a.embeddings.position_embeddings.weight\", \"bert_model_a.embeddings.LayerNorm.weight\", \"bert_model_a.embeddings.LayerNorm.bias\", \"bert_model_a.transformer.layer.0.attention.q_lin.weight\", \"bert_model_a.transformer.layer.0.attention.q_lin.bias\", \"bert_model_a.transformer.layer.0.attention.k_lin.weight\", \"bert_model_a.transformer.layer.0.attention.k_lin.bias\", \"bert_model_a.transformer.layer.0.attention.v_lin.weight\", \"bert_model_a.transformer.layer.0.attention.v_lin.bias\", \"bert_model_a.transformer.layer.0.attention.out_lin.weight\", \"bert_model_a.transformer.layer.0.attention.out_lin.bias\", \"bert_model_a.transformer.layer.0.sa_layer_norm.weight\", \"bert_model_a.transformer.layer.0.sa_layer_norm.bias\", \"bert_model_a.transformer.layer.0.ffn.lin1.weight\", \"bert_model_a.transformer.layer.0.ffn.lin1.bias\", \"bert_model_a.transformer.layer.0.ffn.lin2.weight\", \"bert_model_a.transformer.layer.0.ffn.lin2.bias\", \"bert_model_a.transformer.layer.0.output_layer_norm.weight\", \"bert_model_a.transformer.layer.0.output_layer_norm.bias\", \"bert_model_a.transformer.layer.1.attention.q_lin.weight\", \"bert_model_a.transformer.layer.1.attention.q_lin.bias\", \"bert_model_a.transformer.layer.1.attention.k_lin.weight\", \"bert_model_a.transformer.layer.1.attention.k_lin.bias\", \"bert_model_a.transformer.layer.1.attention.v_lin.weight\", \"bert_model_a.transformer.layer.1.attention.v_lin.bias\", \"bert_model_a.transformer.layer.1.attention.out_lin.weight\", \"bert_model_a.transformer.layer.1.attention.out_lin.bias\", \"bert_model_a.transformer.layer.1.sa_layer_norm.weight\", \"bert_model_a.transformer.layer.1.sa_layer_norm.bias\", \"bert_model_a.transformer.layer.1.ffn.lin1.weight\", \"bert_model_a.transformer.layer.1.ffn.lin1.bias\", \"bert_model_a.transformer.layer.1.ffn.lin2.weight\", \"bert_model_a.transformer.layer.1.ffn.lin2.bias\", \"bert_model_a.transformer.layer.1.output_layer_norm.weight\", \"bert_model_a.transformer.layer.1.output_layer_norm.bias\", \"bert_model_a.transformer.layer.2.attention.q_lin.weight\", \"bert_model_a.transformer.layer.2.attention.q_lin.bias\", \"bert_model_a.transformer.layer.2.attention.k_lin.weight\", \"bert_model_a.transformer.layer.2.attention.k_lin.bias\", \"bert_model_a.transformer.layer.2.attention.v_lin.weight\", \"bert_model_a.transformer.layer.2.attention.v_lin.bias\", \"bert_model_a.transformer.layer.2.attention.out_lin.weight\", \"bert_model_a.transformer.layer.2.attention.out_lin.bias\", \"bert_model_a.transformer.layer.2.sa_layer_norm.weight\", \"bert_model_a.transformer.layer.2.sa_layer_norm.bias\", \"bert_model_a.transformer.layer.2.ffn.lin1.weight\", \"bert_model_a.transformer.layer.2.ffn.lin1.bias\", \"bert_model_a.transformer.layer.2.ffn.lin2.weight\", \"bert_model_a.transformer.layer.2.ffn.lin2.bias\", \"bert_model_a.transformer.layer.2.output_layer_norm.weight\", \"bert_model_a.transformer.layer.2.output_layer_norm.bias\", \"bert_model_a.transformer.layer.3.attention.q_lin.weight\", \"bert_model_a.transformer.layer.3.attention.q_lin.bias\", \"bert_model_a.transformer.layer.3.attention.k_lin.weight\", \"bert_model_a.transformer.layer.3.attention.k_lin.bias\", \"bert_model_a.transformer.layer.3.attention.v_lin.weight\", \"bert_model_a.transformer.layer.3.attention.v_lin.bias\", \"bert_model_a.transformer.layer.3.attention.out_lin.weight\", \"bert_model_a.transformer.layer.3.attention.out_lin.bias\", \"bert_model_a.transformer.layer.3.sa_layer_norm.weight\", \"bert_model_a.transformer.layer.3.sa_layer_norm.bias\", \"bert_model_a.transformer.layer.3.ffn.lin1.weight\", \"bert_model_a.transformer.layer.3.ffn.lin1.bias\", \"bert_model_a.transformer.layer.3.ffn.lin2.weight\", \"bert_model_a.transformer.layer.3.ffn.lin2.bias\", \"bert_model_a.transformer.layer.3.output_layer_norm.weight\", \"bert_model_a.transformer.layer.3.output_layer_norm.bias\", \"bert_model_a.transformer.layer.4.attention.q_lin.weight\", \"bert_model_a.transformer.layer.4.attention.q_lin.bias\", \"bert_model_a.transformer.layer.4.attention.k_lin.weight\", \"bert_model_a.transformer.layer.4.attention.k_lin.bias\", \"bert_model_a.transformer.layer.4.attention.v_lin.weight\", \"bert_model_a.transformer.layer.4.attention.v_lin.bias\", \"bert_model_a.transformer.layer.4.attention.out_lin.weight\", \"bert_model_a.transformer.layer.4.attention.out_lin.bias\", \"bert_model_a.transformer.layer.4.sa_layer_norm.weight\", \"bert_model_a.transformer.layer.4.sa_layer_norm.bias\", \"bert_model_a.transformer.layer.4.ffn.lin1.weight\", \"bert_model_a.transformer.layer.4.ffn.lin1.bias\", \"bert_model_a.transformer.layer.4.ffn.lin2.weight\", \"bert_model_a.transformer.layer.4.ffn.lin2.bias\", \"bert_model_a.transformer.layer.4.output_layer_norm.weight\", \"bert_model_a.transformer.layer.4.output_layer_norm.bias\", \"bert_model_a.transformer.layer.5.attention.q_lin.weight\", \"bert_model_a.transformer.layer.5.attention.q_lin.bias\", \"bert_model_a.transformer.layer.5.attention.k_lin.weight\", \"bert_model_a.transformer.layer.5.attention.k_lin.bias\", \"bert_model_a.transformer.layer.5.attention.v_lin.weight\", \"bert_model_a.transformer.layer.5.attention.v_lin.bias\", \"bert_model_a.transformer.layer.5.attention.out_lin.weight\", \"bert_model_a.transformer.layer.5.attention.out_lin.bias\", \"bert_model_a.transformer.layer.5.sa_layer_norm.weight\", \"bert_model_a.transformer.layer.5.sa_layer_norm.bias\", \"bert_model_a.transformer.layer.5.ffn.lin1.weight\", \"bert_model_a.transformer.layer.5.ffn.lin1.bias\", \"bert_model_a.transformer.layer.5.ffn.lin2.weight\", \"bert_model_a.transformer.layer.5.ffn.lin2.bias\", \"bert_model_a.transformer.layer.5.output_layer_norm.weight\", \"bert_model_a.transformer.layer.5.output_layer_norm.bias\", \"fc_q.weight\", \"fc_q.bias\", \"fc_a.weight\", \"fc_a.bias\". \n\tUnexpected key(s) in state_dict: \"fc.weight\", \"fc.bias\", \"bert_model.encoder.layer.0.attention.self.query.weight\", \"bert_model.encoder.layer.0.attention.self.query.bias\", \"bert_model.encoder.layer.0.attention.self.key.weight\", \"bert_model.encoder.layer.0.attention.self.key.bias\", \"bert_model.encoder.layer.0.attention.self.value.weight\", \"bert_model.encoder.layer.0.attention.self.value.bias\", \"bert_model.encoder.layer.0.attention.output.dense.weight\", \"bert_model.encoder.layer.0.attention.output.dense.bias\", \"bert_model.encoder.layer.0.attention.output.LayerNorm.weight\", \"bert_model.encoder.layer.0.attention.output.LayerNorm.bias\", \"bert_model.encoder.layer.0.intermediate.dense.weight\", \"bert_model.encoder.layer.0.intermediate.dense.bias\", \"bert_model.encoder.layer.0.output.dense.weight\", \"bert_model.encoder.layer.0.output.dense.bias\", \"bert_model.encoder.layer.0.output.LayerNorm.weight\", \"bert_model.encoder.layer.0.output.LayerNorm.bias\", \"bert_model.encoder.layer.1.attention.self.query.weight\", \"bert_model.encoder.layer.1.attention.self.query.bias\", \"bert_model.encoder.layer.1.attention.self.key.weight\", \"bert_model.encoder.layer.1.attention.self.key.bias\", \"bert_model.encoder.layer.1.attention.self.value.weight\", \"bert_model.encoder.layer.1.attention.self.value.bias\", \"bert_model.encoder.layer.1.attention.output.dense.weight\", \"bert_model.encoder.layer.1.attention.output.dense.bias\", \"bert_model.encoder.layer.1.attention.output.LayerNorm.weight\", \"bert_model.encoder.layer.1.attention.output.LayerNorm.bias\", \"bert_model.encoder.layer.1.intermediate.dense.weight\", \"bert_model.encoder.layer.1.intermediate.dense.bias\", \"bert_model.encoder.layer.1.output.dense.weight\", \"bert_model.encoder.layer.1.output.dense.bias\", \"bert_model.encoder.layer.1.output.LayerNorm.weight\", \"bert_model.encoder.layer.1.output.LayerNorm.bias\", \"bert_model.encoder.layer.2.attention.self.query.weight\", \"bert_model.encoder.layer.2.attention.self.query.bias\", \"bert_model.encoder.layer.2.attention.self.key.weight\", \"bert_model.encoder.layer.2.attention.self.key.bias\", \"bert_model.encoder.layer.2.attention.self.value.weight\", \"bert_model.encoder.layer.2.attention.self.value.bias\", \"bert_model.encoder.layer.2.attention.output.dense.weight\", \"bert_model.encoder.layer.2.attention.output.dense.bias\", \"bert_model.encoder.layer.2.attention.output.LayerNorm.weight\", \"bert_model.encoder.layer.2.attention.output.LayerNorm.bias\", \"bert_model.encoder.layer.2.intermediate.dense.weight\", \"bert_model.encoder.layer.2.intermediate.dense.bias\", \"bert_model.encoder.layer.2.output.dense.weight\", \"bert_model.encoder.layer.2.output.dense.bias\", \"bert_model.encoder.layer.2.output.LayerNorm.weight\", \"bert_model.encoder.layer.2.output.LayerNorm.bias\", \"bert_model.encoder.layer.3.attention.self.query.weight\", \"bert_model.encoder.layer.3.attention.self.query.bias\", \"bert_model.encoder.layer.3.attention.self.key.weight\", \"bert_model.encoder.layer.3.attention.self.key.bias\", \"bert_model.encoder.layer.3.attention.self.value.weight\", \"bert_model.encoder.layer.3.attention.self.value.bias\", \"bert_model.encoder.layer.3.attention.output.dense.weight\", \"bert_model.encoder.layer.3.attention.output.dense.bias\", \"bert_model.encoder.layer.3.attention.output.LayerNorm.weight\", \"bert_model.encoder.layer.3.attention.output.LayerNorm.bias\", \"bert_model.encoder.layer.3.intermediate.dense.weight\", \"bert_model.encoder.layer.3.intermediate.dense.bias\", \"bert_model.encoder.layer.3.output.dense.weight\", \"bert_model.encoder.layer.3.output.dense.bias\", \"bert_model.encoder.layer.3.output.LayerNorm.weight\", \"bert_model.encoder.layer.3.output.LayerNorm.bias\", \"bert_model.encoder.layer.4.attention.self.query.weight\", \"bert_model.encoder.layer.4.attention.self.query.bias\", \"bert_model.encoder.layer.4.attention.self.key.weight\", \"bert_model.encoder.layer.4.attention.self.key.bias\", \"bert_model.encoder.layer.4.attention.self.value.weight\", \"bert_model.encoder.layer.4.attention.self.value.bias\", \"bert_model.encoder.layer.4.attention.output.dense.weight\", \"bert_model.encoder.layer.4.attention.output.dense.bias\", \"bert_model.encoder.layer.4.attention.output.LayerNorm.weight\", \"bert_model.encoder.layer.4.attention.output.LayerNorm.bias\", \"bert_model.encoder.layer.4.intermediate.dense.weight\", \"bert_model.encoder.layer.4.intermediate.dense.bias\", \"bert_model.encoder.layer.4.output.dense.weight\", \"bert_model.encoder.layer.4.output.dense.bias\", \"bert_model.encoder.layer.4.output.LayerNorm.weight\", \"bert_model.encoder.layer.4.output.LayerNorm.bias\", \"bert_model.encoder.layer.5.attention.self.query.weight\", \"bert_model.encoder.layer.5.attention.self.query.bias\", \"bert_model.encoder.layer.5.attention.self.key.weight\", \"bert_model.encoder.layer.5.attention.self.key.bias\", \"bert_model.encoder.layer.5.attention.self.value.weight\", \"bert_model.encoder.layer.5.attention.self.value.bias\", \"bert_model.encoder.layer.5.attention.output.dense.weight\", \"bert_model.encoder.layer.5.attention.output.dense.bias\", \"bert_model.encoder.layer.5.attention.output.LayerNorm.weight\", \"bert_model.encoder.layer.5.attention.output.LayerNorm.bias\", \"bert_model.encoder.layer.5.intermediate.dense.weight\", \"bert_model.encoder.layer.5.intermediate.dense.bias\", \"bert_model.encoder.layer.5.output.dense.weight\", \"bert_model.encoder.layer.5.output.dense.bias\", \"bert_model.encoder.layer.5.output.LayerNorm.weight\", \"bert_model.encoder.layer.5.output.LayerNorm.bias\", \"bert_model.encoder.layer.6.attention.self.query.weight\", \"bert_model.encoder.layer.6.attention.self.query.bias\", \"bert_model.encoder.layer.6.attention.self.key.weight\", \"bert_model.encoder.layer.6.attention.self.key.bias\", \"bert_model.encoder.layer.6.attention.self.value.weight\", \"bert_model.encoder.layer.6.attention.self.value.bias\", \"bert_model.encoder.layer.6.attention.output.dense.weight\", \"bert_model.encoder.layer.6.attention.output.dense.bias\", \"bert_model.encoder.layer.6.attention.output.LayerNorm.weight\", \"bert_model.encoder.layer.6.attention.output.LayerNorm.bias\", \"bert_model.encoder.layer.6.intermediate.dense.weight\", \"bert_model.encoder.layer.6.intermediate.dense.bias\", \"bert_model.encoder.layer.6.output.dense.weight\", \"bert_model.encoder.layer.6.output.dense.bias\", \"bert_model.encoder.layer.6.output.LayerNorm.weight\", \"bert_model.encoder.layer.6.output.LayerNorm.bias\", \"bert_model.encoder.layer.7.attention.self.query.weight\", \"bert_model.encoder.layer.7.attention.self.query.bias\", \"bert_model.encoder.layer.7.attention.self.key.weight\", \"bert_model.encoder.layer.7.attention.self.key.bias\", \"bert_model.encoder.layer.7.attention.self.value.weight\", \"bert_model.encoder.layer.7.attention.self.value.bias\", \"bert_model.encoder.layer.7.attention.output.dense.weight\", \"bert_model.encoder.layer.7.attention.output.dense.bias\", \"bert_model.encoder.layer.7.attention.output.LayerNorm.weight\", \"bert_model.encoder.layer.7.attention.output.LayerNorm.bias\", \"bert_model.encoder.layer.7.intermediate.dense.weight\", \"bert_model.encoder.layer.7.intermediate.dense.bias\", \"bert_model.encoder.layer.7.output.dense.weight\", \"bert_model.encoder.layer.7.output.dense.bias\", \"bert_model.encoder.layer.7.output.LayerNorm.weight\", \"bert_model.encoder.layer.7.output.LayerNorm.bias\", \"bert_model.encoder.layer.8.attention.self.query.weight\", \"bert_model.encoder.layer.8.attention.self.query.bias\", \"bert_model.encoder.layer.8.attention.self.key.weight\", \"bert_model.encoder.layer.8.attention.self.key.bias\", \"bert_model.encoder.layer.8.attention.self.value.weight\", \"bert_model.encoder.layer.8.attention.self.value.bias\", \"bert_model.encoder.layer.8.attention.output.dense.weight\", \"bert_model.encoder.layer.8.attention.output.dense.bias\", \"bert_model.encoder.layer.8.attention.output.LayerNorm.weight\", \"bert_model.encoder.layer.8.attention.output.LayerNorm.bias\", \"bert_model.encoder.layer.8.intermediate.dense.weight\", \"bert_model.encoder.layer.8.intermediate.dense.bias\", \"bert_model.encoder.layer.8.output.dense.weight\", \"bert_model.encoder.layer.8.output.dense.bias\", \"bert_model.encoder.layer.8.output.LayerNorm.weight\", \"bert_model.encoder.layer.8.output.LayerNorm.bias\", \"bert_model.encoder.layer.9.attention.self.query.weight\", \"bert_model.encoder.layer.9.attention.self.query.bias\", \"bert_model.encoder.layer.9.attention.self.key.weight\", \"bert_model.encoder.layer.9.attention.self.key.bias\", \"bert_model.encoder.layer.9.attention.self.value.weight\", \"bert_model.encoder.layer.9.attention.self.value.bias\", \"bert_model.encoder.layer.9.attention.output.dense.weight\", \"bert_model.encoder.layer.9.attention.output.dense.bias\", \"bert_model.encoder.layer.9.attention.output.LayerNorm.weight\", \"bert_model.encoder.layer.9.attention.output.LayerNorm.bias\", \"bert_model.encoder.layer.9.intermediate.dense.weight\", \"bert_model.encoder.layer.9.intermediate.dense.bias\", \"bert_model.encoder.layer.9.output.dense.weight\", \"bert_model.encoder.layer.9.output.dense.bias\", \"bert_model.encoder.layer.9.output.LayerNorm.weight\", \"bert_model.encoder.layer.9.output.LayerNorm.bias\", \"bert_model.encoder.layer.10.attention.self.query.weight\", \"bert_model.encoder.layer.10.attention.self.query.bias\", \"bert_model.encoder.layer.10.attention.self.key.weight\", \"bert_model.encoder.layer.10.attention.self.key.bias\", \"bert_model.encoder.layer.10.attention.self.value.weight\", \"bert_model.encoder.layer.10.attention.self.value.bias\", \"bert_model.encoder.layer.10.attention.output.dense.weight\", \"bert_model.encoder.layer.10.attention.output.dense.bias\", \"bert_model.encoder.layer.10.attention.output.LayerNorm.weight\", \"bert_model.encoder.layer.10.attention.output.LayerNorm.bias\", \"bert_model.encoder.layer.10.intermediate.dense.weight\", \"bert_model.encoder.layer.10.intermediate.dense.bias\", \"bert_model.encoder.layer.10.output.dense.weight\", \"bert_model.encoder.layer.10.output.dense.bias\", \"bert_model.encoder.layer.10.output.LayerNorm.weight\", \"bert_model.encoder.layer.10.output.LayerNorm.bias\", \"bert_model.encoder.layer.11.attention.self.query.weight\", \"bert_model.encoder.layer.11.attention.self.query.bias\", \"bert_model.encoder.layer.11.attention.self.key.weight\", \"bert_model.encoder.layer.11.attention.self.key.bias\", \"bert_model.encoder.layer.11.attention.self.value.weight\", \"bert_model.encoder.layer.11.attention.self.value.bias\", \"bert_model.encoder.layer.11.attention.output.dense.weight\", \"bert_model.encoder.layer.11.attention.output.dense.bias\", \"bert_model.encoder.layer.11.attention.output.LayerNorm.weight\", \"bert_model.encoder.layer.11.attention.output.LayerNorm.bias\", \"bert_model.encoder.layer.11.intermediate.dense.weight\", \"bert_model.encoder.layer.11.intermediate.dense.bias\", \"bert_model.encoder.layer.11.output.dense.weight\", \"bert_model.encoder.layer.11.output.dense.bias\", \"bert_model.encoder.layer.11.output.LayerNorm.weight\", \"bert_model.encoder.layer.11.output.LayerNorm.bias\", \"bert_model.pooler.dense.weight\", \"bert_model.pooler.dense.bias\", \"bert_model.embeddings.token_type_embeddings.weight\". "
     ]
    }
   ],
   "source": [
    "models = create_models(['1580853791.3290775_berthug-fold0-epoch5-valscore0.379263540166786.pt',\n",
    "                       '1580857399.5879626_berthug-fold1-epoch5-valscore0.36177012785659174.pt',\n",
    "                       '1580861010.799155_berthug-fold2-epoch5-valscore0.384363347108395.pt',\n",
    "                       '1580864623.3608234_berthug-fold3-epoch5-valscore0.37772980866600175.pt',\n",
    "                       '1580868235.6624086_berthug-fold4-epoch5-valscore0.37155434869149245.pt'])"
   ]
  },
  {
   "cell_type": "code",
   "execution_count": null,
   "metadata": {},
   "outputs": [],
   "source": [
    "preds = predict(models, test_loader)"
   ]
  },
  {
   "cell_type": "code",
   "execution_count": null,
   "metadata": {},
   "outputs": [],
   "source": [
    "preds[:1]"
   ]
  },
  {
   "cell_type": "markdown",
   "metadata": {},
   "source": [
    "### Generate Submission"
   ]
  },
  {
   "cell_type": "code",
   "execution_count": null,
   "metadata": {},
   "outputs": [],
   "source": [
    "sub[target_columns] = preds"
   ]
  },
  {
   "cell_type": "code",
   "execution_count": null,
   "metadata": {},
   "outputs": [],
   "source": [
    "sub.to_csv('submission.csv', index=False)"
   ]
  },
  {
   "cell_type": "code",
   "execution_count": null,
   "metadata": {},
   "outputs": [],
   "source": [
    "sub.head()"
   ]
  },
  {
   "cell_type": "code",
   "execution_count": null,
   "metadata": {},
   "outputs": [],
   "source": []
  }
 ],
 "metadata": {
  "kernelspec": {
   "display_name": "gqa",
   "language": "python",
   "name": "gqa"
  },
  "language_info": {
   "codemirror_mode": {
    "name": "ipython",
    "version": 3
   },
   "file_extension": ".py",
   "mimetype": "text/x-python",
   "name": "python",
   "nbconvert_exporter": "python",
   "pygments_lexer": "ipython3",
   "version": "3.7.3"
  },
  "widgets": {
   "application/vnd.jupyter.widget-state+json": {
    "state": {
     "086421f7eec44c769f08f5f68fafafdc": {
      "model_module": "@jupyter-widgets/controls",
      "model_module_version": "1.5.0",
      "model_name": "DescriptionStyleModel",
      "state": {
       "_model_module": "@jupyter-widgets/controls",
       "_model_module_version": "1.5.0",
       "_model_name": "DescriptionStyleModel",
       "_view_count": null,
       "_view_module": "@jupyter-widgets/base",
       "_view_module_version": "1.2.0",
       "_view_name": "StyleView",
       "description_width": ""
      }
     },
     "0e7c81c0da784e04b530236bad005c33": {
      "model_module": "@jupyter-widgets/base",
      "model_module_version": "1.2.0",
      "model_name": "LayoutModel",
      "state": {
       "_model_module": "@jupyter-widgets/base",
       "_model_module_version": "1.2.0",
       "_model_name": "LayoutModel",
       "_view_count": null,
       "_view_module": "@jupyter-widgets/base",
       "_view_module_version": "1.2.0",
       "_view_name": "LayoutView",
       "align_content": null,
       "align_items": null,
       "align_self": null,
       "border": null,
       "bottom": null,
       "display": null,
       "flex": null,
       "flex_flow": null,
       "grid_area": null,
       "grid_auto_columns": null,
       "grid_auto_flow": null,
       "grid_auto_rows": null,
       "grid_column": null,
       "grid_gap": null,
       "grid_row": null,
       "grid_template_areas": null,
       "grid_template_columns": null,
       "grid_template_rows": null,
       "height": null,
       "justify_content": null,
       "justify_items": null,
       "left": null,
       "margin": null,
       "max_height": null,
       "max_width": null,
       "min_height": null,
       "min_width": null,
       "object_fit": null,
       "object_position": null,
       "order": null,
       "overflow": null,
       "overflow_x": null,
       "overflow_y": null,
       "padding": null,
       "right": null,
       "top": null,
       "visibility": null,
       "width": null
      }
     },
     "18b951cd8c1447eaa1e12f972ac37d42": {
      "model_module": "@jupyter-widgets/controls",
      "model_module_version": "1.5.0",
      "model_name": "IntProgressModel",
      "state": {
       "_dom_classes": [],
       "_model_module": "@jupyter-widgets/controls",
       "_model_module_version": "1.5.0",
       "_model_name": "IntProgressModel",
       "_view_count": null,
       "_view_module": "@jupyter-widgets/controls",
       "_view_module_version": "1.5.0",
       "_view_name": "ProgressView",
       "bar_style": "danger",
       "description": "  9%",
       "description_tooltip": null,
       "layout": "IPY_MODEL_9e743ecd26cd4877a539f9bbbd23d114",
       "max": 308,
       "min": 0,
       "orientation": "horizontal",
       "style": "IPY_MODEL_e34fafda1e234d9c981322beff1068e7",
       "value": 29
      }
     },
     "35645b239e914aee807cfdc234fc5b75": {
      "model_module": "@jupyter-widgets/controls",
      "model_module_version": "1.5.0",
      "model_name": "HTMLModel",
      "state": {
       "_dom_classes": [],
       "_model_module": "@jupyter-widgets/controls",
       "_model_module_version": "1.5.0",
       "_model_name": "HTMLModel",
       "_view_count": null,
       "_view_module": "@jupyter-widgets/controls",
       "_view_module_version": "1.5.0",
       "_view_name": "HTMLView",
       "description": "",
       "description_tooltip": null,
       "layout": "IPY_MODEL_dfdee9b109bc4176a0bc3a26ae38f7a3",
       "placeholder": "​",
       "style": "IPY_MODEL_086421f7eec44c769f08f5f68fafafdc",
       "value": " 29/308 [7:12:46&lt;66:18:40, 855.63s/it]"
      }
     },
     "554271f3ed5d48efa844608a0b72fdac": {
      "model_module": "@jupyter-widgets/controls",
      "model_module_version": "1.5.0",
      "model_name": "DescriptionStyleModel",
      "state": {
       "_model_module": "@jupyter-widgets/controls",
       "_model_module_version": "1.5.0",
       "_model_name": "DescriptionStyleModel",
       "_view_count": null,
       "_view_module": "@jupyter-widgets/base",
       "_view_module_version": "1.2.0",
       "_view_name": "StyleView",
       "description_width": ""
      }
     },
     "685ecca481e3463d83a2465f15f7b33f": {
      "model_module": "@jupyter-widgets/controls",
      "model_module_version": "1.5.0",
      "model_name": "IntProgressModel",
      "state": {
       "_dom_classes": [],
       "_model_module": "@jupyter-widgets/controls",
       "_model_module_version": "1.5.0",
       "_model_name": "IntProgressModel",
       "_view_count": null,
       "_view_module": "@jupyter-widgets/controls",
       "_view_module_version": "1.5.0",
       "_view_name": "ProgressView",
       "bar_style": "success",
       "description": "100%",
       "description_tooltip": null,
       "layout": "IPY_MODEL_80ae0d356c3e4b1bbe511c5f5a2694b5",
       "max": 4059,
       "min": 0,
       "orientation": "horizontal",
       "style": "IPY_MODEL_a34804b28be74d7c9972a0a13410ba77",
       "value": 4059
      }
     },
     "7f49d7d685554687bc2d131959058cb3": {
      "model_module": "@jupyter-widgets/base",
      "model_module_version": "1.2.0",
      "model_name": "LayoutModel",
      "state": {
       "_model_module": "@jupyter-widgets/base",
       "_model_module_version": "1.2.0",
       "_model_name": "LayoutModel",
       "_view_count": null,
       "_view_module": "@jupyter-widgets/base",
       "_view_module_version": "1.2.0",
       "_view_name": "LayoutView",
       "align_content": null,
       "align_items": null,
       "align_self": null,
       "border": null,
       "bottom": null,
       "display": null,
       "flex": null,
       "flex_flow": null,
       "grid_area": null,
       "grid_auto_columns": null,
       "grid_auto_flow": null,
       "grid_auto_rows": null,
       "grid_column": null,
       "grid_gap": null,
       "grid_row": null,
       "grid_template_areas": null,
       "grid_template_columns": null,
       "grid_template_rows": null,
       "height": null,
       "justify_content": null,
       "justify_items": null,
       "left": null,
       "margin": null,
       "max_height": null,
       "max_width": null,
       "min_height": null,
       "min_width": null,
       "object_fit": null,
       "object_position": null,
       "order": null,
       "overflow": null,
       "overflow_x": null,
       "overflow_y": null,
       "padding": null,
       "right": null,
       "top": null,
       "visibility": null,
       "width": null
      }
     },
     "80ae0d356c3e4b1bbe511c5f5a2694b5": {
      "model_module": "@jupyter-widgets/base",
      "model_module_version": "1.2.0",
      "model_name": "LayoutModel",
      "state": {
       "_model_module": "@jupyter-widgets/base",
       "_model_module_version": "1.2.0",
       "_model_name": "LayoutModel",
       "_view_count": null,
       "_view_module": "@jupyter-widgets/base",
       "_view_module_version": "1.2.0",
       "_view_name": "LayoutView",
       "align_content": null,
       "align_items": null,
       "align_self": null,
       "border": null,
       "bottom": null,
       "display": null,
       "flex": null,
       "flex_flow": null,
       "grid_area": null,
       "grid_auto_columns": null,
       "grid_auto_flow": null,
       "grid_auto_rows": null,
       "grid_column": null,
       "grid_gap": null,
       "grid_row": null,
       "grid_template_areas": null,
       "grid_template_columns": null,
       "grid_template_rows": null,
       "height": null,
       "justify_content": null,
       "justify_items": null,
       "left": null,
       "margin": null,
       "max_height": null,
       "max_width": null,
       "min_height": null,
       "min_width": null,
       "object_fit": null,
       "object_position": null,
       "order": null,
       "overflow": null,
       "overflow_x": null,
       "overflow_y": null,
       "padding": null,
       "right": null,
       "top": null,
       "visibility": null,
       "width": null
      }
     },
     "840e74b11eb44a58b1ed0433e924dc82": {
      "model_module": "@jupyter-widgets/base",
      "model_module_version": "1.2.0",
      "model_name": "LayoutModel",
      "state": {
       "_model_module": "@jupyter-widgets/base",
       "_model_module_version": "1.2.0",
       "_model_name": "LayoutModel",
       "_view_count": null,
       "_view_module": "@jupyter-widgets/base",
       "_view_module_version": "1.2.0",
       "_view_name": "LayoutView",
       "align_content": null,
       "align_items": null,
       "align_self": null,
       "border": null,
       "bottom": null,
       "display": null,
       "flex": null,
       "flex_flow": null,
       "grid_area": null,
       "grid_auto_columns": null,
       "grid_auto_flow": null,
       "grid_auto_rows": null,
       "grid_column": null,
       "grid_gap": null,
       "grid_row": null,
       "grid_template_areas": null,
       "grid_template_columns": null,
       "grid_template_rows": null,
       "height": null,
       "justify_content": null,
       "justify_items": null,
       "left": null,
       "margin": null,
       "max_height": null,
       "max_width": null,
       "min_height": null,
       "min_width": null,
       "object_fit": null,
       "object_position": null,
       "order": null,
       "overflow": null,
       "overflow_x": null,
       "overflow_y": null,
       "padding": null,
       "right": null,
       "top": null,
       "visibility": null,
       "width": null
      }
     },
     "9e743ecd26cd4877a539f9bbbd23d114": {
      "model_module": "@jupyter-widgets/base",
      "model_module_version": "1.2.0",
      "model_name": "LayoutModel",
      "state": {
       "_model_module": "@jupyter-widgets/base",
       "_model_module_version": "1.2.0",
       "_model_name": "LayoutModel",
       "_view_count": null,
       "_view_module": "@jupyter-widgets/base",
       "_view_module_version": "1.2.0",
       "_view_name": "LayoutView",
       "align_content": null,
       "align_items": null,
       "align_self": null,
       "border": null,
       "bottom": null,
       "display": null,
       "flex": null,
       "flex_flow": null,
       "grid_area": null,
       "grid_auto_columns": null,
       "grid_auto_flow": null,
       "grid_auto_rows": null,
       "grid_column": null,
       "grid_gap": null,
       "grid_row": null,
       "grid_template_areas": null,
       "grid_template_columns": null,
       "grid_template_rows": null,
       "height": null,
       "justify_content": null,
       "justify_items": null,
       "left": null,
       "margin": null,
       "max_height": null,
       "max_width": null,
       "min_height": null,
       "min_width": null,
       "object_fit": null,
       "object_position": null,
       "order": null,
       "overflow": null,
       "overflow_x": null,
       "overflow_y": null,
       "padding": null,
       "right": null,
       "top": null,
       "visibility": null,
       "width": null
      }
     },
     "a34804b28be74d7c9972a0a13410ba77": {
      "model_module": "@jupyter-widgets/controls",
      "model_module_version": "1.5.0",
      "model_name": "ProgressStyleModel",
      "state": {
       "_model_module": "@jupyter-widgets/controls",
       "_model_module_version": "1.5.0",
       "_model_name": "ProgressStyleModel",
       "_view_count": null,
       "_view_module": "@jupyter-widgets/base",
       "_view_module_version": "1.2.0",
       "_view_name": "StyleView",
       "bar_color": null,
       "description_width": "initial"
      }
     },
     "a61c8f56dbd74e29a155fad0d7095f79": {
      "model_module": "@jupyter-widgets/controls",
      "model_module_version": "1.5.0",
      "model_name": "HBoxModel",
      "state": {
       "_dom_classes": [],
       "_model_module": "@jupyter-widgets/controls",
       "_model_module_version": "1.5.0",
       "_model_name": "HBoxModel",
       "_view_count": null,
       "_view_module": "@jupyter-widgets/controls",
       "_view_module_version": "1.5.0",
       "_view_name": "HBoxView",
       "box_style": "",
       "children": [
        "IPY_MODEL_18b951cd8c1447eaa1e12f972ac37d42",
        "IPY_MODEL_35645b239e914aee807cfdc234fc5b75"
       ],
       "layout": "IPY_MODEL_7f49d7d685554687bc2d131959058cb3"
      }
     },
     "c9ab84b07a32426282543b5ff054ddec": {
      "model_module": "@jupyter-widgets/controls",
      "model_module_version": "1.5.0",
      "model_name": "HTMLModel",
      "state": {
       "_dom_classes": [],
       "_model_module": "@jupyter-widgets/controls",
       "_model_module_version": "1.5.0",
       "_model_name": "HTMLModel",
       "_view_count": null,
       "_view_module": "@jupyter-widgets/controls",
       "_view_module_version": "1.5.0",
       "_view_name": "HTMLView",
       "description": "",
       "description_tooltip": null,
       "layout": "IPY_MODEL_840e74b11eb44a58b1ed0433e924dc82",
       "placeholder": "​",
       "style": "IPY_MODEL_554271f3ed5d48efa844608a0b72fdac",
       "value": " 4059/4059 [14:53&lt;00:00,  4.54it/s]"
      }
     },
     "dfdee9b109bc4176a0bc3a26ae38f7a3": {
      "model_module": "@jupyter-widgets/base",
      "model_module_version": "1.2.0",
      "model_name": "LayoutModel",
      "state": {
       "_model_module": "@jupyter-widgets/base",
       "_model_module_version": "1.2.0",
       "_model_name": "LayoutModel",
       "_view_count": null,
       "_view_module": "@jupyter-widgets/base",
       "_view_module_version": "1.2.0",
       "_view_name": "LayoutView",
       "align_content": null,
       "align_items": null,
       "align_self": null,
       "border": null,
       "bottom": null,
       "display": null,
       "flex": null,
       "flex_flow": null,
       "grid_area": null,
       "grid_auto_columns": null,
       "grid_auto_flow": null,
       "grid_auto_rows": null,
       "grid_column": null,
       "grid_gap": null,
       "grid_row": null,
       "grid_template_areas": null,
       "grid_template_columns": null,
       "grid_template_rows": null,
       "height": null,
       "justify_content": null,
       "justify_items": null,
       "left": null,
       "margin": null,
       "max_height": null,
       "max_width": null,
       "min_height": null,
       "min_width": null,
       "object_fit": null,
       "object_position": null,
       "order": null,
       "overflow": null,
       "overflow_x": null,
       "overflow_y": null,
       "padding": null,
       "right": null,
       "top": null,
       "visibility": null,
       "width": null
      }
     },
     "e34fafda1e234d9c981322beff1068e7": {
      "model_module": "@jupyter-widgets/controls",
      "model_module_version": "1.5.0",
      "model_name": "ProgressStyleModel",
      "state": {
       "_model_module": "@jupyter-widgets/controls",
       "_model_module_version": "1.5.0",
       "_model_name": "ProgressStyleModel",
       "_view_count": null,
       "_view_module": "@jupyter-widgets/base",
       "_view_module_version": "1.2.0",
       "_view_name": "StyleView",
       "bar_color": null,
       "description_width": "initial"
      }
     },
     "fd692cff30e343aa8afa007a05d66acc": {
      "model_module": "@jupyter-widgets/controls",
      "model_module_version": "1.5.0",
      "model_name": "HBoxModel",
      "state": {
       "_dom_classes": [],
       "_model_module": "@jupyter-widgets/controls",
       "_model_module_version": "1.5.0",
       "_model_name": "HBoxModel",
       "_view_count": null,
       "_view_module": "@jupyter-widgets/controls",
       "_view_module_version": "1.5.0",
       "_view_name": "HBoxView",
       "box_style": "",
       "children": [
        "IPY_MODEL_685ecca481e3463d83a2465f15f7b33f",
        "IPY_MODEL_c9ab84b07a32426282543b5ff054ddec"
       ],
       "layout": "IPY_MODEL_0e7c81c0da784e04b530236bad005c33"
      }
     }
    },
    "version_major": 2,
    "version_minor": 0
   }
  }
 },
 "nbformat": 4,
 "nbformat_minor": 1
}
