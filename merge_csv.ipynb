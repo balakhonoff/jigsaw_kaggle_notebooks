{
 "cells": [
  {
   "cell_type": "code",
   "execution_count": 56,
   "metadata": {},
   "outputs": [],
   "source": [
    "import pandas as pd\n",
    "from sklearn.utils import shuffle"
   ]
  },
  {
   "cell_type": "code",
   "execution_count": 57,
   "metadata": {},
   "outputs": [],
   "source": [
    "df = pd.read_csv('/home/kb/Documents/jigsaw-toxic-comment-train.csv')\n",
    "df = shuffle(df)"
   ]
  },
  {
   "cell_type": "code",
   "execution_count": 58,
   "metadata": {},
   "outputs": [
    {
     "data": {
      "text/plain": [
       "223549"
      ]
     },
     "execution_count": 58,
     "metadata": {},
     "output_type": "execute_result"
    }
   ],
   "source": [
    "len(df)"
   ]
  },
  {
   "cell_type": "code",
   "execution_count": 10,
   "metadata": {},
   "outputs": [
    {
     "name": "stderr",
     "output_type": "stream",
     "text": [
      "/home/kb/jig_env/lib/python3.7/site-packages/xlsxwriter/worksheet.py:937: UserWarning: Ignoring URL 'https://www.facebook.com/simon.hassan007%20\n",
      "%20https://www.facebook.com/simon.hassan007/photos_albums%20\n",
      "\n",
      "%20๑۞๑,¸¸,ø¤º°%60°๑۩%20ŜĮϻỖŇ%20ĤÃŜŜÃŇ%20ÃŇĮЌ%20๑۩%20,¸¸,ø¤º°%60°๑۞๑%20\n",
      "\n",
      "%20%3e%3e%3eI%20Hate%20Love%20Story%3c%3c%3c%20%20██████████████%5d%2099%25%20\n",
      "%20আমি%20পরিচিত%20ছাড়া%20কাউকে%20add%20করি%20না%20...!%20\n",
      "%20সুধু%20মাত্র%20চেনা%20জানা%20ছাড়া,,%20\n",
      "%20এই%20জিনিষ%20গুলো%20নিয়ে%20\n",
      "%20কখনো%20খেলবেন%20না%20।%20\n",
      "\n",
      "%20%20%20%20%20____কারো%20বিশ্বাস%20,%20\n",
      "%20%20%20%20%20____কারো%20আশা%20,%20\n",
      "%20%20%20%20%20____কারো%20মন%20,%20\n",
      "%20%20%20%20%20____কারো%20স্বপ্ন%20,%20\n",
      "%20%20%20%20%20____কারো%20সম্মান%20,%20\n",
      "%20%20%20%20%20____কারো%20দুর্বলতা%20,%20\n",
      "%20%20%20%20%20____কারো%20জীবন%20এবং%20\n",
      "%20%20%20%20%20____কারো%20ভালোবাসা%20।%20\n",
      "\n",
      "%20কিছু%20না%20ভেঙ্গে%20কিছু%20\n",
      "%20গড়তে%20শিখুন%20l%20\n",
      "%20পানিতে%20চাঁদ%20দেখে%20ঝাপ%20\n",
      "%20দিওনা,%20\n",
      "%20চাঁদতো%20পাবেই%20না.%20\n",
      "\n",
      "%20%20\n",
      "\n",
      "%20শুধু%20\n",
      "%20ডুবে%20মরবে.....%20\n",
      "%20সুন্দর%20মুখ%20\n",
      "%20দেখে%20ভালোবেসো%20না,%20\n",
      "%20ভালোবাসা%20তো%20পাবেইনা%20\n",
      "%20বরং%20জীবনটা%20নষ্ট%20হয়ে%20যাবে%20\n",
      "\n",
      "%20๑۞๑,¸¸,ø¤º°%60°๑۩%20%20☼✿%20%20%20%20☁%20নীল%20আকাশে%20নিচে%20থাকা%20☼%20✿%20%20%20%20☁%20…!%20\n",
      "%20☂%20ছাতি%20নিচে%20একা%20একা%20বৃষ্টিতে%20ϟ%20❅%20ভিজা…..!%20\n",
      "%20যদি%20সাথে%20কেউ%20থাকে%20তাহলে%20আরো%20ভালো….!!%20\n",
      "%20আর%20রাতে%20☪%20একা%20মনে%20✪%20চাঁদের%20✡%20দিকে%20তাকিয়ে%20থাকা…..!%20\n",
      "%20গান%20শোনা,%20♪♫….!!!%20\n",
      "%20ছবি%20আকাঁ%20✍%20\n",
      "%20ইত্যাদি।%20ইত্যাদি।%20\n",
      "%20웃%20%20%20%20유%20বন্ধুদের%20সাথে%20আড্ডা%20✌%20ও%20একসাখে%20খাওয়া%20আনন্দ%20মাসতি%20Joks%20Fun%20আর%20একটু%20বিনেদন%20ツ%20\n",
      "%20বনভোজন%20☮✈%20করা…!%20\n",
      "%20ইচ্ছা%20আছে%20পুরা%20দেশটা%20☮✈%20গোড়ার%20P%20।%20\n",
      "%20%20এবং%20বড়দের%20প্রতি%20সম্মান%20Respect%20☑,%20\n",
      "%20%20বেশি%20ভাগ%20ফি%20মাইনডে%20কথা%20বলা%20পছন্দ%20করি%20❣❤❥%20!%20পোচানো%20কথা%20শুনা%20ও%20বলা%20পছন্দ%20করি%20না%20☒,%20যা%20কথা%20Shortcut%20Label%20কথা%20পছন্দ%20করি%20☑%20…!!!!!%20আর%20একটা%20ভালো%20Friend%20চাই%20যে%20নাকি%20সুখ%20দুঃখে%20থাকবে%20বিপদের%20বন্ধু…%20%3c3%20%20‘(%20\n",
      "%20**বন্ধু%20হচ্ছে%20ছায়াদানকারী%20বৃক্ষের%20মতো।%20\n",
      "%20সারাজীবনের%20জন্য%20একজন%20প্রকৃত%20বন্ধুই%20যথেষ্ট।%20যে%20বন্ধু%20তোমার%20উপকারে%20আসবে.%20তার%20সাথে%20সর্বদা%20থাকবে।%20๑۩%20,¸¸,ø¤º°%60°๑۞๑' with link or location/anchor > 2079 characters since it exceeds Excel's limit for URLS\n",
      "  (force_unicode(url), max_url))\n",
      "/home/kb/jig_env/lib/python3.7/site-packages/xlsxwriter/worksheet.py:937: UserWarning: Ignoring URL 'http://meami.org/%20\n",
      "\n",
      "%20This%20is%20the%20html%20version%20of%20the%20file%20http://claymath.org/library/monographs/MPPc.pdf.%20\n",
      "%20Google%20automatically%20generates%20html%20versions%20of%20documents%20as%20we%20crawl%20the%20web.%20\n",
      "%20Page%201%20%20\n",
      "%20The%20MillenniumPrize%20ProblemsJ.%20Carlson,%20A.%20Jaffe,%20and%20A.%20Wiles,%20EditorsClay%20Mathematics%20InstituteAmerican%20Mathematical%20SocietyA%20History%20of%20Prizes%20in%20MathematicsBirch%20and%20Swinnerton-Dyer%20ConjectureHodge%20ConjectureNavier–Stokes%20EquationPoincaré%20ConjectureP%20versus%20NP%20ProblemRiemann%20HypothesisQuantum%20Yang–Mills%20TheoryJeremy%20GrayAndrew%20WilesPierre%20DeligneCharles%20L.%20FeffermanJohn%20MilnorStephen%20CookEnrico%20BombieriArthur%20Jaffe%20and%20Edward%20WittenThe%20Millennium%20Prize%20Problems%20J.%20Carlson,%20A.%20Jaffe,%20and%20A.%20Wiles,%20EditorsCMIAMS%20\n",
      "\n",
      "%20Page%202%20%20\n",
      "\n",
      "%20%20\n",
      "%20Page%203%20%20\n",
      "\n",
      "%20%20\n",
      "%20Page%204%20%20\n",
      "%20The%20Millennium%20Prize%20Problems%20\n",
      "\n",
      "%20Page%205%20%20\n",
      "\n",
      "%20%20\n",
      "%20Page%206%20%20\n",
      "%20ContentsIntroductionviiLandon%20T.%20ClayxiStatement%20of%20the%20Directors%20andthe%20Scientific%20Advisory%20BoardxvA%20History%20of%20Prizes%20in%20MathematicsJeremy%20Gray3The%20Birch%20and%20Swinnerton-Dyer%20ConjectureAndrew%20Wiles31The%20Hodge%20ConjecturePierre%20Deligne45Existence%20and%20Smoothness%20of%20the%20Navier–Stokes%20EquationCharles%20L.%20Fefferman57The%20Poincaré%20ConjectureJohn%20Milnor71The%20P%20versus%20NP%20ProblemStephen%20Cook87The%20Riemann%20HypothesisEnrico%20Bombieri107Quantum%20Yang–Mills%20TheoryArthur%20Jaffe%20and%20Edward%20Witten129Rules%20for%20the%20Millennium%20Prizes153Authors’%20Biographies157Picture%20Credits161v%20\n",
      "\n",
      "%20Page%207%20%20\n",
      "\n",
      "%20%20\n",
      "%20Page%208%20%20\n",
      "%20IntroductionThe%20Clay%20Mathematics%20Institute%20(CMI)%20grew%20out%20of%20the%20longstandingbelief%20of%20its%20founder,%20Mr.%20Landon%20T.%20Clay,%20in%20the%20value%20of%20mathematicalknowledge%20and%20its%20centrality%20to%20human%20progress,%20culture,%20and%20intellectuallife.%20Discussions%20over%20some%20years%20with%20Professor%20Arthur%20Jaffe%20helped%20shapeMr.%20Clay’s%20ideas%20of%20how%20the%20advancement%20of%20mathematics%20could%20best%20be%20sup-ported.%20These%20discussions%20resulted%20in%20the%20incorporation%20of%20the%20Institute%20onSeptember%2025,%201998,%20under%20Professor%20Jaffe’s%20leadership.%20The%20primary%20objec-tives%20and%20purposes%20of%20the%20Clay%20Mathematics%20Institute%20are%20“to%20increase%20anddisseminate%20mathematical%20knowledge;%20to%20educate%20mathematicians%20and%20otherscientists%20about%20new%20discoveries%20in%20the%20field%20of%20mathematics;%20to%20encouragegifted%20students%20to%20pursue%20mathematical%20careers;%20and%20to%20recognize%20extraordi-nary%20achievements%20and%20advances%20in%20mathematical%20research.”%20CMI%20seeks%20to“further%20the%20beauty,%20power%20and%20universality%20of%20mathematical%20thinking.”Very%20early%20on,%20the%20Institute,%20led%20by%20its%20founding%20scientific%20board%20—%20AlainConnes,%20Arthur%20Jaffe,%20Edward%20Witten,%20and%20Andrew%20Wiles%20—%20decided%20toestablish%20a%20small%20set%20of%20prize%20problems.%20The%20aim%20was%20not%20to%20define%20newchallenges,%20as%20Hilbert%20had%20done%20a%20century%20earlier%20when%20he%20announced%20his%20listof%20twenty-three%20problems%20at%20the%20International%20Congress%20of%20Mathematiciansin%20Paris%20in%20the%20summer%20of%201900.%20Rather,%20it%20was%20to%20record%20some%20of%20the%20mostdifficult%20issues%20with%20which%20mathematicians%20were%20struggling%20at%20the%20turn%20of%20thesecond%20millennium;%20to%20recognize%20achievement%20in%20mathematics%20of%20historicaldimension;%20to%20elevate%20in%20the%20consciousness%20of%20the%20general%20public%20the%20factthat,%20in%20mathematics,%20the%20frontier%20is%20still%20open%20and%20abounds%20in%20importantunsolved%20problems;%20and%20to%20emphasize%20the%20importance%20of%20working%20towardsolutions%20of%20the%20deepest,%20most%20difficult%20problems.After%20consulting%20with%20leading%20members%20of%20the%20mathematical%20community,a%20final%20list%20of%20seven%20problems%20was%20agreed%20upon:%20the%20Birch%20and%20Swinnerton-Dyer%20Conjecture,%20the%20Hodge%20Conjecture,%20the%20Existence%20and%20Uniqueness%20Prob-lem%20for%20the%20Navier–Stokes%20Equations,%20the%20Poincaré%20Conjecture,%20the%20P%20ver-sus%20NP%20problem,%20the%20Riemann%20Hypothesis,%20and%20the%20Mass%20Gap%20problem%20forQuantum%20Yang–Mills%20Theory.%20A%20set%20of%20rules%20was%20established,%20and%20a%20prizefund%20of%20US$7%20million%20was%20set%20up,%20this%20sum%20to%20be%20allocated%20in%20equal%20parts%20tothe%20seven%20problems.%20No%20time%20limit%20exists%20for%20their%20solution.vii%20\n",
      "\n",
      "%20Page%209%20%20\n",
      "%20viiiMILLENNIUM%20PRIZE%20PROBLEMSThe%20prize%20was%20announced%20at%20a%20meeting%20on%20May%2024,%202000,%20at%20the%20Coll%60egede%20France.%20On%20page%20xv%20we%20reproduce%20the%20original%20statement%20of%20the%20Directorsand%20the%20Scientific%20Advisory%20Board.%20John%20Tate%20and%20Michael%20Atiyah%20each%20spokeabout%20the%20Millennium%20Prize%20Problems:%20Tate%20on%20the%20Riemann%20Hypothesis,%20theBirch%20and%20Swinnerton-Dyer%20Problem,%20and%20the%20P%20vs%20NP%20problem;%20Atiyah%20onthe%20Existence%20and%20Uniqueness%20Problem%20for%20the%20Navier–Stokes%20Equat' with link or location/anchor > 2079 characters since it exceeds Excel's limit for URLS\n",
      "  (force_unicode(url), max_url))\n"
     ]
    }
   ],
   "source": [
    "df.to_excel('/home/kb/Documents/jigsaw-toxic-comment-train.xlsx', engine='xlsxwriter', index=False)"
   ]
  },
  {
   "cell_type": "code",
   "execution_count": 59,
   "metadata": {},
   "outputs": [
    {
     "name": "stdout",
     "output_type": "stream",
     "text": [
      "0\n",
      "1\n",
      "2\n"
     ]
    }
   ],
   "source": [
    "\n",
    "N_pts = 4\n",
    "pt_sz = int(len(df)/N_pts)\n",
    "for i in range(N_pts-1):\n",
    "    df.iloc[i*pt_sz:(i+1)*pt_sz].to_csv(f'/home/kb/Documents/4jigsaw-toxic-comment-train_pt{i}.csv', index=False)\n",
    "    print(i)\n",
    "df.iloc[(N_pts-1)*pt_sz:].to_csv(f'/home/kb/Documents/4jigsaw-toxic-comment-train_pt{N_pts-1}.csv', index=False)"
   ]
  },
  {
   "cell_type": "code",
   "execution_count": 13,
   "metadata": {},
   "outputs": [],
   "source": [
    "df = pd.read_csv('/kaggle/input/jigsaw-multilingual-toxic-comment-classification/test.csv')"
   ]
  },
  {
   "cell_type": "code",
   "execution_count": 14,
   "metadata": {},
   "outputs": [
    {
     "data": {
      "text/plain": [
       "array(['tr', 'ru', 'it', 'fr', 'pt', 'es'], dtype=object)"
      ]
     },
     "execution_count": 14,
     "metadata": {},
     "output_type": "execute_result"
    }
   ],
   "source": [
    "df.lang.unique()"
   ]
  },
  {
   "cell_type": "code",
   "execution_count": 15,
   "metadata": {},
   "outputs": [],
   "source": [
    "df = pd.read_csv('/kaggle/input/jigsaw-multilingual-toxic-comment-classification/validation.csv')"
   ]
  },
  {
   "cell_type": "code",
   "execution_count": 16,
   "metadata": {},
   "outputs": [
    {
     "data": {
      "text/plain": [
       "array(['es', 'it', 'tr'], dtype=object)"
      ]
     },
     "execution_count": 16,
     "metadata": {},
     "output_type": "execute_result"
    }
   ],
   "source": [
    "df.lang.unique()"
   ]
  },
  {
   "cell_type": "code",
   "execution_count": 46,
   "metadata": {},
   "outputs": [
    {
     "name": "stdout",
     "output_type": "stream",
     "text": [
      "tr\n",
      "ru\n",
      "it\n",
      "fr\n",
      "pt\n",
      "es\n"
     ]
    }
   ],
   "source": [
    "df = None\n",
    "for lang in ['tr', 'ru', 'it', 'fr', 'pt', 'es']:\n",
    "    print(lang)\n",
    "    if lang == 'tr':\n",
    "        df = pd.read_csv(f'/media/ssd/Downloads/jigsaw-toxic-comment-train_pt0_{lang} - jigsaw-toxic-comment-train_pt0.csv')\\\n",
    "            .drop(['comment_text'], axis=1).rename(columns={lang:'comment_text'})\n",
    "    else:\n",
    "        df = df.append(pd.read_csv(f'/media/ssd/Downloads/jigsaw-toxic-comment-train_pt0_{lang} - jigsaw-toxic-comment-train_pt0.csv')\\\n",
    "                  .drop(['comment_text'], axis=1).rename(columns={lang:'comment_text'}))\n",
    "        \n",
    "        \n",
    "    "
   ]
  },
  {
   "cell_type": "code",
   "execution_count": 47,
   "metadata": {},
   "outputs": [
    {
     "data": {
      "text/html": [
       "<div>\n",
       "<style scoped>\n",
       "    .dataframe tbody tr th:only-of-type {\n",
       "        vertical-align: middle;\n",
       "    }\n",
       "\n",
       "    .dataframe tbody tr th {\n",
       "        vertical-align: top;\n",
       "    }\n",
       "\n",
       "    .dataframe thead th {\n",
       "        text-align: right;\n",
       "    }\n",
       "</style>\n",
       "<table border=\"1\" class=\"dataframe\">\n",
       "  <thead>\n",
       "    <tr style=\"text-align: right;\">\n",
       "      <th></th>\n",
       "      <th>id</th>\n",
       "      <th>toxic</th>\n",
       "      <th>severe_toxic</th>\n",
       "      <th>obscene</th>\n",
       "      <th>threat</th>\n",
       "      <th>insult</th>\n",
       "      <th>identity_hate</th>\n",
       "      <th>comment_text</th>\n",
       "    </tr>\n",
       "  </thead>\n",
       "  <tbody>\n",
       "    <tr>\n",
       "      <th>0</th>\n",
       "      <td>0000997932d777bf</td>\n",
       "      <td>0</td>\n",
       "      <td>0</td>\n",
       "      <td>0</td>\n",
       "      <td>0</td>\n",
       "      <td>0</td>\n",
       "      <td>0</td>\n",
       "      <td>açıklama\\nNeden kullanıcı adım Hardcore Metall...</td>\n",
       "    </tr>\n",
       "    <tr>\n",
       "      <th>1</th>\n",
       "      <td>000103f0d9cfb60f</td>\n",
       "      <td>0</td>\n",
       "      <td>0</td>\n",
       "      <td>0</td>\n",
       "      <td>0</td>\n",
       "      <td>0</td>\n",
       "      <td>0</td>\n",
       "      <td>D'aww! O görünüşte ile sıkışmış ediyorum bu ar...</td>\n",
       "    </tr>\n",
       "    <tr>\n",
       "      <th>2</th>\n",
       "      <td>000113f07ec002fd</td>\n",
       "      <td>0</td>\n",
       "      <td>0</td>\n",
       "      <td>0</td>\n",
       "      <td>0</td>\n",
       "      <td>0</td>\n",
       "      <td>0</td>\n",
       "      <td>Hey dostum, gerçekten düzenleme savaşa çalışmı...</td>\n",
       "    </tr>\n",
       "    <tr>\n",
       "      <th>3</th>\n",
       "      <td>0001b41b1c6bb37e</td>\n",
       "      <td>0</td>\n",
       "      <td>0</td>\n",
       "      <td>0</td>\n",
       "      <td>0</td>\n",
       "      <td>0</td>\n",
       "      <td>0</td>\n",
       "      <td>\"\\nDaha\\nbölüm istatistikleri sonradan olmalı ...</td>\n",
       "    </tr>\n",
       "    <tr>\n",
       "      <th>4</th>\n",
       "      <td>0001d958c54c6e35</td>\n",
       "      <td>0</td>\n",
       "      <td>0</td>\n",
       "      <td>0</td>\n",
       "      <td>0</td>\n",
       "      <td>0</td>\n",
       "      <td>0</td>\n",
       "      <td>Sen, benim kahraman efendim. Herhangi bir şans...</td>\n",
       "    </tr>\n",
       "  </tbody>\n",
       "</table>\n",
       "</div>"
      ],
      "text/plain": [
       "                 id  toxic  severe_toxic  obscene  threat  insult  \\\n",
       "0  0000997932d777bf      0             0        0       0       0   \n",
       "1  000103f0d9cfb60f      0             0        0       0       0   \n",
       "2  000113f07ec002fd      0             0        0       0       0   \n",
       "3  0001b41b1c6bb37e      0             0        0       0       0   \n",
       "4  0001d958c54c6e35      0             0        0       0       0   \n",
       "\n",
       "   identity_hate                                       comment_text  \n",
       "0              0  açıklama\\nNeden kullanıcı adım Hardcore Metall...  \n",
       "1              0  D'aww! O görünüşte ile sıkışmış ediyorum bu ar...  \n",
       "2              0  Hey dostum, gerçekten düzenleme savaşa çalışmı...  \n",
       "3              0  \"\\nDaha\\nbölüm istatistikleri sonradan olmalı ...  \n",
       "4              0  Sen, benim kahraman efendim. Herhangi bir şans...  "
      ]
     },
     "execution_count": 47,
     "metadata": {},
     "output_type": "execute_result"
    }
   ],
   "source": [
    "df.head()"
   ]
  },
  {
   "cell_type": "code",
   "execution_count": 48,
   "metadata": {},
   "outputs": [
    {
     "data": {
      "text/plain": [
       "134124"
      ]
     },
     "execution_count": 48,
     "metadata": {},
     "output_type": "execute_result"
    }
   ],
   "source": [
    "len(df)"
   ]
  },
  {
   "cell_type": "code",
   "execution_count": 49,
   "metadata": {},
   "outputs": [],
   "source": [
    "df.to_csv('/kaggle/input/jigsaw-multilingual-toxic-comment-classification/toxic_pt0_all_lng.csv',index=False)"
   ]
  },
  {
   "cell_type": "code",
   "execution_count": 1,
   "metadata": {},
   "outputs": [
    {
     "data": {
      "text/plain": [
       "'8bf5ec3c-16dc-42bf-af23-73b77633d4fd'"
      ]
     },
     "execution_count": 1,
     "metadata": {},
     "output_type": "execute_result"
    }
   ],
   "source": [
    "import uuid\n",
    "filename = str(uuid.uuid4())\n",
    "filename"
   ]
  }
 ],
 "metadata": {
  "kernelspec": {
   "display_name": "jig_env",
   "language": "python",
   "name": "jig_env"
  },
  "language_info": {
   "codemirror_mode": {
    "name": "ipython",
    "version": 3
   },
   "file_extension": ".py",
   "mimetype": "text/x-python",
   "name": "python",
   "nbconvert_exporter": "python",
   "pygments_lexer": "ipython3",
   "version": "3.7.6"
  }
 },
 "nbformat": 4,
 "nbformat_minor": 4
}
